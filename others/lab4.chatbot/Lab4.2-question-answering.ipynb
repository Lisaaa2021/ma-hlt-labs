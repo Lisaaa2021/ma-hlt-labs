{
 "cells": [
  {
   "cell_type": "markdown",
   "metadata": {},
   "source": [
    "# Lab 4.2 - Chatbot for question-answering\n",
    "\n",
    "Copyright, Vrije Universiteit Amsterdam, Faculty of Humanities, CLTL\n",
    "\n",
    "In this notebook, we will create a Telegram chatbot that will answer questions, given a predefined question-answer set. "
   ]
  },
  {
   "cell_type": "markdown",
   "metadata": {},
   "source": [
    "**Main goal of this notebook**: The most important goal of this notebook is to have a Telegram chatbot that you can ask factual questions to, and receive predefined answers."
   ]
  },
  {
   "cell_type": "markdown",
   "metadata": {},
   "source": [
    "**At the end of this notebook, you will**:\n",
    "* **Use a predefined question - answering dataset** "
   ]
  },
  {
   "cell_type": "markdown",
   "metadata": {},
   "source": [
    "## Using a question-answer dictionary"
   ]
  },
  {
   "cell_type": "markdown",
   "metadata": {},
   "source": [
    "We can use the BotHandler created in the previous notebook. To keep this notebook clear, we moved this to an external file called *utils.py* and import it from there. You can see *utils.py* in the same folder next to this notebook. You can open this file in Jupyter notebook/lab just like a notebook. You can see it has the same functions we have shown before in the introduction notebook.\n",
    "\n",
    "We can load it in the same way as we import other packages because the notebook will look locally for any Python file with this name. After importing, all the functions defined there can be used in this notebook. Here we specifically import the *read_token* function and *BotHandler* class."
   ]
  },
  {
   "cell_type": "code",
   "execution_count": 1,
   "metadata": {},
   "outputs": [],
   "source": [
    "import json\n",
    "import random\n",
    "\n",
    "from utils import read_token, BotHandler"
   ]
  },
  {
   "cell_type": "markdown",
   "metadata": {},
   "source": [
    "For answering question, we are going to load another json file from the data folder that has a structure defined according to the API of Telegram. To inspect this file, you can also double click it and open it in Jupyter notebook/lab.\n",
    "\n",
    "You see a structure with 17 different items in JSON format. Each item consists of a category, a list of questions and a list of responses. The principle is very simple. If the bot finds a match for the questions, it will generate one of the responses (randomly from the list). Have fun reading through the items. You see it is easy to extend this file with your own reponses to questions.\n",
    "\n",
    "The following function using the *json* package can load any well-formed JSON file and return its data structure:"
   ]
  },
  {
   "cell_type": "code",
   "execution_count": 2,
   "metadata": {},
   "outputs": [],
   "source": [
    "def read_qa(qa_path):\n",
    "    with open(qa_path) as f:\n",
    "        qa_data = json.load(f)\n",
    "\n",
    "    return qa_data"
   ]
  },
  {
   "cell_type": "markdown",
   "metadata": {},
   "source": [
    "We use this function to load the *q-and-a.json* file in addition to the token. We also set the user_id."
   ]
  },
  {
   "cell_type": "code",
   "execution_count": 3,
   "metadata": {},
   "outputs": [],
   "source": [
    "CLTL_TOKEN = read_token()\n",
    "user_id = 408043639\n",
    "qa_data = read_qa(qa_path = './data/q-and-a.json')"
   ]
  },
  {
   "cell_type": "markdown",
   "metadata": {},
   "source": [
    "The *json* package provides a way to inspect the data structure that is loaded. Let's look at the first item:"
   ]
  },
  {
   "cell_type": "code",
   "execution_count": 4,
   "metadata": {},
   "outputs": [
    {
     "name": "stdout",
     "output_type": "stream",
     "text": [
      "{\n",
      "  \"category\": \"greeting\",\n",
      "  \"questions\": [\n",
      "    \"Hi there\",\n",
      "    \"How are you\",\n",
      "    \"Is anyone there\",\n",
      "    \"Hey\",\n",
      "    \"Hola\",\n",
      "    \"Hello\",\n",
      "    \"Good day\"\n",
      "  ],\n",
      "  \"responses\": [\n",
      "    \"Hello\",\n",
      "    \"Good to see you again\",\n",
      "    \"Hi there, how can I help\"\n",
      "  ]\n",
      "}\n"
     ]
    }
   ],
   "source": [
    "# Explore the structure of the qa_data\n",
    "print(json.dumps(qa_data['intents'][0], indent=2))"
   ]
  },
  {
   "cell_type": "markdown",
   "metadata": {},
   "source": [
    "We also need a function that can select a response from this structure given any message that is the input."
   ]
  },
  {
   "cell_type": "code",
   "execution_count": 5,
   "metadata": {},
   "outputs": [],
   "source": [
    "def create_response(message, qa_data):\n",
    "    ### We initialise the respond with the cannot answer respond, in case we cannot process the message\n",
    "    response = \"I cannot respond to this\"\n",
    "    \n",
    "    for i in qa_data['intents']:\n",
    "        if message in i['questions']:\n",
    "            response = random.choice(i['responses'])\n",
    "            break\n",
    "    \n",
    "    return response"
   ]
  },
  {
   "cell_type": "code",
   "execution_count": 6,
   "metadata": {},
   "outputs": [
    {
     "name": "stdout",
     "output_type": "stream",
     "text": [
      "Received: Hi there\n",
      "Responded: Hello\n"
     ]
    }
   ],
   "source": [
    "bot = BotHandler(CLTL_TOKEN)\n",
    "last_message = bot.get_last_message_by(user_id)\n",
    "if not last_message:\n",
    "    last_message = \"I am just saying something\"\n",
    "response = create_response(last_message, qa_data)\n",
    "bot.send_message_to(user_id, response)\n",
    "\n",
    "\n",
    "print(\"Received: {message}\".format(message=last_message))\n",
    "print(\"Responded: {response}\".format(response=response))"
   ]
  },
  {
   "cell_type": "markdown",
   "metadata": {},
   "source": [
    "## End of this notebook"
   ]
  },
  {
   "cell_type": "code",
   "execution_count": null,
   "metadata": {},
   "outputs": [],
   "source": []
  }
 ],
 "metadata": {
  "kernelspec": {
   "display_name": "Python 3",
   "language": "python",
   "name": "python3"
  },
  "language_info": {
   "codemirror_mode": {
    "name": "ipython",
    "version": 3
   },
   "file_extension": ".py",
   "mimetype": "text/x-python",
   "name": "python",
   "nbconvert_exporter": "python",
   "pygments_lexer": "ipython3",
   "version": "3.8.5"
  }
 },
 "nbformat": 4,
 "nbformat_minor": 4
}
