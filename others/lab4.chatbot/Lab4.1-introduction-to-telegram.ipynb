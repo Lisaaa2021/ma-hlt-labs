{
 "cells": [
  {
   "cell_type": "markdown",
   "metadata": {},
   "source": [
    "# Lab 4.1 - Introduction to Telegram\n",
    "\n",
    "Copyright, Vrije Universiteit Amsterdam, Faculty of Humanities, CLTL\n",
    "\n",
    "In this notebook, we will use the [Telegram](https://telegram.org/) API to build a chatbot that you can send and receive messages from. \n",
    "\n",
    "An [Application Programming Interface](https://g.co/kgs/RhQbFu) (or API) is a set of functions that allows you to interact with another application (such as Telegram). \n",
    "\n",
    "Telegram is a messaging app similar to Facebook messenger or WhatsApp. We use Telegram because it is a fast and encrypted messaging application that is open-source. This means that anyone can verify their code or get their hands dirty and create their own chatbots. WHat is also nice is that you can easily share your own chatbot with your friends and family or ask anybody to test it."
   ]
  },
  {
   "cell_type": "markdown",
   "metadata": {},
   "source": [
    "**Main goal of this notebook**: The most important goal of this notebook is to have your first Telegram chatbot up and running."
   ]
  },
  {
   "cell_type": "markdown",
   "metadata": {},
   "source": [
    "**At the end of this notebook, you will**:\n",
    "\n",
    "* **Have created your own Telegram account**: \n",
    "* **Have access to the CLTL Telegram chatbot**: \n",
    "* **Have created a Telegram chatbot**: \n",
    "* **Be able to receive messages sent to a chatbot**:  \n",
    "* **Be able to send messages via a chatbot**"
   ]
  },
  {
   "cell_type": "markdown",
   "metadata": {},
   "source": [
    "### Getting Telegram"
   ]
  },
  {
   "cell_type": "markdown",
   "metadata": {},
   "source": [
    "The first thing you will need to do is download the [Telegram](https://telegram.org/apps) application. You can choose to have it on mobile (Android or iOS) or access it via a Desktop application (Windows, masOS). Using Telegram requires a phone number, so be prepared to provide this information. The set up of your account will ask for a photo (optional) and a name. You can use any name or nickname that you like. "
   ]
  },
  {
   "cell_type": "markdown",
   "metadata": {},
   "source": [
    "Telegram will feel very familiar to you if you have used any messaging app before. The interface is intuitive with regards to how to send messages and see you latest chats. "
   ]
  },
  {
   "cell_type": "markdown",
   "metadata": {},
   "source": [
    "A benefit of Telegram is that to chat with someone you do not need to share your phone number, you can simple share your username. Still, if you are sensitive about these apps, you can go to the privacy settings and disable some of the options there such as who can see your \"Last seen\". \n",
    "\n",
    "![Privacy settings](images/privacy.png)"
   ]
  },
  {
   "cell_type": "markdown",
   "metadata": {},
   "source": [
    "## Chatting with the CLTL Telegram chatbot"
   ]
  },
  {
   "cell_type": "markdown",
   "metadata": {},
   "source": [
    "First things first, you will need the following Python packages to run this notebook. Remember that you can install a package by using `conda install requests` from the command line."
   ]
  },
  {
   "cell_type": "code",
   "execution_count": 1,
   "metadata": {},
   "outputs": [],
   "source": [
    "import json\n",
    "import datetime\n",
    "import requests"
   ]
  },
  {
   "cell_type": "markdown",
   "metadata": {},
   "source": [
    "### Sending messages to the chatbot"
   ]
  },
  {
   "cell_type": "markdown",
   "metadata": {},
   "source": [
    "We have created a chatbot for our research group [(Computational Lexicology & Terminology Lab or CLTL](http://www.cltl.nl/)). In order to send a message to the CLTL chatbot you can click this [link](http://t.me/cltl_bot). You can also go to \"New message\" in the Telegram application, and then search for the username \"*cltl_bot*\"."
   ]
  },
  {
   "cell_type": "markdown",
   "metadata": {},
   "source": [
    "You can send messages to this bot, but currently it has no capability to respond, so you will just be chatting with yourself."
   ]
  },
  {
   "cell_type": "markdown",
   "metadata": {},
   "source": [
    "### Receiving messages to the chatbot"
   ]
  },
  {
   "cell_type": "markdown",
   "metadata": {},
   "source": [
    "In order to control a bot through the Telegram API you need to have a private token. This token allows you to read and process the messages sent to the chatbot, while nobody else can unless they have this token. The token for the CLTL bot has been given to you in a **JSON** file. Please place the \"*tokens.json*\" file under the \"*data*\" folder of this lab."
   ]
  },
  {
   "cell_type": "markdown",
   "metadata": {},
   "source": [
    "The folowing function will read the **JSON** file into a Python variable for usage in this notebook."
   ]
  },
  {
   "cell_type": "code",
   "execution_count": 2,
   "metadata": {},
   "outputs": [],
   "source": [
    "def read_token():\n",
    "    tokens_path = './data/tokens.json'\n",
    "    with open(tokens_path) as f:\n",
    "        tokens = json.load(f)\n",
    "\n",
    "    return tokens['CLTL_token']"
   ]
  },
  {
   "cell_type": "code",
   "execution_count": 3,
   "metadata": {},
   "outputs": [],
   "source": [
    "### this only works if you place the tokens.json file with the right structure and your token in the data folder\n",
    "CLTL_TOKEN = read_token()"
   ]
  },
  {
   "cell_type": "markdown",
   "metadata": {},
   "source": [
    "Next, to filter the messages coming from a specific user you will need to know that user ID. Let's start by getting your own user ID. Not surprisingly, there is a bot for that! (You can see a pattern here)\n",
    "\n",
    "To get your user ID you can send a message to the [userinfobot](https://t.me/userinfobot). Sending any message to this bot will return your Telegram user information, including your ID. You can take this ID and assign it to a Python variable."
   ]
  },
  {
   "cell_type": "code",
   "execution_count": 4,
   "metadata": {},
   "outputs": [],
   "source": [
    "user_id = 408043639"
   ]
  },
  {
   "cell_type": "markdown",
   "metadata": {},
   "source": [
    "The last thing you will need is some methods to use the telegram API. We have done this for you. Take your time to look at the code. It is no problem if you do not get everything. You are only going to use this code and not change it.\n",
    "\n",
    "The following Python class *BotHandler* gives you access to the three methods:\n",
    "\n",
    "* Get all the messages sent to the bot\n",
    "* Get the last message sent to the bot by a specific user\n",
    "* Let the bot send a message to a specific user. "
   ]
  },
  {
   "cell_type": "code",
   "execution_count": 5,
   "metadata": {},
   "outputs": [],
   "source": [
    "class BotHandler:\n",
    "    #### This is an init function that creates an instance of the class BotHandler that we are defining\n",
    "    #### It assign the secret token and sets the URL for the API\n",
    "    def __init__(self, token):\n",
    "        self.token = token\n",
    "        self.api_url = \"https://api.telegram.org/bot{}/\".format(token)\n",
    "\n",
    "    def get_all_messages(self, offset=None, timeout=200):  ### If things get slow, timeout sets the limit to wait for a response\n",
    "        \"\"\" Function to get all messages sent to the bot \"\"\"\n",
    "        method = 'getUpdates'\n",
    "        params = {'timeout': timeout, 'offset': offset}\n",
    "        resp = requests.get(self.api_url + method, params)\n",
    "        \n",
    "        if resp.status_code == 401:  \n",
    "            print(\"Error: Unauthorized access. Please check the Bot's token\")\n",
    "        \n",
    "        if resp.status_code == 200:\n",
    "            if resp.json() and 'result' in resp.json():\n",
    "                return resp.json()['result']\n",
    "            else:\n",
    "                print(\"Error: No messages found\")\n",
    "    \n",
    "    def filter_messages_by(self, update, chat_id):\n",
    "        \"\"\" Function to filter messages by user id\"\"\"\n",
    "        return 'message' in update.keys() and update['message']['chat']['id'] == chat_id\n",
    "\n",
    "    def get_last_message_by(self, chat_id):\n",
    "        \"\"\" Function to get the last message sent to the bot by a specific user\"\"\"\n",
    "        messages = self.get_all_messages()\n",
    "        if messages:\n",
    "            messages_by_user = list(filter(lambda m: self.filter_messages_by(m, chat_id), messages))\n",
    "            \n",
    "            if messages_by_user:\n",
    "                last_message = None\n",
    "                if messages_by_user and 'message' in messages_by_user[-1].keys():\n",
    "                    last_message = messages_by_user[-1]['message']['text']\n",
    "\n",
    "                return last_message\n",
    "            else:\n",
    "                print(\"Error: No messages by this user found\")\n",
    "            \n",
    "    \n",
    "    def send_message_to(self, chat_id, text):\n",
    "        \"\"\" Function to send a message from the bot to a specific user\"\"\"\n",
    "        params = {'chat_id': chat_id, 'text': text}\n",
    "        method = 'sendMessage'\n",
    "        resp = requests.post(self.api_url + method, params)"
   ]
  },
  {
   "cell_type": "markdown",
   "metadata": {},
   "source": [
    "Now you have everything you need for chatting with the bot. Let's build some simple functionality. For example, we can teach it to respond to greetings.\n",
    "\n",
    "We first create an instance of the above class that we call *bot*. Above, we can see that the init function requires the token as a parameter. Assuming, you have loaded the token, we can create our bot:"
   ]
  },
  {
   "cell_type": "code",
   "execution_count": 6,
   "metadata": {},
   "outputs": [],
   "source": [
    "bot = BotHandler(CLTL_TOKEN)"
   ]
  },
  {
   "cell_type": "markdown",
   "metadata": {},
   "source": [
    "Now our *bot* is alive and we can do things, like greet us. We define that the bot with reply to the following keywords for greeting:"
   ]
  },
  {
   "cell_type": "code",
   "execution_count": 7,
   "metadata": {},
   "outputs": [],
   "source": [
    "# Greetings recognized by the bot\n",
    "greetings = ('hello', 'hi', 'greetings', 'hey', 'good morning', 'good afternoon')\n"
   ]
  },
  {
   "cell_type": "markdown",
   "metadata": {},
   "source": [
    "We can finally test out chatbot. Text any of the greetings in the list above and wait for a response."
   ]
  },
  {
   "cell_type": "code",
   "execution_count": 8,
   "metadata": {
    "scrolled": false
   },
   "outputs": [],
   "source": [
    "hour = datetime.datetime.now().hour\n",
    "\n",
    "last_message = bot.get_last_message_by(user_id)\n",
    "\n",
    "if last_message and last_message.lower() in greetings:\n",
    "    if 6 <= hour < 12:\n",
    "        bot.send_message_to(user_id, 'Good Morning')\n",
    "\n",
    "    elif 12 <= hour < 17:\n",
    "        bot.send_message_to(user_id, 'Good Afternoon')\n",
    "\n",
    "    elif 17 <= hour < 23:\n",
    "        bot.send_message_to(user_id, 'Good Evening')\n",
    "\n",
    "    elif 23 <= hour or hour < 6:\n",
    "        bot.send_message_to(user_id, 'Good Night')\n",
    "\n",
    "    else:\n",
    "        bot.send_message_to(user_id, 'Good Day')\n",
    "else:\n",
    "     bot.send_message_to(user_id, 'I cannot respond to this')"
   ]
  },
  {
   "cell_type": "markdown",
   "metadata": {},
   "source": [
    "That's it! We now have a bot that can greet us.\n",
    "\n",
    "![Bot greetings](images/greetings.png)"
   ]
  },
  {
   "cell_type": "markdown",
   "metadata": {},
   "source": [
    "## Creating your own Telegram bot"
   ]
  },
  {
   "cell_type": "markdown",
   "metadata": {},
   "source": [
    "Now that you have created your Telegram account, you can create your own bot following these [instructions](https://core.telegram.org/bots#3-how-do-i-create-a-bot). Basically, you will need to interact with a bot (called BotFather), which is in charge of creating and managing Telegram bots. "
   ]
  },
  {
   "cell_type": "markdown",
   "metadata": {},
   "source": [
    "If you are interested in knowing more about what Telegram bots can do you can checkout the [Bot API Manual](https://core.telegram.org/bots/api) for more information."
   ]
  },
  {
   "cell_type": "markdown",
   "metadata": {},
   "source": [
    "## End of this notebook"
   ]
  },
  {
   "cell_type": "code",
   "execution_count": null,
   "metadata": {},
   "outputs": [],
   "source": []
  }
 ],
 "metadata": {
  "kernelspec": {
   "display_name": "Python 3",
   "language": "python",
   "name": "python3"
  },
  "language_info": {
   "codemirror_mode": {
    "name": "ipython",
    "version": 3
   },
   "file_extension": ".py",
   "mimetype": "text/x-python",
   "name": "python",
   "nbconvert_exporter": "python",
   "pygments_lexer": "ipython3",
   "version": "3.8.5"
  }
 },
 "nbformat": 4,
 "nbformat_minor": 4
}
