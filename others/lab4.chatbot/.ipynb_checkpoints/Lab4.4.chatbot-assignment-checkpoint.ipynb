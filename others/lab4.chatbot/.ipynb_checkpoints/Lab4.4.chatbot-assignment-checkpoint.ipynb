{
 "cells": [
  {
   "cell_type": "markdown",
   "metadata": {},
   "source": [
    "# Final Assignment: adapt the chatbot to answer to emotions and topics\n",
    "\n",
    "Copyright: Vrije Universiteit Amsterdam, Faculty of Humanities, CLTL\n",
    "\n",
    "RMA/Text Mining MA, Introduction to HLT\n",
    "\n",
    "This notebook describes the final assignment of the Human Language Technology course. \n",
    "\n",
    "**Learning goals**\n",
    "* train a supervised classifier (SVM)\n",
    "* evaluate a supervised classifier (SVM)\n",
    "* working with pretrained emotion classifiers\n",
    "* working with pretrained word embeddings\n",
    "* compute the similarity and relatedness of sets of words\n",
    "\n",
    "We assume you have worked through the following notebook:\n",
    "\n",
    "* **Lab2.1.NLTK_wordnet.ipynb**\n",
    "* **Lab2.2.Wikipedia2vec.ipynb**\n",
    "* **Lab3.2.ml.evaluation.ipynb**\n",
    "* **Lab3.5.ml.emotion-detection.ipynb**\n",
    "* **Lab3.6.ml.emotion-detection-embeddings.ipynb**\n",
    "* **Lab3.7.ml.emotion-detection-on-tweets.ipynb**\n",
    "* **Lab4.1.ml.introduction-to-telegram.ipynb**\n",
    "* **Lab4.2.ml.question-anwering.ipynb**\n",
    "* **Lab4.3.ml.empathic-chatbot.ipynb**"
   ]
  },
  {
   "cell_type": "markdown",
   "metadata": {
    "pycharm": {
     "name": "#%% md\n"
    }
   },
   "source": [
    "This notebook is very similar to Lab4.3. Look at the main logic of our solution in that lab and use it as an example for this assignment.\n",
    "\n",
    "For this asisgnment you will need to edit the `assignment_data.json` file under the `data` folder of this lab. There you **should** change the list of responses per *intent*, as well as the \n",
    "\n",
    "\n",
    "The notebook provides placeholders to put your own code. You will not need to change this notebook except for importing your solutions and applying your notebook to the test sentences that are given to you."
   ]
  },
  {
   "cell_type": "markdown",
   "metadata": {},
   "source": [
    "## Add your code"
   ]
  },
  {
   "cell_type": "code",
   "execution_count": 1,
   "metadata": {
    "pycharm": {
     "name": "#%%\n"
    }
   },
   "outputs": [],
   "source": [
    "# TODO: You can add any import statements you need here\n",
    "\n",
    "import random\n",
    "\n",
    "from utils import read_token, read_qa, BotHandler"
   ]
  },
  {
   "cell_type": "markdown",
   "metadata": {
    "pycharm": {
     "name": "#%% md\n"
    }
   },
   "source": [
    "You will have to implement three main functions: \n",
    "\n",
    "* First, you will need to load the pretrained emotion classifier of your choice. \n",
    "* Second, you will need a function to classify the emotion of a given message, using the loaded model. \n",
    "* Finally, the third function must match the message to a list of keywords by measuring its semantic similarity.\n",
    "\n",
    "We have provided the function definitions with hints for each function's parameters and returned objects/variables. You can use this as guidance, and later on add more parameters or returned objects as needed. You may also add any helper functions you need for these three main functions."
   ]
  },
  {
   "cell_type": "code",
   "execution_count": 2,
   "metadata": {},
   "outputs": [],
   "source": [
    "def load_semantic_model():\n",
    "    \"\"\" Function to load word embedding models needed \"\"\"\n",
    "    # TODO: Add code to load a word semantic model (i.e. word embedding)\n",
    "    embedding_model = None\n",
    "    \n",
    "    return embedding_model"
   ]
  },
  {
   "cell_type": "code",
   "execution_count": 3,
   "metadata": {
    "pycharm": {
     "name": "#%%\n"
    }
   },
   "outputs": [],
   "source": [
    "def load_classifier():\n",
    "    \"\"\" Function to load pre-trained machine learning models needed \"\"\"\n",
    "    # TODO: Add code to load pre-trained models (e.g. the classifiers you trained in Lab3.3, 3.4 or 3.5)\n",
    "    \n",
    "    # TIP: There might be more than one model you need to load, for example any transformer objects \n",
    "    # or encoder objects you need to process data before applying a classifier\n",
    "    classifier = None\n",
    "    preprocessing_tools = None\n",
    "\n",
    "    return classifier, preprocessing_tools\n"
   ]
  },
  {
   "cell_type": "code",
   "execution_count": 4,
   "metadata": {
    "pycharm": {
     "name": "#%%\n"
    }
   },
   "outputs": [],
   "source": [
    "def classify_emotion(message, classifier, preprocessing_tools):\n",
    "    \"\"\" Function to process a message and predict the emotion it reflects \"\"\"\n",
    "    # TODO: Add code to classify emotion in a message\n",
    "    \n",
    "    # TIP: Remember you need to preprocess the incoming message in the same way as you \n",
    "    # processed the training data for the classifier\n",
    "    predicted_emotion = None\n",
    "\n",
    "    return predicted_emotion"
   ]
  },
  {
   "cell_type": "code",
   "execution_count": 5,
   "metadata": {},
   "outputs": [],
   "source": [
    "def get_similar_words(embedding_model, message):\n",
    "    \"\"\" Function to enrich the message with similar words for better keyword detection \"\"\"\n",
    "    # TODO Add code to retrieve similar words\n",
    "    # The return format is a dictionary {'similar_word': ['message_token']}\n",
    "    similar_words = None\n",
    "\n",
    "    return similar_words\n"
   ]
  },
  {
   "cell_type": "code",
   "execution_count": 6,
   "metadata": {
    "pycharm": {
     "name": "#%%\n"
    }
   },
   "outputs": [],
   "source": [
    "def semantic_similarity(message, keywords):\n",
    "    \"\"\" Function to determine if the message matches certain keywords according to some semantic similarity or relatedness\"\"\"\n",
    "    # TODO: Add code to measure the semantic similarity between the message and some given keywords (e.g. methods you learned in Lab 2.1, 2.2 and 2.3)\n",
    "    \n",
    "    # TIP: You can process the message in any way you prefer (e.g. exploiting some of the linguistic \n",
    "    # features we explored in Lab 1.2 and 1.3)\n",
    "    matched_words = None\n",
    "    \n",
    "    return matched_words"
   ]
  },
  {
   "cell_type": "markdown",
   "metadata": {
    "pycharm": {
     "name": "#%% md\n"
    }
   },
   "source": [
    "## Create a response\n",
    "\n",
    "Next, we use a very similar function to create a response as in Lab 3.4. We create a response given an incoming message, using the functions we defined before to 1) classify emotion, and 2) match keywords according to the meaning of the message.\n",
    "\n",
    "The main logic of this function is given, but you might need to adapt it if you change the returned objects of a function or if you use any helper functions."
   ]
  },
  {
   "cell_type": "code",
   "execution_count": 7,
   "metadata": {
    "pycharm": {
     "name": "#%%\n"
    }
   },
   "outputs": [],
   "source": [
    "def create_response(message, qa, classifier, preprocessing_tools, embedding_model):\n",
    "    # Determine default response\n",
    "    reply = \"Default response\"\n",
    "    \n",
    "    # Classify emotion in message\n",
    "    emotion = classify_emotion(message, classifier, preprocessing_tools)\n",
    "    \n",
    "    # Enrich message\n",
    "    similar_words = get_similar_words(embedding_model, message)\n",
    "\n",
    "    # Loop through the predefined intents, and generate a response if there is a match (emotion + keywords)\n",
    "    word_intersection = {}\n",
    "    for i in qa['intents']:\n",
    "        \n",
    "        # Only consider intents related to the emotion detected \n",
    "        if emotion == i['category']:\n",
    "            \n",
    "            # Try to match the message to the set of predefined keywords\n",
    "            word_intersection = semantic_similarity(message, keywords=i['keywords'])\n",
    "\n",
    "            # If there is a match, generate a response response \n",
    "            if word_intersection:\n",
    "                reply = random.choice(i['responses'])\n",
    "                break\n",
    "\n",
    "    return reply, emotion, word_intersection\n"
   ]
  },
  {
   "cell_type": "markdown",
   "metadata": {},
   "source": [
    "## Test your approach\n",
    "\n",
    "We now setup our BotHandler as we have done throughout Lab4. We also load our ML models and the Q&A data."
   ]
  },
  {
   "cell_type": "code",
   "execution_count": 8,
   "metadata": {
    "pycharm": {
     "name": "#%%\n"
    }
   },
   "outputs": [],
   "source": [
    "CLTL_TOKEN = read_token()\n",
    "user_id = 408043639 # TODO: Remember to put here YOUR user id\n",
    "bot = BotHandler(CLTL_TOKEN)\n",
    "\n",
    "qa_data = read_qa(qa_path = './data/assignment_data.json')\n",
    "classifier, preprocessing_tools = load_classifier()\n",
    "embedding_model = load_semantic_model()"
   ]
  },
  {
   "cell_type": "markdown",
   "metadata": {},
   "source": [
    "To test the chatbot on Telegram, you can use the same logic as in Lab 4.3"
   ]
  },
  {
   "cell_type": "code",
   "execution_count": 9,
   "metadata": {
    "pycharm": {
     "name": "#%%\n"
    }
   },
   "outputs": [
    {
     "name": "stdout",
     "output_type": "stream",
     "text": [
      "Received: I can't believe Adele is singing the next reggaeton song with Maluma, I thought she was not that type of artist\n",
      "Responded: Default response\n",
      "Emotion detected: None\n",
      "Keywords detected [(keyword): (message_token)]: \n",
      "\t{}\n"
     ]
    }
   ],
   "source": [
    "last_message = bot.get_last_message_by(user_id)\n",
    "response, emotion, word_intersection = create_response(last_message, \n",
    "                                                       qa_data, \n",
    "                                                       classifier,\n",
    "                                                       preprocessing_tools, \n",
    "                                                       embedding_model)\n",
    "bot.send_message_to(user_id, response)\n",
    "\n",
    "print(\"Received: {message}\".format(message=last_message))\n",
    "print(\"Responded: {response}\".format(response=response))\n",
    "print(\"Emotion detected: {emotion}\".format(emotion=emotion))\n",
    "print(\"Keywords detected [(keyword): (message_token)]: \\n\\t{intersection}\".format(intersection=word_intersection))\n"
   ]
  },
  {
   "cell_type": "markdown",
   "metadata": {},
   "source": [
    "Alternatively, you can test your approach simply on the notebook as follows:"
   ]
  },
  {
   "cell_type": "code",
   "execution_count": 10,
   "metadata": {},
   "outputs": [
    {
     "name": "stdout",
     "output_type": "stream",
     "text": [
      "Received: I love hiphop, especially when dancing in the club\n",
      "Responded: Default response\n",
      "Emotion detected: None\n",
      "Keywords detected [(keyword): (message_token)]: \n",
      "\t{}\n"
     ]
    }
   ],
   "source": [
    "last_message = \"I love hiphop, especially when dancing in the club\"\n",
    "response, emotion, word_intersection = create_response(last_message, \n",
    "                                                       qa_data, \n",
    "                                                       classifier,\n",
    "                                                       preprocessing_tools, \n",
    "                                                       embedding_model)\n",
    "\n",
    "print(\"Received: {message}\".format(message=last_message))\n",
    "print(\"Responded: {response}\".format(response=response))\n",
    "print(\"Emotion detected: {emotion}\".format(emotion=emotion))\n",
    "print(\"Keywords detected [(keyword): (message_token)]: \\n\\t{intersection}\".format(intersection=word_intersection))\n"
   ]
  },
  {
   "cell_type": "markdown",
   "metadata": {},
   "source": [
    "## End of the assignment"
   ]
  },
  {
   "cell_type": "code",
   "execution_count": null,
   "metadata": {
    "pycharm": {
     "name": "#%%\n"
    }
   },
   "outputs": [],
   "source": []
  }
 ],
 "metadata": {
  "kernelspec": {
   "display_name": "Python 3",
   "language": "python",
   "name": "python3"
  },
  "language_info": {
   "codemirror_mode": {
    "name": "ipython",
    "version": 3
   },
   "file_extension": ".py",
   "mimetype": "text/x-python",
   "name": "python",
   "nbconvert_exporter": "python",
   "pygments_lexer": "ipython3",
   "version": "3.8.5"
  }
 },
 "nbformat": 4,
 "nbformat_minor": 4
}
