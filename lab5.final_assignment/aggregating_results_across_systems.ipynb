{
 "cells": [
  {
   "cell_type": "markdown",
   "metadata": {},
   "source": [
    "## How to aggregate results across different systems"
   ]
  },
  {
   "cell_type": "markdown",
   "metadata": {},
   "source": [
    "We are going to load classifiers that we save before, use them to make predictions on some texts and aggregate the results in a pandas data frame to get an overview across systems"
   ]
  },
  {
   "cell_type": "code",
   "execution_count": 8,
   "metadata": {},
   "outputs": [],
   "source": [
    "import pickle\n",
    "import pandas as pd\n",
    "import lab3_util as util"
   ]
  },
  {
   "cell_type": "code",
   "execution_count": 42,
   "metadata": {},
   "outputs": [],
   "source": [
    "# some utterances\n",
    "some_chat = ['That is sweet of you', \n",
    "               'You are so funny', \n",
    "               'Are you a man or a woman?', \n",
    "               'Chatbots make me sad and feel lonely.', \n",
    "               'Your are stupid and boring.', \n",
    "               'Two thumbs up', \n",
    "               'I fell asleep halfway through this conversation', \n",
    "               'Wow, I am really amazed.', \n",
    "               'You are amazing.',\n",
    "             'I feel so low being in isolation',\n",
    "             'People dumping waste are horrible',\n",
    "             'Its awful that you cannot stop smoking',\n",
    "             'Dogs scare me',\n",
    "             'I am afraid I will get sick at work',\n",
    "             'I run away when I see a dog',\n",
    "             'When do you start your job?'\n",
    "            ]\n",
    "\n",
    "some_chat_gold_labels = ['joy', 'joy', 'neutral', 'sadness', 'anger', 'joy', 'anger', 'surprise', 'joy', 'sadness', 'disgust', 'disgust', 'fear', 'fear', 'fear', 'neutral']"
   ]
  },
  {
   "cell_type": "markdown",
   "metadata": {},
   "source": [
    "### Loading a BoW model"
   ]
  },
  {
   "cell_type": "code",
   "execution_count": 29,
   "metadata": {},
   "outputs": [],
   "source": [
    "# the countvectorizer\n",
    "filename_vectorizer = './models/utterance_vec.sav'\n",
    "# the tfidf transformer\n",
    "filename_transformer = './models/utterance_transf.sav'\n",
    "# the label encoder\n",
    "filename_encoder = './models/label_encoder.sav'\n",
    "# the classifier\n",
    "filename_classifier = './models/svm_linear_clf_bow.sav'\n",
    "\n",
    "loaded_bow_classifier = pickle.load(open(filename_classifier, 'rb'))\n",
    "loaded_vectorizer = pickle.load(open(filename_vectorizer, 'rb'))\n",
    "loaded_transformer = pickle.load(open(filename_transformer, 'rb'))\n",
    "loaded_label_encoder = pickle.load(open(filename_encoder, 'rb'))"
   ]
  },
  {
   "cell_type": "markdown",
   "metadata": {},
   "source": [
    "### Converting the test data to get the vector representations"
   ]
  },
  {
   "cell_type": "code",
   "execution_count": 30,
   "metadata": {},
   "outputs": [],
   "source": [
    "counts_from_loaded_model = loaded_vectorizer.transform(some_chat)\n",
    "some_chat_tfidf = loaded_transformer.transform(counts_from_loaded_model)"
   ]
  },
  {
   "cell_type": "markdown",
   "metadata": {},
   "source": [
    "### Getting the predications"
   ]
  },
  {
   "cell_type": "code",
   "execution_count": 33,
   "metadata": {},
   "outputs": [
    {
     "name": "stdout",
     "output_type": "stream",
     "text": [
      "[3 3 4 5 4 4 4 6 3 4 4 4 4 4 4 4]\n",
      "['joy', 'joy', 'neutral', 'sadness', 'neutral', 'neutral', 'neutral', 'surprise', 'joy', 'neutral', 'neutral', 'neutral', 'neutral', 'neutral', 'neutral', 'neutral']\n"
     ]
    }
   ],
   "source": [
    "pred_from_bow_classifier = loaded_bow_classifier.predict(some_chat_tfidf)\n",
    "print(pred_from_bow_classifier)\n",
    "some_chat_bow_labels = []\n",
    "for predicted_label in pred_from_bow_classifier:\n",
    "    some_chat_bow_labels.append(loaded_label_encoder.classes_[predicted_label])\n",
    "print(some_chat_bow_labels)"
   ]
  },
  {
   "cell_type": "markdown",
   "metadata": {},
   "source": [
    "## Embedding model"
   ]
  },
  {
   "cell_type": "markdown",
   "metadata": {},
   "source": [
    "### Loading an embedding model"
   ]
  },
  {
   "cell_type": "code",
   "execution_count": 35,
   "metadata": {},
   "outputs": [],
   "source": [
    "# the classifier\n",
    "filename_classifier = './models/svm_linear_clf_embeddings.sav'\n",
    "# the frequent keywords\n",
    "filename_freq_keywords = './models/frequent_keywords.sav'\n",
    "loaded_embedding_classifier = pickle.load(open(filename_classifier, 'rb'))\n",
    "loaded_frequent_keywords = pickle.load(open(filename_freq_keywords, 'rb'))"
   ]
  },
  {
   "cell_type": "markdown",
   "metadata": {},
   "source": [
    "### Representing the test data"
   ]
  },
  {
   "cell_type": "code",
   "execution_count": 36,
   "metadata": {},
   "outputs": [
    {
     "name": "stdout",
     "output_type": "stream",
     "text": [
      "25\n"
     ]
    }
   ],
   "source": [
    "from gensim.models.word2vec import Word2Vec\n",
    "import gensim.downloader as api\n",
    "\n",
    "wordembeddings = \"glove-twitter-25\"\n",
    "### this model has 25 dimensions so we set the number of features to 25\n",
    "num_features = 25\n",
    "\n",
    "word_embedding_model = api.load(wordembeddings)\n",
    "print(num_features)"
   ]
  },
  {
   "cell_type": "code",
   "execution_count": 37,
   "metadata": {},
   "outputs": [],
   "source": [
    "def tokenize_data(text):\n",
    "    ### the first loop gets the utterances\n",
    "    text_tokens = []\n",
    "    for utterance in text:\n",
    "        text_tokens.append(nltk.tokenize.word_tokenize(utterance))\n",
    "    return text_tokens"
   ]
  },
  {
   "cell_type": "code",
   "execution_count": 38,
   "metadata": {},
   "outputs": [
    {
     "name": "stdout",
     "output_type": "stream",
     "text": [
      "Shape of our matrix is: (16, 25)\n",
      "Review 0 of 16\n"
     ]
    },
    {
     "name": "stderr",
     "output_type": "stream",
     "text": [
      "/Users/piek/.local/lib/python3.7/site-packages/ipykernel_launcher.py:4: DeprecationWarning: Call to deprecated `wv` (Attribute will be removed in 4.0.0, use self instead).\n",
      "  after removing the cwd from sys.path.\n"
     ]
    }
   ],
   "source": [
    "import nltk\n",
    "from nltk.corpus import stopwords\n",
    "stop_words = set(stopwords.words('english'))\n",
    "index2word_set = set(word_embedding_model.wv.index2word)\n",
    "\n",
    "\n",
    "some_chat_tokens = tokenize_data(some_chat)\n",
    "some_chat_embedding_vectors = util.getAvgFeatureVecs(some_chat_tokens, loaded_frequent_keywords,stop_words, word_embedding_model, index2word_set, num_features)  "
   ]
  },
  {
   "cell_type": "markdown",
   "metadata": {},
   "source": [
    "### Making the predictions"
   ]
  },
  {
   "cell_type": "code",
   "execution_count": 39,
   "metadata": {},
   "outputs": [
    {
     "name": "stdout",
     "output_type": "stream",
     "text": [
      "[3 6 4 4 4 4 4 4 3 4 4 4 4 4 4 4]\n",
      "['joy', 'surprise', 'neutral', 'neutral', 'neutral', 'neutral', 'neutral', 'neutral', 'joy', 'neutral', 'neutral', 'neutral', 'neutral', 'neutral', 'neutral', 'neutral']\n"
     ]
    }
   ],
   "source": [
    "pred_from_embedding_classifier = loaded_embedding_classifier.predict(some_chat_embedding_vectors[0])\n",
    "print(pred_from_embedding_classifier)\n",
    "some_chat_embedding_labels = []\n",
    "for predicted_label in pred_from_embedding_classifier:\n",
    "    some_chat_embedding_labels.append(loaded_label_encoder.classes_[predicted_label])\n",
    "print(some_chat_embedding_labels)"
   ]
  },
  {
   "cell_type": "markdown",
   "metadata": {},
   "source": [
    "## Putting the results together in a pandas frame"
   ]
  },
  {
   "cell_type": "code",
   "execution_count": 44,
   "metadata": {},
   "outputs": [
    {
     "data": {
      "text/html": [
       "<div>\n",
       "<style scoped>\n",
       "    .dataframe tbody tr th:only-of-type {\n",
       "        vertical-align: middle;\n",
       "    }\n",
       "\n",
       "    .dataframe tbody tr th {\n",
       "        vertical-align: top;\n",
       "    }\n",
       "\n",
       "    .dataframe thead th {\n",
       "        text-align: right;\n",
       "    }\n",
       "</style>\n",
       "<table border=\"1\" class=\"dataframe\">\n",
       "  <thead>\n",
       "    <tr style=\"text-align: right;\">\n",
       "      <th></th>\n",
       "      <th>Chat</th>\n",
       "      <th>Gold</th>\n",
       "      <th>Bow Prediction</th>\n",
       "      <th>Embedding Prediction</th>\n",
       "    </tr>\n",
       "  </thead>\n",
       "  <tbody>\n",
       "    <tr>\n",
       "      <th>0</th>\n",
       "      <td>That is sweet of you</td>\n",
       "      <td>joy</td>\n",
       "      <td>joy</td>\n",
       "      <td>joy</td>\n",
       "    </tr>\n",
       "    <tr>\n",
       "      <th>1</th>\n",
       "      <td>You are so funny</td>\n",
       "      <td>joy</td>\n",
       "      <td>joy</td>\n",
       "      <td>surprise</td>\n",
       "    </tr>\n",
       "    <tr>\n",
       "      <th>2</th>\n",
       "      <td>Are you a man or a woman?</td>\n",
       "      <td>neutral</td>\n",
       "      <td>neutral</td>\n",
       "      <td>neutral</td>\n",
       "    </tr>\n",
       "    <tr>\n",
       "      <th>3</th>\n",
       "      <td>Chatbots make me sad and feel lonely.</td>\n",
       "      <td>sadness</td>\n",
       "      <td>sadness</td>\n",
       "      <td>neutral</td>\n",
       "    </tr>\n",
       "    <tr>\n",
       "      <th>4</th>\n",
       "      <td>Your are stupid and boring.</td>\n",
       "      <td>anger</td>\n",
       "      <td>neutral</td>\n",
       "      <td>neutral</td>\n",
       "    </tr>\n",
       "    <tr>\n",
       "      <th>5</th>\n",
       "      <td>Two thumbs up</td>\n",
       "      <td>joy</td>\n",
       "      <td>neutral</td>\n",
       "      <td>neutral</td>\n",
       "    </tr>\n",
       "    <tr>\n",
       "      <th>6</th>\n",
       "      <td>I fell asleep halfway through this conversation</td>\n",
       "      <td>anger</td>\n",
       "      <td>neutral</td>\n",
       "      <td>neutral</td>\n",
       "    </tr>\n",
       "    <tr>\n",
       "      <th>7</th>\n",
       "      <td>Wow, I am really amazed.</td>\n",
       "      <td>surprise</td>\n",
       "      <td>surprise</td>\n",
       "      <td>neutral</td>\n",
       "    </tr>\n",
       "    <tr>\n",
       "      <th>8</th>\n",
       "      <td>You are amazing.</td>\n",
       "      <td>joy</td>\n",
       "      <td>joy</td>\n",
       "      <td>joy</td>\n",
       "    </tr>\n",
       "    <tr>\n",
       "      <th>9</th>\n",
       "      <td>I feel so low being in isolation</td>\n",
       "      <td>sadness</td>\n",
       "      <td>neutral</td>\n",
       "      <td>neutral</td>\n",
       "    </tr>\n",
       "    <tr>\n",
       "      <th>10</th>\n",
       "      <td>People dumping waste are horrible</td>\n",
       "      <td>disgust</td>\n",
       "      <td>neutral</td>\n",
       "      <td>neutral</td>\n",
       "    </tr>\n",
       "    <tr>\n",
       "      <th>11</th>\n",
       "      <td>Its awful that you cannot stop smoking</td>\n",
       "      <td>disgust</td>\n",
       "      <td>neutral</td>\n",
       "      <td>neutral</td>\n",
       "    </tr>\n",
       "    <tr>\n",
       "      <th>12</th>\n",
       "      <td>Dogs scare me</td>\n",
       "      <td>fear</td>\n",
       "      <td>neutral</td>\n",
       "      <td>neutral</td>\n",
       "    </tr>\n",
       "    <tr>\n",
       "      <th>13</th>\n",
       "      <td>I am afraid I will get sick at work</td>\n",
       "      <td>fear</td>\n",
       "      <td>neutral</td>\n",
       "      <td>neutral</td>\n",
       "    </tr>\n",
       "    <tr>\n",
       "      <th>14</th>\n",
       "      <td>I run away when I see a dog</td>\n",
       "      <td>fear</td>\n",
       "      <td>neutral</td>\n",
       "      <td>neutral</td>\n",
       "    </tr>\n",
       "    <tr>\n",
       "      <th>15</th>\n",
       "      <td>When do you start your job?</td>\n",
       "      <td>neutral</td>\n",
       "      <td>neutral</td>\n",
       "      <td>neutral</td>\n",
       "    </tr>\n",
       "  </tbody>\n",
       "</table>\n",
       "</div>"
      ],
      "text/plain": [
       "                                               Chat      Gold Bow Prediction  \\\n",
       "0                              That is sweet of you       joy            joy   \n",
       "1                                  You are so funny       joy            joy   \n",
       "2                         Are you a man or a woman?   neutral        neutral   \n",
       "3             Chatbots make me sad and feel lonely.   sadness        sadness   \n",
       "4                       Your are stupid and boring.     anger        neutral   \n",
       "5                                     Two thumbs up       joy        neutral   \n",
       "6   I fell asleep halfway through this conversation     anger        neutral   \n",
       "7                          Wow, I am really amazed.  surprise       surprise   \n",
       "8                                  You are amazing.       joy            joy   \n",
       "9                  I feel so low being in isolation   sadness        neutral   \n",
       "10                People dumping waste are horrible   disgust        neutral   \n",
       "11           Its awful that you cannot stop smoking   disgust        neutral   \n",
       "12                                    Dogs scare me      fear        neutral   \n",
       "13              I am afraid I will get sick at work      fear        neutral   \n",
       "14                      I run away when I see a dog      fear        neutral   \n",
       "15                      When do you start your job?   neutral        neutral   \n",
       "\n",
       "   Embedding Prediction  \n",
       "0                   joy  \n",
       "1              surprise  \n",
       "2               neutral  \n",
       "3               neutral  \n",
       "4               neutral  \n",
       "5               neutral  \n",
       "6               neutral  \n",
       "7               neutral  \n",
       "8                   joy  \n",
       "9               neutral  \n",
       "10              neutral  \n",
       "11              neutral  \n",
       "12              neutral  \n",
       "13              neutral  \n",
       "14              neutral  \n",
       "15              neutral  "
      ]
     },
     "execution_count": 44,
     "metadata": {},
     "output_type": "execute_result"
    }
   ],
   "source": [
    "result_frame = pd.DataFrame()\n",
    "\n",
    "# We add to this Pandas frame three more columns for the Chat, the Prediction and the Gold \n",
    "result_frame['Chat']=some_chat\n",
    "result_frame['Gold']=some_chat_gold_labels\n",
    "\n",
    "result_frame['Bow Prediction']=some_chat_bow_labels\n",
    "result_frame['Embedding Prediction']=some_chat_embedding_labels\n",
    "\n",
    "result_frame"
   ]
  },
  {
   "cell_type": "markdown",
   "metadata": {},
   "source": [
    "## End of notebook"
   ]
  }
 ],
 "metadata": {
  "kernelspec": {
   "display_name": "Python 3",
   "language": "python",
   "name": "python3"
  },
  "language_info": {
   "codemirror_mode": {
    "name": "ipython",
    "version": 3
   },
   "file_extension": ".py",
   "mimetype": "text/x-python",
   "name": "python",
   "nbconvert_exporter": "python",
   "pygments_lexer": "ipython3",
   "version": "3.7.6"
  }
 },
 "nbformat": 4,
 "nbformat_minor": 4
}
