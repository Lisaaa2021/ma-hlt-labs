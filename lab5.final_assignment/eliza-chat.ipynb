{
 "cells": [
  {
   "cell_type": "markdown",
   "metadata": {
    "jp-MarkdownHeadingCollapsed": true,
    "tags": []
   },
   "source": [
    "## Eliza implementation\n",
    "\n",
    "This notebook is taken from: https://github.com/itu-qsp/eliza\n",
    "\n",
    "Eliza is a very basic chatbot created by Joseph Weizenbaum in 1964. It was intended to acts as a psychotherapist by simply echoing questions on the basis of cues in the human input. It uses very simple rules and patterns to create the responses of the system.\n",
    "\n",
    "You can inspect the **eliza_language.py** to see the patterns for the cues and the corresponding responses. You can easly adapt the variable **PSYCHOBABBLE** yourself to adapt the system to your own insights, creating your own Eliza. The **eliza.py** is a simple script that gets each input from the human, matches it with the patterns and returns the response.\n",
    "\n",
    "In this notebook, we show how you can import the Eliza code, have a conversation, store this information in a socalled dataframe from the Pandas package. We show you how to iterate over the dataframe to add an emotion label to the human input, which is added to the dataframe.\n",
    "\n",
    "Finally, we show how you can save the conversation with the annotations to disk for later usage."
   ]
  },
  {
   "cell_type": "markdown",
   "metadata": {},
   "source": [
    "## 1. Loading and running Eliza"
   ]
  },
  {
   "cell_type": "markdown",
   "metadata": {},
   "source": [
    "We adapted the Eliza code in the *eliza.py* file from the original Github so that the Speaker information and turn identifier are saved in a JSON structure for each turn. We wil use the stored conversation to create a Pandas frame and try to assign emotions to each utterance."
   ]
  },
  {
   "cell_type": "code",
   "execution_count": 24,
   "metadata": {
    "scrolled": true
   },
   "outputs": [],
   "source": [
    "import eliza as el"
   ]
  },
  {
   "cell_type": "code",
   "execution_count": 38,
   "metadata": {},
   "outputs": [
    {
     "name": "stdout",
     "output_type": "stream",
     "text": [
      "My name is Eliza. What is your name?\n"
     ]
    },
    {
     "name": "stdin",
     "output_type": "stream",
     "text": [
      ">  Piek\n"
     ]
    },
    {
     "name": "stdout",
     "output_type": "stream",
     "text": [
      "Hello Piek. How are you feeling today?\n"
     ]
    },
    {
     "name": "stdin",
     "output_type": "stream",
     "text": [
      ">  stop\n"
     ]
    }
   ],
   "source": [
    "el.talk_to_me()"
   ]
  },
  {
   "cell_type": "markdown",
   "metadata": {},
   "source": [
    "We can now inspect the stored conversation and load the JSON in a Pandas dataframe."
   ]
  },
  {
   "cell_type": "code",
   "execution_count": 18,
   "metadata": {},
   "outputs": [
    {
     "name": "stdout",
     "output_type": "stream",
     "text": [
      "{'utterance': 'Hello Piek. How are you feeling today?', 'speaker': 'Eliza', 'turn_id': 0}\n",
      "{'utterance': 'I am not feeling so good', 'speaker': 'Piek', 'turn_id': 1}\n",
      "{'utterance': 'How long have you been not feeling so good?', 'speaker': 'Eliza', 'turn_id': 1}\n",
      "{'utterance': 'Since three days.', 'speaker': 'Piek', 'turn_id': 2}\n",
      "{'utterance': 'How do you feel when you say that?', 'speaker': 'Eliza', 'turn_id': 2}\n",
      "{'utterance': 'I feel bad', 'speaker': 'Piek', 'turn_id': 3}\n",
      "{'utterance': 'When you feel bad, what do you do?', 'speaker': 'Eliza', 'turn_id': 3}\n",
      "{'utterance': 'Talk to people and to you', 'speaker': 'Piek', 'turn_id': 4}\n",
      "{'utterance': 'How do you feel when you say that?', 'speaker': 'Eliza', 'turn_id': 4}\n",
      "{'utterance': 'I bit better', 'speaker': 'Piek', 'turn_id': 5}\n",
      "{'utterance': 'I see.', 'speaker': 'Eliza', 'turn_id': 5}\n",
      "{'utterance': 'My cat died three days ago.', 'speaker': 'Piek', 'turn_id': 6}\n",
      "{'utterance': 'Why do you say that your cat died three days ago?', 'speaker': 'Eliza', 'turn_id': 6}\n",
      "{'utterance': 'It makes me feel sad', 'speaker': 'Piek', 'turn_id': 7}\n",
      "{'utterance': 'Why do you say that it makes you feel sad?', 'speaker': 'Eliza', 'turn_id': 7}\n",
      "{'utterance': 'Because you are supposed to help me.', 'speaker': 'Piek', 'turn_id': 8}\n",
      "{'utterance': 'Is that the real reason?', 'speaker': 'Eliza', 'turn_id': 8}\n",
      "{'utterance': 'Yes', 'speaker': 'Piek', 'turn_id': 9}\n",
      "{'utterance': 'OK, but can you elaborate a bit?', 'speaker': 'Eliza', 'turn_id': 9}\n",
      "{'utterance': 'The cat was my friend', 'speaker': 'Piek', 'turn_id': 10}\n",
      "{'utterance': 'I see.  And what does that tell you?', 'speaker': 'Eliza', 'turn_id': 10}\n",
      "{'utterance': 'She always followed me through the house', 'speaker': 'Piek', 'turn_id': 11}\n",
      "{'utterance': 'I see.', 'speaker': 'Eliza', 'turn_id': 11}\n",
      "{'utterance': 'Waiting for me to come home.', 'speaker': 'Piek', 'turn_id': 12}\n",
      "{'utterance': 'Please tell me more.', 'speaker': 'Eliza', 'turn_id': 12}\n",
      "{'utterance': 'I feel a piece is missing of me now', 'speaker': 'Piek', 'turn_id': 13}\n",
      "{'utterance': 'When do you usually feel a piece is missing of you now?', 'speaker': 'Eliza', 'turn_id': 13}\n",
      "{'utterance': 'I somebody dies', 'speaker': 'Piek', 'turn_id': 14}\n",
      "{'utterance': 'Very interesting.', 'speaker': 'Eliza', 'turn_id': 14}\n"
     ]
    }
   ],
   "source": [
    "for turn in el.conversation:\n",
    "    print(turn)"
   ]
  },
  {
   "cell_type": "markdown",
   "metadata": {},
   "source": [
    "### Using Pandas"
   ]
  },
  {
   "cell_type": "markdown",
   "metadata": {},
   "source": [
    "Although there is nothing wrong in using just the JSON structure shown above, we are loading the JSON in a Pandas dataframe for viewing and saving the data in more human readable table format. [Pandas](https://pandas.pydata.org) is a populair packages for loading and saving data."
   ]
  },
  {
   "cell_type": "markdown",
   "metadata": {},
   "source": [
    "Pandas needs to be installed separately on your local machine first. If you have not done this please follow the next instruction, otherwise you can skip the installation and directly proceed with importing it.\n",
    "\n",
    "As with other packages, make sure you install it within the same environment that you used to install Anaconda or install it within this notebook through the next cell. Please install pandas locally from the command line, using either of the two following instructions:\n",
    "\n",
    "\n",
    "* >`conda install pandas`\n",
    "* >`python -m pip install --upgrade pandas`\n"
   ]
  },
  {
   "cell_type": "markdown",
   "metadata": {},
   "source": [
    "If you succesfully installed Pandas, you should be able to import it in the next cell. Note that you may have to restart the Kernel of the notebook or even restart Jupyter to make it work."
   ]
  },
  {
   "cell_type": "code",
   "execution_count": 33,
   "metadata": {
    "tags": []
   },
   "outputs": [],
   "source": [
    "import pandas as pd"
   ]
  },
  {
   "cell_type": "markdown",
   "metadata": {},
   "source": [
    "If the import worked, we can now create a DataFrame by loading the JSON structure of the conversation which is represented in memory as a dictionary."
   ]
  },
  {
   "cell_type": "code",
   "execution_count": 35,
   "metadata": {},
   "outputs": [],
   "source": [
    "df = pd.DataFrame.from_dict(el.conversation)"
   ]
  },
  {
   "cell_type": "markdown",
   "metadata": {},
   "source": [
    "Pandas provides to function to easily inspect the data that is loaded."
   ]
  },
  {
   "cell_type": "code",
   "execution_count": 36,
   "metadata": {},
   "outputs": [
    {
     "name": "stdout",
     "output_type": "stream",
     "text": [
      "<class 'pandas.core.frame.DataFrame'>\n",
      "RangeIndex: 29 entries, 0 to 28\n",
      "Data columns (total 3 columns):\n",
      " #   Column     Non-Null Count  Dtype \n",
      "---  ------     --------------  ----- \n",
      " 0   utterance  29 non-null     object\n",
      " 1   speaker    29 non-null     object\n",
      " 2   turn_id    29 non-null     int64 \n",
      "dtypes: int64(1), object(2)\n",
      "memory usage: 824.0+ bytes\n"
     ]
    }
   ],
   "source": [
    "df.info()"
   ]
  },
  {
   "cell_type": "markdown",
   "metadata": {},
   "source": [
    "The **info()** function gived high level information and statistics on the data: what rows, columns and what type of values. The **head()** function gives you a list of the top rows."
   ]
  },
  {
   "cell_type": "code",
   "execution_count": 37,
   "metadata": {},
   "outputs": [
    {
     "data": {
      "text/html": [
       "<div>\n",
       "<style scoped>\n",
       "    .dataframe tbody tr th:only-of-type {\n",
       "        vertical-align: middle;\n",
       "    }\n",
       "\n",
       "    .dataframe tbody tr th {\n",
       "        vertical-align: top;\n",
       "    }\n",
       "\n",
       "    .dataframe thead th {\n",
       "        text-align: right;\n",
       "    }\n",
       "</style>\n",
       "<table border=\"1\" class=\"dataframe\">\n",
       "  <thead>\n",
       "    <tr style=\"text-align: right;\">\n",
       "      <th></th>\n",
       "      <th>utterance</th>\n",
       "      <th>speaker</th>\n",
       "      <th>turn_id</th>\n",
       "    </tr>\n",
       "  </thead>\n",
       "  <tbody>\n",
       "    <tr>\n",
       "      <th>0</th>\n",
       "      <td>Hello Piek. How are you feeling today?</td>\n",
       "      <td>Eliza</td>\n",
       "      <td>0</td>\n",
       "    </tr>\n",
       "    <tr>\n",
       "      <th>1</th>\n",
       "      <td>I am not feeling so good</td>\n",
       "      <td>Piek</td>\n",
       "      <td>1</td>\n",
       "    </tr>\n",
       "    <tr>\n",
       "      <th>2</th>\n",
       "      <td>How long have you been not feeling so good?</td>\n",
       "      <td>Eliza</td>\n",
       "      <td>1</td>\n",
       "    </tr>\n",
       "    <tr>\n",
       "      <th>3</th>\n",
       "      <td>Since three days.</td>\n",
       "      <td>Piek</td>\n",
       "      <td>2</td>\n",
       "    </tr>\n",
       "    <tr>\n",
       "      <th>4</th>\n",
       "      <td>How do you feel when you say that?</td>\n",
       "      <td>Eliza</td>\n",
       "      <td>2</td>\n",
       "    </tr>\n",
       "  </tbody>\n",
       "</table>\n",
       "</div>"
      ],
      "text/plain": [
       "                                     utterance speaker  turn_id\n",
       "0       Hello Piek. How are you feeling today?   Eliza        0\n",
       "1                     I am not feeling so good    Piek        1\n",
       "2  How long have you been not feeling so good?   Eliza        1\n",
       "3                            Since three days.    Piek        2\n",
       "4           How do you feel when you say that?   Eliza        2"
      ]
     },
     "execution_count": 37,
     "metadata": {},
     "output_type": "execute_result"
    }
   ],
   "source": [
    "df.head()"
   ]
  },
  {
   "cell_type": "markdown",
   "metadata": {},
   "source": [
    "# 2. Annotate the conversation with emotion labels"
   ]
  },
  {
   "cell_type": "markdown",
   "metadata": {},
   "source": [
    "We now define a simple loop over the dataframe with turns in the conversation to add an Ekman emotion label. "
   ]
  },
  {
   "cell_type": "markdown",
   "metadata": {},
   "source": [
    "We do not want to annotate the all utterances but only the human input. We assume that Eliza has no emotions and therefore always assign the emotion *neutral* to Eliza's utterances.\n",
    "\n",
    "How to iterate over the data in a Pandas frame is explained in more detail in **Lab3.5**."
   ]
  },
  {
   "cell_type": "code",
   "execution_count": 22,
   "metadata": {},
   "outputs": [
    {
     "name": "stdout",
     "output_type": "stream",
     "text": [
      "Eliza Hello Piek. How are you feeling today?\n",
      "Piek I am sad\n"
     ]
    },
    {
     "name": "stdin",
     "output_type": "stream",
     "text": [
      "label>  sadness\n"
     ]
    },
    {
     "name": "stdout",
     "output_type": "stream",
     "text": [
      "Eliza How do you feel about being sad?\n",
      "Piek Bad\n"
     ]
    },
    {
     "name": "stdin",
     "output_type": "stream",
     "text": [
      "label>  sadness\n"
     ]
    },
    {
     "name": "stdout",
     "output_type": "stream",
     "text": [
      "Eliza How do you feel when you say that?\n",
      "Piek I feel better when I talk about it\n"
     ]
    },
    {
     "name": "stdin",
     "output_type": "stream",
     "text": [
      "label>  joy\n"
     ]
    },
    {
     "name": "stdout",
     "output_type": "stream",
     "text": [
      "Eliza Do you often feel better when you talk about it?\n",
      "Piek yes\n"
     ]
    },
    {
     "name": "stdin",
     "output_type": "stream",
     "text": [
      "label>  joy\n"
     ]
    },
    {
     "name": "stdout",
     "output_type": "stream",
     "text": [
      "Eliza I see.\n",
      "Piek My cat died yesterday\n"
     ]
    },
    {
     "name": "stdin",
     "output_type": "stream",
     "text": [
      "label>  sadness\n"
     ]
    },
    {
     "name": "stdout",
     "output_type": "stream",
     "text": [
      "Eliza Why do you say that your cat died yesterday?\n",
      "Piek It made me sad\n"
     ]
    },
    {
     "name": "stdin",
     "output_type": "stream",
     "text": [
      "label>  sadness\n"
     ]
    },
    {
     "name": "stdout",
     "output_type": "stream",
     "text": [
      "Eliza Why do you say that it made you sad?\n",
      "Piek To explain it to you\n"
     ]
    },
    {
     "name": "stdin",
     "output_type": "stream",
     "text": [
      "label>  neutral\n"
     ]
    },
    {
     "name": "stdout",
     "output_type": "stream",
     "text": [
      "Eliza Please tell me more.\n",
      "Piek She was always on my side\n"
     ]
    },
    {
     "name": "stdin",
     "output_type": "stream",
     "text": [
      "label>  joy\n"
     ]
    },
    {
     "name": "stdout",
     "output_type": "stream",
     "text": [
      "Eliza How do you feel when you say that?\n",
      "Piek She was 17 years old.\n"
     ]
    },
    {
     "name": "stdin",
     "output_type": "stream",
     "text": [
      "label>  sadness\n"
     ]
    },
    {
     "name": "stdout",
     "output_type": "stream",
     "text": [
      "Eliza I see.  And what does that tell you?\n",
      "Piek That I am a social person\n"
     ]
    },
    {
     "name": "stdin",
     "output_type": "stream",
     "text": [
      "label>  neutral\n"
     ]
    },
    {
     "name": "stdout",
     "output_type": "stream",
     "text": [
      "Eliza Very interesting.\n",
      "['neutral', 'sadness', 'neutral', 'sadness', 'neutral', 'joy', 'neutral', 'joy', 'neutral', 'sadness', 'neutral', 'sadness', 'neutral', 'neutral', 'neutral', 'joy', 'neutral', 'sadness', 'neutral', 'neutral', 'neutral']\n"
     ]
    }
   ],
   "source": [
    "#### Here are the 6 basic emotions that Ekman defined for facial expression. Neutral is the the 7th value\n",
    "ekman_labels = [\"anger\", \"disgust\", \"fear\", \"joy\", \"sadness\", \"surprise\", \"neutral\"]\n",
    "\n",
    "gold_labels = []\n",
    "gold = \"\"\n",
    "## We use a for-loop over the enumeration of all rows in the speaker column \n",
    "## to get an index of the row as well as the speaker information\n",
    "## We can use the index with the \"iloc\" data element to get other column values from the same row\n",
    "## We get the utterance with the \n",
    "for index, speaker in enumerate(df['speaker']):\n",
    "    utterance = df['utterance'].iloc[index]\n",
    "    print(speaker, utterance)\n",
    "    if speaker=='Eliza':\n",
    "        gold= 'neutral'\n",
    "    else: \n",
    "        ### we keep getting the user input till one of them matches an Ekman label\n",
    "        while not gold in ekman_labels:\n",
    "            gold = input(\"label> \")\n",
    "    gold_labels.append(gold)\n",
    "    gold=\"\"\n",
    "\n",
    "print(gold_labels)"
   ]
  },
  {
   "cell_type": "code",
   "execution_count": 25,
   "metadata": {},
   "outputs": [
    {
     "data": {
      "text/html": [
       "<div>\n",
       "<style scoped>\n",
       "    .dataframe tbody tr th:only-of-type {\n",
       "        vertical-align: middle;\n",
       "    }\n",
       "\n",
       "    .dataframe tbody tr th {\n",
       "        vertical-align: top;\n",
       "    }\n",
       "\n",
       "    .dataframe thead th {\n",
       "        text-align: right;\n",
       "    }\n",
       "</style>\n",
       "<table border=\"1\" class=\"dataframe\">\n",
       "  <thead>\n",
       "    <tr style=\"text-align: right;\">\n",
       "      <th></th>\n",
       "      <th>Unnamed: 0</th>\n",
       "      <th>utterance</th>\n",
       "      <th>speaker</th>\n",
       "      <th>turn_id</th>\n",
       "      <th>Gold</th>\n",
       "    </tr>\n",
       "  </thead>\n",
       "  <tbody>\n",
       "    <tr>\n",
       "      <th>0</th>\n",
       "      <td>0</td>\n",
       "      <td>Hello Piek. How are you feeling today?</td>\n",
       "      <td>Eliza</td>\n",
       "      <td>1</td>\n",
       "      <td>neutral</td>\n",
       "    </tr>\n",
       "    <tr>\n",
       "      <th>1</th>\n",
       "      <td>1</td>\n",
       "      <td>I am sad</td>\n",
       "      <td>Piek</td>\n",
       "      <td>1</td>\n",
       "      <td>sadness</td>\n",
       "    </tr>\n",
       "    <tr>\n",
       "      <th>2</th>\n",
       "      <td>2</td>\n",
       "      <td>How do you feel about being sad?</td>\n",
       "      <td>Eliza</td>\n",
       "      <td>1</td>\n",
       "      <td>neutral</td>\n",
       "    </tr>\n",
       "    <tr>\n",
       "      <th>3</th>\n",
       "      <td>3</td>\n",
       "      <td>Bad</td>\n",
       "      <td>Piek</td>\n",
       "      <td>1</td>\n",
       "      <td>sadness</td>\n",
       "    </tr>\n",
       "    <tr>\n",
       "      <th>4</th>\n",
       "      <td>4</td>\n",
       "      <td>How do you feel when you say that?</td>\n",
       "      <td>Eliza</td>\n",
       "      <td>1</td>\n",
       "      <td>neutral</td>\n",
       "    </tr>\n",
       "  </tbody>\n",
       "</table>\n",
       "</div>"
      ],
      "text/plain": [
       "   Unnamed: 0                               utterance speaker  turn_id  \\\n",
       "0           0  Hello Piek. How are you feeling today?   Eliza        1   \n",
       "1           1                                I am sad    Piek        1   \n",
       "2           2        How do you feel about being sad?   Eliza        1   \n",
       "3           3                                     Bad    Piek        1   \n",
       "4           4      How do you feel when you say that?   Eliza        1   \n",
       "\n",
       "      Gold  \n",
       "0  neutral  \n",
       "1  sadness  \n",
       "2  neutral  \n",
       "3  sadness  \n",
       "4  neutral  "
      ]
     },
     "execution_count": 25,
     "metadata": {},
     "output_type": "execute_result"
    }
   ],
   "source": [
    "### We add a column of gold labels to th dataframe when we are done. \n",
    "###The gold_labels list should have the same length as the number of rows.\n",
    "df['Gold']=gold_labels\n",
    "df.head()"
   ]
  },
  {
   "cell_type": "markdown",
   "metadata": {},
   "source": [
    "# 3. Save the conversation to disk"
   ]
  },
  {
   "cell_type": "markdown",
   "metadata": {},
   "source": [
    "You need to annotated conversation for the final assignment. We therefore save it to disk so that we can load it later."
   ]
  },
  {
   "cell_type": "code",
   "execution_count": 23,
   "metadata": {},
   "outputs": [],
   "source": [
    "file = \"my_emotional_conversation.csv\"\n",
    "df.to_csv(file)"
   ]
  },
  {
   "cell_type": "markdown",
   "metadata": {},
   "source": [
    "## End of Notebook"
   ]
  },
  {
   "cell_type": "code",
   "execution_count": null,
   "metadata": {},
   "outputs": [],
   "source": []
  }
 ],
 "metadata": {
  "kernelspec": {
   "display_name": "Python 3",
   "language": "python",
   "name": "python3"
  },
  "language_info": {
   "codemirror_mode": {
    "name": "ipython",
    "version": 3
   },
   "file_extension": ".py",
   "mimetype": "text/x-python",
   "name": "python",
   "nbconvert_exporter": "python",
   "pygments_lexer": "ipython3",
   "version": "3.9.7"
  }
 },
 "nbformat": 4,
 "nbformat_minor": 4
}
