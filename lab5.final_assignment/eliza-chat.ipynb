{
 "cells": [
  {
   "cell_type": "markdown",
   "metadata": {},
   "source": [
    "## Eliza implementation\n",
    "\n",
    "This notebook is taken from: https://github.com/itu-qsp/eliza"
   ]
  },
  {
   "cell_type": "markdown",
   "metadata": {},
   "source": [
    "## 1. Loading and running Eliza"
   ]
  },
  {
   "cell_type": "markdown",
   "metadata": {},
   "source": [
    "We adapted the Eliza code in the *eliza.py* file from the original Github so that the Speaker information and turn identifier are saved in a JSON structure for each turn. We wil use the stored conversation to create a Pandas frame and try to assign emotions to each utterance."
   ]
  },
  {
   "cell_type": "code",
   "execution_count": 1,
   "metadata": {
    "scrolled": true
   },
   "outputs": [],
   "source": [
    "import eliza as el\n",
    "import pandas as pd"
   ]
  },
  {
   "cell_type": "code",
   "execution_count": 14,
   "metadata": {},
   "outputs": [
    {
     "name": "stdout",
     "output_type": "stream",
     "text": [
      "My name is Eliza. What is your name?\n"
     ]
    },
    {
     "name": "stdin",
     "output_type": "stream",
     "text": [
      ">  Piek\n"
     ]
    },
    {
     "name": "stdout",
     "output_type": "stream",
     "text": [
      "Hello Piek. How are you feeling today?\n"
     ]
    },
    {
     "name": "stdin",
     "output_type": "stream",
     "text": [
      ">  stop\n"
     ]
    }
   ],
   "source": [
    "el.talk_to_me()"
   ]
  },
  {
   "cell_type": "markdown",
   "metadata": {},
   "source": [
    "We can now inspect the stored conversation and load the JSON in a Pandas dataframe."
   ]
  },
  {
   "cell_type": "code",
   "execution_count": 4,
   "metadata": {},
   "outputs": [
    {
     "name": "stdout",
     "output_type": "stream",
     "text": [
      "[{'utterance': 'Hello Piek. How are you feeling today?', 'speaker': 'Eliza', 'turn_id': 1}, {'utterance': 'I am bored', 'speaker': 'Piek', 'turn_id': 1}, {'utterance': 'Did you come to me because you are bored?', 'speaker': 'Eliza', 'turn_id': 1}, {'utterance': 'Yes', 'speaker': 'Piek', 'turn_id': 1}, {'utterance': 'You seem quite sure.', 'speaker': 'Eliza', 'turn_id': 1}, {'utterance': 'I am, I am desperate', 'speaker': 'Piek', 'turn_id': 1}, {'utterance': 'Why do you say that you am, you are desperate?', 'speaker': 'Eliza', 'turn_id': 1}, {'utterance': 'Because I want to have some fun', 'speaker': 'Piek', 'turn_id': 1}, {'utterance': 'Does that reason apply to anything else?', 'speaker': 'Eliza', 'turn_id': 1}, {'utterance': 'No', 'speaker': 'Piek', 'turn_id': 1}, {'utterance': 'Please tell me more.', 'speaker': 'Eliza', 'turn_id': 1}, {'utterance': 'Sometimes I am sad and I don’t want to have fun', 'speaker': 'Piek', 'turn_id': 1}, {'utterance': \"Let's change focus a bit... Tell me about your family.\", 'speaker': 'Eliza', 'turn_id': 1}, {'utterance': 'My family is big', 'speaker': 'Piek', 'turn_id': 1}, {'utterance': 'Why do you say that your family is big?', 'speaker': 'Eliza', 'turn_id': 1}, {'utterance': '5 sisters and 4 vorthers', 'speaker': 'Piek', 'turn_id': 1}, {'utterance': 'Very interesting.', 'speaker': 'Eliza', 'turn_id': 1}]\n"
     ]
    }
   ],
   "source": [
    "print(el.conversation)"
   ]
  },
  {
   "cell_type": "code",
   "execution_count": 5,
   "metadata": {},
   "outputs": [
    {
     "name": "stdout",
     "output_type": "stream",
     "text": [
      "<class 'pandas.core.frame.DataFrame'>\n",
      "RangeIndex: 17 entries, 0 to 16\n",
      "Data columns (total 3 columns):\n",
      " #   Column     Non-Null Count  Dtype \n",
      "---  ------     --------------  ----- \n",
      " 0   utterance  17 non-null     object\n",
      " 1   speaker    17 non-null     object\n",
      " 2   turn_id    17 non-null     int64 \n",
      "dtypes: int64(1), object(2)\n",
      "memory usage: 536.0+ bytes\n"
     ]
    }
   ],
   "source": [
    "df = pd.DataFrame.from_dict(el.conversation)\n",
    "df.info()"
   ]
  },
  {
   "cell_type": "code",
   "execution_count": 6,
   "metadata": {},
   "outputs": [
    {
     "data": {
      "text/html": [
       "<div>\n",
       "<style scoped>\n",
       "    .dataframe tbody tr th:only-of-type {\n",
       "        vertical-align: middle;\n",
       "    }\n",
       "\n",
       "    .dataframe tbody tr th {\n",
       "        vertical-align: top;\n",
       "    }\n",
       "\n",
       "    .dataframe thead th {\n",
       "        text-align: right;\n",
       "    }\n",
       "</style>\n",
       "<table border=\"1\" class=\"dataframe\">\n",
       "  <thead>\n",
       "    <tr style=\"text-align: right;\">\n",
       "      <th></th>\n",
       "      <th>utterance</th>\n",
       "      <th>speaker</th>\n",
       "      <th>turn_id</th>\n",
       "    </tr>\n",
       "  </thead>\n",
       "  <tbody>\n",
       "    <tr>\n",
       "      <th>0</th>\n",
       "      <td>Hello Piek. How are you feeling today?</td>\n",
       "      <td>Eliza</td>\n",
       "      <td>1</td>\n",
       "    </tr>\n",
       "    <tr>\n",
       "      <th>1</th>\n",
       "      <td>I am bored</td>\n",
       "      <td>Piek</td>\n",
       "      <td>1</td>\n",
       "    </tr>\n",
       "    <tr>\n",
       "      <th>2</th>\n",
       "      <td>Did you come to me because you are bored?</td>\n",
       "      <td>Eliza</td>\n",
       "      <td>1</td>\n",
       "    </tr>\n",
       "    <tr>\n",
       "      <th>3</th>\n",
       "      <td>Yes</td>\n",
       "      <td>Piek</td>\n",
       "      <td>1</td>\n",
       "    </tr>\n",
       "    <tr>\n",
       "      <th>4</th>\n",
       "      <td>You seem quite sure.</td>\n",
       "      <td>Eliza</td>\n",
       "      <td>1</td>\n",
       "    </tr>\n",
       "  </tbody>\n",
       "</table>\n",
       "</div>"
      ],
      "text/plain": [
       "                                   utterance speaker  turn_id\n",
       "0     Hello Piek. How are you feeling today?   Eliza        1\n",
       "1                                 I am bored    Piek        1\n",
       "2  Did you come to me because you are bored?   Eliza        1\n",
       "3                                        Yes    Piek        1\n",
       "4                       You seem quite sure.   Eliza        1"
      ]
     },
     "execution_count": 6,
     "metadata": {},
     "output_type": "execute_result"
    }
   ],
   "source": [
    "df.head()"
   ]
  },
  {
   "cell_type": "code",
   "execution_count": 16,
   "metadata": {},
   "outputs": [],
   "source": [
    "file = \"conversation.csv\"\n",
    "df.to_csv(file)"
   ]
  },
  {
   "cell_type": "markdown",
   "metadata": {},
   "source": [
    "## End of Notebook"
   ]
  },
  {
   "cell_type": "code",
   "execution_count": null,
   "metadata": {},
   "outputs": [],
   "source": []
  }
 ],
 "metadata": {
  "kernelspec": {
   "display_name": "Python 3",
   "language": "python",
   "name": "python3"
  },
  "language_info": {
   "codemirror_mode": {
    "name": "ipython",
    "version": 3
   },
   "file_extension": ".py",
   "mimetype": "text/x-python",
   "name": "python",
   "nbconvert_exporter": "python",
   "pygments_lexer": "ipython3",
   "version": "3.9.7"
  }
 },
 "nbformat": 4,
 "nbformat_minor": 4
}
