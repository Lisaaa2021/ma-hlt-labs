{
 "cells": [
  {
   "cell_type": "markdown",
   "metadata": {},
   "source": [
    "## Eliza implementation\n",
    "\n",
    "This notebook is taken from: https://github.com/itu-qsp/eliza"
   ]
  },
  {
   "cell_type": "markdown",
   "metadata": {},
   "source": [
    "## 1. Loading and running Eliza"
   ]
  },
  {
   "cell_type": "markdown",
   "metadata": {},
   "source": [
    "We adapted the Eliza code in the *eliza.py* file from the original Github so that the Speaker information and turn identifier are saved in a JSON structure for each turn. We wil use the stored conversation to create a Pandas frame and try to assign emotions to each utterance."
   ]
  },
  {
   "cell_type": "code",
   "execution_count": 1,
   "metadata": {
    "scrolled": true
   },
   "outputs": [],
   "source": [
    "import eliza as el\n",
    "import pandas as pd"
   ]
  },
  {
   "cell_type": "code",
   "execution_count": 9,
   "metadata": {},
   "outputs": [
    {
     "name": "stdout",
     "output_type": "stream",
     "text": [
      "My name is Eliza. What is your name?\n"
     ]
    },
    {
     "name": "stdin",
     "output_type": "stream",
     "text": [
      ">  Piek\n"
     ]
    },
    {
     "name": "stdout",
     "output_type": "stream",
     "text": [
      "Hello Piek. How are you feeling today?\n"
     ]
    },
    {
     "name": "stdin",
     "output_type": "stream",
     "text": [
      ">  Stop\n"
     ]
    }
   ],
   "source": [
    "el.talk_to_me()"
   ]
  },
  {
   "cell_type": "markdown",
   "metadata": {},
   "source": [
    "We can now inspect the stored conversation and load the JSON in a Pandas dataframe."
   ]
  },
  {
   "cell_type": "code",
   "execution_count": 5,
   "metadata": {},
   "outputs": [
    {
     "name": "stdout",
     "output_type": "stream",
     "text": [
      "[{'utterance': 'Hello Piek. How are you feeling today?', 'speaker': 'Eliza', 'turn_id': 1}, {'utterance': 'I am sad', 'speaker': 'Piek', 'turn_id': 1}, {'utterance': 'How do you feel about being sad?', 'speaker': 'Eliza', 'turn_id': 1}, {'utterance': 'Bad', 'speaker': 'Piek', 'turn_id': 1}, {'utterance': 'How do you feel when you say that?', 'speaker': 'Eliza', 'turn_id': 1}, {'utterance': 'I feel better when I talk about it', 'speaker': 'Piek', 'turn_id': 1}, {'utterance': 'Do you often feel better when you talk about it?', 'speaker': 'Eliza', 'turn_id': 1}, {'utterance': 'yes', 'speaker': 'Piek', 'turn_id': 1}, {'utterance': 'I see.', 'speaker': 'Eliza', 'turn_id': 1}, {'utterance': 'My cat died yesterday', 'speaker': 'Piek', 'turn_id': 1}, {'utterance': 'Why do you say that your cat died yesterday?', 'speaker': 'Eliza', 'turn_id': 1}, {'utterance': 'It made me sad', 'speaker': 'Piek', 'turn_id': 1}, {'utterance': 'Why do you say that it made you sad?', 'speaker': 'Eliza', 'turn_id': 1}, {'utterance': 'To explain it to you', 'speaker': 'Piek', 'turn_id': 1}, {'utterance': 'Please tell me more.', 'speaker': 'Eliza', 'turn_id': 1}, {'utterance': 'She was always on my side', 'speaker': 'Piek', 'turn_id': 1}, {'utterance': 'How do you feel when you say that?', 'speaker': 'Eliza', 'turn_id': 1}, {'utterance': 'She was 17 years old.', 'speaker': 'Piek', 'turn_id': 1}, {'utterance': 'I see.  And what does that tell you?', 'speaker': 'Eliza', 'turn_id': 1}, {'utterance': 'That I am a social person', 'speaker': 'Piek', 'turn_id': 1}, {'utterance': 'Very interesting.', 'speaker': 'Eliza', 'turn_id': 1}]\n"
     ]
    }
   ],
   "source": [
    "print(el.conversation)"
   ]
  },
  {
   "cell_type": "code",
   "execution_count": 6,
   "metadata": {},
   "outputs": [
    {
     "name": "stdout",
     "output_type": "stream",
     "text": [
      "<class 'pandas.core.frame.DataFrame'>\n",
      "RangeIndex: 21 entries, 0 to 20\n",
      "Data columns (total 3 columns):\n",
      " #   Column     Non-Null Count  Dtype \n",
      "---  ------     --------------  ----- \n",
      " 0   utterance  21 non-null     object\n",
      " 1   speaker    21 non-null     object\n",
      " 2   turn_id    21 non-null     int64 \n",
      "dtypes: int64(1), object(2)\n",
      "memory usage: 632.0+ bytes\n"
     ]
    }
   ],
   "source": [
    "df = pd.DataFrame.from_dict(el.conversation)\n",
    "df.info()"
   ]
  },
  {
   "cell_type": "code",
   "execution_count": 7,
   "metadata": {},
   "outputs": [
    {
     "data": {
      "text/html": [
       "<div>\n",
       "<style scoped>\n",
       "    .dataframe tbody tr th:only-of-type {\n",
       "        vertical-align: middle;\n",
       "    }\n",
       "\n",
       "    .dataframe tbody tr th {\n",
       "        vertical-align: top;\n",
       "    }\n",
       "\n",
       "    .dataframe thead th {\n",
       "        text-align: right;\n",
       "    }\n",
       "</style>\n",
       "<table border=\"1\" class=\"dataframe\">\n",
       "  <thead>\n",
       "    <tr style=\"text-align: right;\">\n",
       "      <th></th>\n",
       "      <th>utterance</th>\n",
       "      <th>speaker</th>\n",
       "      <th>turn_id</th>\n",
       "    </tr>\n",
       "  </thead>\n",
       "  <tbody>\n",
       "    <tr>\n",
       "      <th>0</th>\n",
       "      <td>Hello Piek. How are you feeling today?</td>\n",
       "      <td>Eliza</td>\n",
       "      <td>1</td>\n",
       "    </tr>\n",
       "    <tr>\n",
       "      <th>1</th>\n",
       "      <td>I am sad</td>\n",
       "      <td>Piek</td>\n",
       "      <td>1</td>\n",
       "    </tr>\n",
       "    <tr>\n",
       "      <th>2</th>\n",
       "      <td>How do you feel about being sad?</td>\n",
       "      <td>Eliza</td>\n",
       "      <td>1</td>\n",
       "    </tr>\n",
       "    <tr>\n",
       "      <th>3</th>\n",
       "      <td>Bad</td>\n",
       "      <td>Piek</td>\n",
       "      <td>1</td>\n",
       "    </tr>\n",
       "    <tr>\n",
       "      <th>4</th>\n",
       "      <td>How do you feel when you say that?</td>\n",
       "      <td>Eliza</td>\n",
       "      <td>1</td>\n",
       "    </tr>\n",
       "  </tbody>\n",
       "</table>\n",
       "</div>"
      ],
      "text/plain": [
       "                                utterance speaker  turn_id\n",
       "0  Hello Piek. How are you feeling today?   Eliza        1\n",
       "1                                I am sad    Piek        1\n",
       "2        How do you feel about being sad?   Eliza        1\n",
       "3                                     Bad    Piek        1\n",
       "4      How do you feel when you say that?   Eliza        1"
      ]
     },
     "execution_count": 7,
     "metadata": {},
     "output_type": "execute_result"
    }
   ],
   "source": [
    "df.head()"
   ]
  },
  {
   "cell_type": "markdown",
   "metadata": {},
   "source": [
    "# 2. Annotate the conversation with emotion labels"
   ]
  },
  {
   "cell_type": "markdown",
   "metadata": {},
   "source": [
    "We define a simple loop over the turns in the conversation to add an Ekman emotion label:"
   ]
  },
  {
   "cell_type": "code",
   "execution_count": 5,
   "metadata": {},
   "outputs": [],
   "source": [
    "file = 'conversation.csv'\n",
    "df = pd.read_csv(file)"
   ]
  },
  {
   "cell_type": "code",
   "execution_count": null,
   "metadata": {},
   "outputs": [
    {
     "name": "stdout",
     "output_type": "stream",
     "text": [
      "Hello Piek. How are you feeling today?\n"
     ]
    },
    {
     "name": "stdin",
     "output_type": "stream",
     "text": [
      "label>  neutral\n"
     ]
    },
    {
     "name": "stdout",
     "output_type": "stream",
     "text": [
      "I am sad\n"
     ]
    },
    {
     "name": "stdin",
     "output_type": "stream",
     "text": [
      "label>  sadness\n"
     ]
    },
    {
     "name": "stdout",
     "output_type": "stream",
     "text": [
      "How do you feel about being sad?\n"
     ]
    },
    {
     "name": "stdin",
     "output_type": "stream",
     "text": [
      "label>  neutral\n"
     ]
    },
    {
     "name": "stdout",
     "output_type": "stream",
     "text": [
      "Bad\n"
     ]
    },
    {
     "name": "stdin",
     "output_type": "stream",
     "text": [
      "label>  sadness\n"
     ]
    },
    {
     "name": "stdout",
     "output_type": "stream",
     "text": [
      "How do you feel when you say that?\n"
     ]
    },
    {
     "name": "stdin",
     "output_type": "stream",
     "text": [
      "label>  neutral\n"
     ]
    },
    {
     "name": "stdout",
     "output_type": "stream",
     "text": [
      "I feel better when I talk about it\n"
     ]
    },
    {
     "name": "stdin",
     "output_type": "stream",
     "text": [
      "label>  joy\n"
     ]
    },
    {
     "name": "stdout",
     "output_type": "stream",
     "text": [
      "Do you often feel better when you talk about it?\n"
     ]
    },
    {
     "name": "stdin",
     "output_type": "stream",
     "text": [
      "label>  neutral\n"
     ]
    },
    {
     "name": "stdout",
     "output_type": "stream",
     "text": [
      "yes\n"
     ]
    }
   ],
   "source": [
    "ekman_labels = [\"anger\", \"disgust\", \"fear\", \"joy\", \"sadness\", \"surprise\", \"neutral\"]\n",
    "gold_labels = []\n",
    "gold = \"\"\n",
    "for index, utterance in enumerate(df['utterance']):\n",
    "    print(utterance)\n",
    "    while not gold in ekman_labels:\n",
    "        gold = input(\"label> \")\n",
    "    gold_labels.append(gold)\n",
    "    gold=\"\"\n",
    "\n",
    "print(gold_labels)\n",
    "df['Gold']=gold_labels"
   ]
  },
  {
   "cell_type": "markdown",
   "metadata": {},
   "source": [
    "# 3. Save the conversation to disk"
   ]
  },
  {
   "cell_type": "markdown",
   "metadata": {},
   "source": [
    "You need to annotated conversation for the final assignment. We therefore save it to disk so that we can load it later."
   ]
  },
  {
   "cell_type": "code",
   "execution_count": 8,
   "metadata": {},
   "outputs": [],
   "source": [
    "file = \"my_emotional_conversation.csv\"\n",
    "df.to_csv(file)"
   ]
  },
  {
   "cell_type": "markdown",
   "metadata": {},
   "source": [
    "## End of Notebook"
   ]
  },
  {
   "cell_type": "code",
   "execution_count": null,
   "metadata": {},
   "outputs": [],
   "source": []
  }
 ],
 "metadata": {
  "kernelspec": {
   "display_name": "Python 3",
   "language": "python",
   "name": "python3"
  },
  "language_info": {
   "codemirror_mode": {
    "name": "ipython",
    "version": 3
   },
   "file_extension": ".py",
   "mimetype": "text/x-python",
   "name": "python",
   "nbconvert_exporter": "python",
   "pygments_lexer": "ipython3",
   "version": "3.9.7"
  }
 },
 "nbformat": 4,
 "nbformat_minor": 4
}
