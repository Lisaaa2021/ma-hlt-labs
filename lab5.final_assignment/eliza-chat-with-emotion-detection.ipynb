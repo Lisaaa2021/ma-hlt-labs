{
 "cells": [
  {
   "cell_type": "markdown",
   "metadata": {
    "tags": []
   },
   "source": [
    "# Lab5 Final assignment: putting things together"
   ]
  },
  {
   "cell_type": "markdown",
   "metadata": {},
   "source": [
    "The final assignment is an individual assignment. You need to have an emotional conversation with Eliza"
   ]
  },
  {
   "cell_type": "markdown",
   "metadata": {
    "tags": []
   },
   "source": [
    "## 1. Loading a conversation saved on disk"
   ]
  },
  {
   "cell_type": "markdown",
   "metadata": {},
   "source": [
    "Using the notebook **eliza-chat.ipynb**, you can create a conversation with Eliza and save it to disk. For this final assignment, we ask each group "
   ]
  },
  {
   "cell_type": "code",
   "execution_count": 6,
   "metadata": {},
   "outputs": [],
   "source": [
    "import pandas as pd"
   ]
  },
  {
   "cell_type": "code",
   "execution_count": 5,
   "metadata": {},
   "outputs": [
    {
     "data": {
      "text/html": [
       "<div>\n",
       "<style scoped>\n",
       "    .dataframe tbody tr th:only-of-type {\n",
       "        vertical-align: middle;\n",
       "    }\n",
       "\n",
       "    .dataframe tbody tr th {\n",
       "        vertical-align: top;\n",
       "    }\n",
       "\n",
       "    .dataframe thead th {\n",
       "        text-align: right;\n",
       "    }\n",
       "</style>\n",
       "<table border=\"1\" class=\"dataframe\">\n",
       "  <thead>\n",
       "    <tr style=\"text-align: right;\">\n",
       "      <th></th>\n",
       "      <th>Unnamed: 0</th>\n",
       "      <th>utterance</th>\n",
       "      <th>speaker</th>\n",
       "      <th>turn_id</th>\n",
       "    </tr>\n",
       "  </thead>\n",
       "  <tbody>\n",
       "    <tr>\n",
       "      <th>0</th>\n",
       "      <td>0</td>\n",
       "      <td>Hello Piek. How are you feeling today?</td>\n",
       "      <td>Eliza</td>\n",
       "      <td>1</td>\n",
       "    </tr>\n",
       "    <tr>\n",
       "      <th>1</th>\n",
       "      <td>1</td>\n",
       "      <td>I am sad</td>\n",
       "      <td>Piek</td>\n",
       "      <td>1</td>\n",
       "    </tr>\n",
       "    <tr>\n",
       "      <th>2</th>\n",
       "      <td>2</td>\n",
       "      <td>How do you feel about being sad?</td>\n",
       "      <td>Eliza</td>\n",
       "      <td>1</td>\n",
       "    </tr>\n",
       "    <tr>\n",
       "      <th>3</th>\n",
       "      <td>3</td>\n",
       "      <td>Bad</td>\n",
       "      <td>Piek</td>\n",
       "      <td>1</td>\n",
       "    </tr>\n",
       "    <tr>\n",
       "      <th>4</th>\n",
       "      <td>4</td>\n",
       "      <td>How do you feel when you say that?</td>\n",
       "      <td>Eliza</td>\n",
       "      <td>1</td>\n",
       "    </tr>\n",
       "  </tbody>\n",
       "</table>\n",
       "</div>"
      ],
      "text/plain": [
       "   Unnamed: 0                               utterance speaker  turn_id\n",
       "0           0  Hello Piek. How are you feeling today?   Eliza        1\n",
       "1           1                                I am sad    Piek        1\n",
       "2           2        How do you feel about being sad?   Eliza        1\n",
       "3           3                                     Bad    Piek        1\n",
       "4           4      How do you feel when you say that?   Eliza        1"
      ]
     },
     "execution_count": 5,
     "metadata": {},
     "output_type": "execute_result"
    }
   ],
   "source": [
    "file = 'conversation.csv'\n",
    "df = pd.read_csv(file)\n",
    "df.head()"
   ]
  },
  {
   "cell_type": "code",
   "execution_count": null,
   "metadata": {},
   "outputs": [],
   "source": [
    "# 2. Annotate the data with an emotion"
   ]
  },
  {
   "cell_type": "markdown",
   "metadata": {},
   "source": [
    "## 3. BERT Finetuned for emotion detection with GO dataset"
   ]
  },
  {
   "cell_type": "markdown",
   "metadata": {},
   "source": [
    "We will now load the language model BERT that is finetuned for emotion detection using the *go_emotions* data set. Go_emotions has 28 nuanced emotion labels including neutral, so many more than the basic Ekman emotion that we have seen before. \n",
    "\n",
    "We will load the finetuned model from the huggingface.co platform as part of a so-called transformer *pipeline*. Pipelines are predefined NLP tasks that deploy a trained model for a specific type of task. See the website for an overview of the different pipelines defined by huggingface.co:\n",
    "\n",
    "https://huggingface.co/docs/transformers/main_classes/pipelines\n",
    "\n",
    "The pipelines are abstractions from specific task such as sentiment-analysis and entity recognition. In the case of sentiment-analysis, the complete sentence representation of the model is taken as the input and classified for the the defined labels. In the case of entity recognition, each token in a sentence is classified separately in a sequence, i.e. a sequence classification task. Whereas a finetuned model can be used for a task depends on the way it was fine tuned with labeled data. \n",
    "\n",
    "We will define a *sentiment-analysis* pipeline and load the BERT model that was finetuned to classify sentences with the 28 GO_EMOTION labels. It will return a score for all the labels when we set the parameter *return_all_scores* to True."
   ]
  },
  {
   "cell_type": "code",
   "execution_count": 4,
   "metadata": {},
   "outputs": [],
   "source": [
    "#import numpy as np\n",
    "from transformers import pipeline"
   ]
  },
  {
   "cell_type": "code",
   "execution_count": 8,
   "metadata": {},
   "outputs": [],
   "source": [
    "model_name = \"bhadresh-savani/bert-base-go-emotion\" \n",
    "emotion = pipeline('sentiment-analysis', \n",
    "                    model=model_name, return_all_scores=True, truncation=True)"
   ]
  },
  {
   "cell_type": "markdown",
   "metadata": {},
   "source": [
    "We now created an instance *emotion* of a transformer pipeline in analogy of an sentiment analysis classification task that we can apply to any utterance. The pipeline will use the tokenizer of the finetuned model and feed the sentence representation to the classifier as a sequence of contextualized token representations."
   ]
  },
  {
   "cell_type": "code",
   "execution_count": 9,
   "metadata": {},
   "outputs": [
    {
     "name": "stdout",
     "output_type": "stream",
     "text": [
      "[{'label': 'admiration', 'score': 0.0007500764913856983}, {'label': 'amusement', 'score': 0.00011047106818296015}, {'label': 'anger', 'score': 9.69245083979331e-05}, {'label': 'annoyance', 'score': 0.0002597433340270072}, {'label': 'approval', 'score': 0.0011426000855863094}, {'label': 'caring', 'score': 0.00030970710213296115}, {'label': 'confusion', 'score': 0.00014959769032429904}, {'label': 'curiosity', 'score': 0.00015838834224268794}, {'label': 'desire', 'score': 0.0001385686337016523}, {'label': 'disappointment', 'score': 0.00016352151578757912}, {'label': 'disapproval', 'score': 0.00020030527957715094}, {'label': 'disgust', 'score': 5.9684312873287126e-05}, {'label': 'embarrassment', 'score': 5.588319982052781e-05}, {'label': 'excitement', 'score': 0.00018467492191120982}, {'label': 'fear', 'score': 5.239497113507241e-05}, {'label': 'gratitude', 'score': 0.9934592247009277}, {'label': 'grief', 'score': 2.022587250394281e-05}, {'label': 'joy', 'score': 0.0003203642263542861}, {'label': 'love', 'score': 0.00014530749467667192}, {'label': 'nervousness', 'score': 3.977019150624983e-05}, {'label': 'optimism', 'score': 0.0003828597837127745}, {'label': 'pride', 'score': 8.253977284766734e-05}, {'label': 'realization', 'score': 0.0004446822276804596}, {'label': 'relief', 'score': 0.00020675198175013065}, {'label': 'remorse', 'score': 5.820744263473898e-05}, {'label': 'sadness', 'score': 9.699811926111579e-05}, {'label': 'surprise', 'score': 0.00010775569535326213}, {'label': 'neutral', 'score': 0.0008028814336284995}]\n"
     ]
    }
   ],
   "source": [
    "emotion_labels = emotion(\"Thanks for using it.\")\n",
    "print(emotion_labels[0])"
   ]
  },
  {
   "cell_type": "markdown",
   "metadata": {},
   "source": [
    "## 3. Applying emotion classification to Eliza conversations"
   ]
  },
  {
   "cell_type": "markdown",
   "metadata": {},
   "source": [
    "In the next part, we will apply the GO_EMOTION classifier *emotion* to the conversation that we stored in a Pandas frame. We will also map the GO_EMOTIONS to the 6 basic Ekman emotion and to neutral as well as to sentiment values. For the mappings, we defined a few simple utility functions in the next cell. We also define a sort function to list the emotions from the highest score down."
   ]
  },
  {
   "cell_type": "code",
   "execution_count": 10,
   "metadata": {},
   "outputs": [],
   "source": [
    "import lab5_util as util"
   ]
  },
  {
   "cell_type": "code",
   "execution_count": 11,
   "metadata": {},
   "outputs": [
    {
     "data": {
      "text/html": [
       "<div>\n",
       "<style scoped>\n",
       "    .dataframe tbody tr th:only-of-type {\n",
       "        vertical-align: middle;\n",
       "    }\n",
       "\n",
       "    .dataframe tbody tr th {\n",
       "        vertical-align: top;\n",
       "    }\n",
       "\n",
       "    .dataframe thead th {\n",
       "        text-align: right;\n",
       "    }\n",
       "</style>\n",
       "<table border=\"1\" class=\"dataframe\">\n",
       "  <thead>\n",
       "    <tr style=\"text-align: right;\">\n",
       "      <th></th>\n",
       "      <th>utterance</th>\n",
       "      <th>speaker</th>\n",
       "      <th>turn_id</th>\n",
       "      <th>Sentiment</th>\n",
       "      <th>SentimentScore</th>\n",
       "      <th>Ekman</th>\n",
       "      <th>EkmanScore</th>\n",
       "      <th>Go</th>\n",
       "      <th>GoScore</th>\n",
       "    </tr>\n",
       "  </thead>\n",
       "  <tbody>\n",
       "    <tr>\n",
       "      <th>0</th>\n",
       "      <td>Hello Piek. How are you feeling today?</td>\n",
       "      <td>Eliza</td>\n",
       "      <td>1</td>\n",
       "      <td>ambiguous</td>\n",
       "      <td>0.126107</td>\n",
       "      <td>neutral</td>\n",
       "      <td>0.287125</td>\n",
       "      <td>curiosity</td>\n",
       "      <td>0.330824</td>\n",
       "    </tr>\n",
       "    <tr>\n",
       "      <th>1</th>\n",
       "      <td>I am bored</td>\n",
       "      <td>Piek</td>\n",
       "      <td>1</td>\n",
       "      <td>negative</td>\n",
       "      <td>0.067721</td>\n",
       "      <td>neutral</td>\n",
       "      <td>0.139140</td>\n",
       "      <td>annoyance</td>\n",
       "      <td>0.167206</td>\n",
       "    </tr>\n",
       "    <tr>\n",
       "      <th>2</th>\n",
       "      <td>Did you come to me because you are bored?</td>\n",
       "      <td>Eliza</td>\n",
       "      <td>1</td>\n",
       "      <td>ambiguous</td>\n",
       "      <td>0.134255</td>\n",
       "      <td>neutral</td>\n",
       "      <td>0.249972</td>\n",
       "      <td>curiosity</td>\n",
       "      <td>0.383398</td>\n",
       "    </tr>\n",
       "    <tr>\n",
       "      <th>3</th>\n",
       "      <td>Yes</td>\n",
       "      <td>Piek</td>\n",
       "      <td>1</td>\n",
       "      <td>positive</td>\n",
       "      <td>0.029085</td>\n",
       "      <td>neutral</td>\n",
       "      <td>0.611555</td>\n",
       "      <td>neutral</td>\n",
       "      <td>0.611555</td>\n",
       "    </tr>\n",
       "    <tr>\n",
       "      <th>4</th>\n",
       "      <td>You seem quite sure.</td>\n",
       "      <td>Eliza</td>\n",
       "      <td>1</td>\n",
       "      <td>positive</td>\n",
       "      <td>0.059274</td>\n",
       "      <td>neutral</td>\n",
       "      <td>0.196110</td>\n",
       "      <td>approval</td>\n",
       "      <td>0.570112</td>\n",
       "    </tr>\n",
       "  </tbody>\n",
       "</table>\n",
       "</div>"
      ],
      "text/plain": [
       "                                   utterance speaker  turn_id  Sentiment  \\\n",
       "0     Hello Piek. How are you feeling today?   Eliza        1  ambiguous   \n",
       "1                                 I am bored    Piek        1   negative   \n",
       "2  Did you come to me because you are bored?   Eliza        1  ambiguous   \n",
       "3                                        Yes    Piek        1   positive   \n",
       "4                       You seem quite sure.   Eliza        1   positive   \n",
       "\n",
       "   SentimentScore    Ekman  EkmanScore         Go   GoScore  \n",
       "0        0.126107  neutral    0.287125  curiosity  0.330824  \n",
       "1        0.067721  neutral    0.139140  annoyance  0.167206  \n",
       "2        0.134255  neutral    0.249972  curiosity  0.383398  \n",
       "3        0.029085  neutral    0.611555    neutral  0.611555  \n",
       "4        0.059274  neutral    0.196110   approval  0.570112  "
      ]
     },
     "execution_count": 11,
     "metadata": {},
     "output_type": "execute_result"
    }
   ],
   "source": [
    "sentiment_emotions = []\n",
    "sentiment_scores = []\n",
    "ekman_emotions = []\n",
    "ekman_scores = []\n",
    "go_emotions = []\n",
    "go_scores = []\n",
    "\n",
    "for index, utterance in enumerate(df['utterance']):\n",
    "    emotion_labels = emotion(utterance)\n",
    "    sorted_emotion_labels = sort_predictions(emotion_labels[0])\n",
    "    go_emotions.append(sorted_emotion_labels[0]['label'])\n",
    "    go_scores.append(sorted_emotion_labels[0]['score'])\n",
    "\n",
    "    ekman_labels = get_averaged_mapped_scores(ekman, emotion_labels)\n",
    "    ekman_emotions.append(ekman_labels[0]['label'])\n",
    "    ekman_scores.append(ekman_labels[0]['score'])\n",
    "\n",
    "    sentiment_labels = get_averaged_mapped_scores(sentiment, emotion_labels)\n",
    "    sentiment_emotions.append(sentiment_labels[0]['label'])\n",
    "    sentiment_scores.append(sentiment_labels[0]['score'])\n",
    "\n",
    "\n",
    "df['Sentiment']=sentiment_emotions\n",
    "df['SentimentScore']=sentiment_scores\n",
    "df['Ekman']=ekman_emotions\n",
    "df['EkmanScore']=ekman_scores\n",
    "df['Go']=go_emotions\n",
    "df['GoScore']=go_scores\n",
    "df.head()"
   ]
  },
  {
   "cell_type": "code",
   "execution_count": 2,
   "metadata": {},
   "outputs": [],
   "source": [
    "file = \"conversation_with_emotion.csv\"\n",
    "df.to_csv(file)"
   ]
  },
  {
   "cell_type": "markdown",
   "metadata": {},
   "source": [
    "## End of Notebook"
   ]
  },
  {
   "cell_type": "code",
   "execution_count": null,
   "metadata": {},
   "outputs": [],
   "source": []
  }
 ],
 "metadata": {
  "kernelspec": {
   "display_name": "Python 3",
   "language": "python",
   "name": "python3"
  },
  "language_info": {
   "codemirror_mode": {
    "name": "ipython",
    "version": 3
   },
   "file_extension": ".py",
   "mimetype": "text/x-python",
   "name": "python",
   "nbconvert_exporter": "python",
   "pygments_lexer": "ipython3",
   "version": "3.9.7"
  }
 },
 "nbformat": 4,
 "nbformat_minor": 4
}
