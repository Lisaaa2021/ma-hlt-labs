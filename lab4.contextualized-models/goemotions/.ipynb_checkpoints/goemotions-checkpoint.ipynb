{
 "cells": [
  {
   "cell_type": "code",
   "execution_count": 19,
   "metadata": {},
   "outputs": [],
   "source": [
    "#!pip install transformers==4.12.5 pandas"
   ]
  },
  {
   "cell_type": "markdown",
   "metadata": {},
   "source": [
    "https://huggingface.co/datasets/go_emotions\n"
   ]
  },
  {
   "cell_type": "markdown",
   "metadata": {},
   "source": [
    "https://github.com/bhadreshpsavani/UnderstandingNLP/blob/master/go_emotion_of_transformers_multilabel_text_classification_v2.ipynb"
   ]
  },
  {
   "cell_type": "code",
   "execution_count": 6,
   "metadata": {},
   "outputs": [],
   "source": [
    "import pandas as pd\n",
    "import numpy as np\n",
    "from transformers import AutoTokenizer, AutoModelForSequenceClassification, pipeline"
   ]
  },
  {
   "cell_type": "code",
   "execution_count": 22,
   "metadata": {},
   "outputs": [],
   "source": [
    "def sort_predictions(predictions):\n",
    "    return sorted(predictions, key=lambda x: x['score'], reverse=True)"
   ]
  },
  {
   "cell_type": "code",
   "execution_count": 15,
   "metadata": {},
   "outputs": [
    {
     "name": "stdout",
     "output_type": "stream",
     "text": [
      "[[{'label': 'admiration', 'score': 0.0007500764913856983}, {'label': 'amusement', 'score': 0.00011047106818296015}, {'label': 'anger', 'score': 9.69245083979331e-05}, {'label': 'annoyance', 'score': 0.0002597433340270072}, {'label': 'approval', 'score': 0.0011426000855863094}, {'label': 'caring', 'score': 0.00030970710213296115}, {'label': 'confusion', 'score': 0.00014959769032429904}, {'label': 'curiosity', 'score': 0.00015838834224268794}, {'label': 'desire', 'score': 0.0001385686337016523}, {'label': 'disappointment', 'score': 0.00016352151578757912}, {'label': 'disapproval', 'score': 0.00020030527957715094}, {'label': 'disgust', 'score': 5.9684312873287126e-05}, {'label': 'embarrassment', 'score': 5.588319982052781e-05}, {'label': 'excitement', 'score': 0.00018467492191120982}, {'label': 'fear', 'score': 5.239497113507241e-05}, {'label': 'gratitude', 'score': 0.9934592247009277}, {'label': 'grief', 'score': 2.022587250394281e-05}, {'label': 'joy', 'score': 0.0003203642263542861}, {'label': 'love', 'score': 0.00014530749467667192}, {'label': 'nervousness', 'score': 3.977019150624983e-05}, {'label': 'optimism', 'score': 0.0003828597837127745}, {'label': 'pride', 'score': 8.253977284766734e-05}, {'label': 'realization', 'score': 0.0004446822276804596}, {'label': 'relief', 'score': 0.00020675198175013065}, {'label': 'remorse', 'score': 5.820744263473898e-05}, {'label': 'sadness', 'score': 9.699811926111579e-05}, {'label': 'surprise', 'score': 0.00010775569535326213}, {'label': 'neutral', 'score': 0.0008028814336284995}]]\n"
     ]
    }
   ],
   "source": [
    "model_name = \"bhadresh-savani/bert-base-go-emotion\" \n",
    "model = AutoModelForSequenceClassification.from_pretrained(model_name)\n",
    "tokenizer = AutoTokenizer.from_pretrained(model_name)\n",
    "\n",
    "emotion = pipeline('sentiment-analysis', \n",
    "                    model='bhadresh-savani/bert-base-go-emotion', return_all_scores=True, truncation=True)\n",
    "\n",
    "emotion_labels = emotion(\"Thanks for using it.\")\n",
    "print(sort_predictions(emotion_labels[0]))"
   ]
  },
  {
   "cell_type": "code",
   "execution_count": 23,
   "metadata": {
    "tags": []
   },
   "outputs": [
    {
     "name": "stdout",
     "output_type": "stream",
     "text": [
      "[{'label': 'sadness', 'score': 0.24867339432239532}, {'label': 'neutral', 'score': 0.21279002726078033}, {'label': 'disappointment', 'score': 0.2054256796836853}, {'label': 'realization', 'score': 0.05153752118349075}, {'label': 'annoyance', 'score': 0.042753469198942184}, {'label': 'embarrassment', 'score': 0.03284032642841339}, {'label': 'remorse', 'score': 0.026224572211503983}, {'label': 'approval', 'score': 0.025565365329384804}, {'label': 'disapproval', 'score': 0.023622335866093636}, {'label': 'nervousness', 'score': 0.023144813254475594}, {'label': 'grief', 'score': 0.017624447122216225}, {'label': 'fear', 'score': 0.016139233484864235}, {'label': 'anger', 'score': 0.013256862759590149}, {'label': 'disgust', 'score': 0.01126873679459095}, {'label': 'confusion', 'score': 0.006879197433590889}, {'label': 'curiosity', 'score': 0.006388997659087181}, {'label': 'surprise', 'score': 0.005968704354017973}, {'label': 'desire', 'score': 0.005412624217569828}, {'label': 'optimism', 'score': 0.004661310464143753}, {'label': 'caring', 'score': 0.003945526201277971}, {'label': 'amusement', 'score': 0.003711253870278597}, {'label': 'admiration', 'score': 0.0024187322705984116}, {'label': 'excitement', 'score': 0.002312758006155491}, {'label': 'relief', 'score': 0.0021604036446660757}, {'label': 'joy', 'score': 0.001583897857926786}, {'label': 'pride', 'score': 0.001459416002035141}, {'label': 'love', 'score': 0.00121779041364789}, {'label': 'gratitude', 'score': 0.0010125864064320922}]\n",
      "[{'label': 'admiration', 'score': 0.6395094394683838}, {'label': 'approval', 'score': 0.1460922658443451}, {'label': 'neutral', 'score': 0.05182249844074249}, {'label': 'gratitude', 'score': 0.04941026121377945}, {'label': 'caring', 'score': 0.03433777391910553}, {'label': 'love', 'score': 0.014274378307163715}, {'label': 'optimism', 'score': 0.009929884225130081}, {'label': 'joy', 'score': 0.009541274048388004}, {'label': 'pride', 'score': 0.009303179569542408}, {'label': 'annoyance', 'score': 0.004345274530351162}, {'label': 'realization', 'score': 0.004092806950211525}, {'label': 'excitement', 'score': 0.0038562424015253782}, {'label': 'relief', 'score': 0.00338379992172122}, {'label': 'disapproval', 'score': 0.002962346887215972}, {'label': 'amusement', 'score': 0.002293964847922325}, {'label': 'desire', 'score': 0.002216895343735814}, {'label': 'disappointment', 'score': 0.0019786229822784662}, {'label': 'curiosity', 'score': 0.0018021020805463195}, {'label': 'anger', 'score': 0.0017343924846500158}, {'label': 'sadness', 'score': 0.0014971494674682617}, {'label': 'confusion', 'score': 0.0014800607459619641}, {'label': 'disgust', 'score': 0.0010494536254554987}, {'label': 'surprise', 'score': 0.0008286622469313443}, {'label': 'fear', 'score': 0.0006438640411943197}, {'label': 'nervousness', 'score': 0.0005159838474355638}, {'label': 'embarrassment', 'score': 0.00037512730341404676}, {'label': 'grief', 'score': 0.00036663273931480944}, {'label': 'remorse', 'score': 0.0003556370793376118}]\n",
      "[{'label': 'love', 'score': 0.7596386075019836}, {'label': 'admiration', 'score': 0.11656606942415237}, {'label': 'approval', 'score': 0.035963669419288635}, {'label': 'joy', 'score': 0.021270671859383583}, {'label': 'neutral', 'score': 0.017820920795202255}, {'label': 'excitement', 'score': 0.00838050153106451}, {'label': 'gratitude', 'score': 0.005693476181477308}, {'label': 'caring', 'score': 0.004869361873716116}, {'label': 'realization', 'score': 0.00393346231430769}, {'label': 'optimism', 'score': 0.0037283007986843586}, {'label': 'curiosity', 'score': 0.0031338767148554325}, {'label': 'annoyance', 'score': 0.0024868519976735115}, {'label': 'desire', 'score': 0.0023558936081826687}, {'label': 'amusement', 'score': 0.0018945903284475207}, {'label': 'confusion', 'score': 0.0018583390628919005}, {'label': 'pride', 'score': 0.0016310099745169282}, {'label': 'disapproval', 'score': 0.0015960176242515445}, {'label': 'disappointment', 'score': 0.0013871333794668317}, {'label': 'surprise', 'score': 0.0012654673773795366}, {'label': 'anger', 'score': 0.0010453236754983664}, {'label': 'sadness', 'score': 0.0009252849267795682}, {'label': 'disgust', 'score': 0.0006196120521053672}, {'label': 'relief', 'score': 0.0005012084729969501}, {'label': 'embarrassment', 'score': 0.0004829594399780035}, {'label': 'fear', 'score': 0.0003374786756467074}, {'label': 'nervousness', 'score': 0.0002386865671724081}, {'label': 'remorse', 'score': 0.00021377939265221357}, {'label': 'grief', 'score': 0.0001614085485925898}]\n",
      "[{'label': 'curiosity', 'score': 0.5052393674850464}, {'label': 'neutral', 'score': 0.2881709635257721}, {'label': 'confusion', 'score': 0.11643029004335403}, {'label': 'surprise', 'score': 0.016941411420702934}, {'label': 'annoyance', 'score': 0.01385431457310915}, {'label': 'anger', 'score': 0.012922532856464386}, {'label': 'realization', 'score': 0.0051476252265274525}, {'label': 'approval', 'score': 0.0048596798442304134}, {'label': 'disapproval', 'score': 0.0048584057949483395}, {'label': 'excitement', 'score': 0.003475046483799815}, {'label': 'disappointment', 'score': 0.002917993115261197}, {'label': 'gratitude', 'score': 0.002818514360114932}, {'label': 'admiration', 'score': 0.0027211385313421488}, {'label': 'disgust', 'score': 0.0025448312517255545}, {'label': 'caring', 'score': 0.0023752807173877954}, {'label': 'amusement', 'score': 0.002086170483380556}, {'label': 'joy', 'score': 0.0018421935383230448}, {'label': 'optimism', 'score': 0.0017882786924019456}, {'label': 'embarrassment', 'score': 0.001365224365144968}, {'label': 'fear', 'score': 0.001357295666821301}, {'label': 'sadness', 'score': 0.001290181651711464}, {'label': 'desire', 'score': 0.0012816695962101221}, {'label': 'love', 'score': 0.0010709459893405437}, {'label': 'nervousness', 'score': 0.0008444286067970097}, {'label': 'remorse', 'score': 0.0007343885954469442}, {'label': 'pride', 'score': 0.0004233452782500535}, {'label': 'grief', 'score': 0.00033389724558219314}, {'label': 'relief', 'score': 0.0003047279315069318}]\n",
      "[{'label': 'love', 'score': 0.8045744299888611}, {'label': 'admiration', 'score': 0.07363490015268326}, {'label': 'approval', 'score': 0.027946030721068382}, {'label': 'neutral', 'score': 0.0271149892359972}, {'label': 'joy', 'score': 0.021061895415186882}, {'label': 'excitement', 'score': 0.007463608402758837}, {'label': 'caring', 'score': 0.004594103898853064}, {'label': 'optimism', 'score': 0.003929877188056707}, {'label': 'gratitude', 'score': 0.0036080635618418455}, {'label': 'realization', 'score': 0.003593673463910818}, {'label': 'desire', 'score': 0.0035845087841153145}, {'label': 'annoyance', 'score': 0.002896262099966407}, {'label': 'amusement', 'score': 0.0024386795703321695}, {'label': 'disapproval', 'score': 0.0018539752345532179}, {'label': 'disappointment', 'score': 0.0017071005422621965}, {'label': 'curiosity', 'score': 0.0013988401042297482}, {'label': 'sadness', 'score': 0.001349101890809834}, {'label': 'pride', 'score': 0.0012927382485941052}, {'label': 'anger', 'score': 0.0012004498858004808}, {'label': 'confusion', 'score': 0.0010514127789065242}, {'label': 'surprise', 'score': 0.0008285735384561121}, {'label': 'disgust', 'score': 0.0007829511305317283}, {'label': 'embarrassment', 'score': 0.0005532686482183635}, {'label': 'relief', 'score': 0.0004478060291148722}, {'label': 'fear', 'score': 0.00040117092430591583}, {'label': 'nervousness', 'score': 0.000278405292192474}, {'label': 'remorse', 'score': 0.0002162251912523061}, {'label': 'grief', 'score': 0.0001968869037227705}]\n"
     ]
    }
   ],
   "source": [
    "print(sort_predictions(emotion(\"My iPhone broke before using it.\")[0]))\n",
    "print(sort_predictions(emotion(\"You are very helpful.\")[0]))\n",
    "print(sort_predictions(emotion(\"I really like you\")[0]))\n",
    "print(sort_predictions(emotion(\"How are you doing?\")[0]))\n",
    "print(sort_predictions(emotion(\"I like cats\")[0]))"
   ]
  },
  {
   "cell_type": "markdown",
   "metadata": {},
   "source": [
    "## Roberta based emotion detection\n",
    "\n",
    "https://huggingface.co/arpanghoshal/EmoRoBERTa"
   ]
  },
  {
   "cell_type": "code",
   "execution_count": 9,
   "metadata": {},
   "outputs": [],
   "source": [
    "#%pip install tensorflow"
   ]
  },
  {
   "cell_type": "code",
   "execution_count": 2,
   "metadata": {},
   "outputs": [
    {
     "data": {
      "application/vnd.jupyter.widget-view+json": {
       "model_id": "876e2a3b22bd4363838ed4d9187e75fc",
       "version_major": 2,
       "version_minor": 0
      },
      "text/plain": [
       "Downloading:   0%|          | 0.00/478M [00:00<?, ?B/s]"
      ]
     },
     "metadata": {},
     "output_type": "display_data"
    },
    {
     "name": "stderr",
     "output_type": "stream",
     "text": [
      "2022-08-01 15:44:43.670133: I tensorflow/core/platform/cpu_feature_guard.cc:193] This TensorFlow binary is optimized with oneAPI Deep Neural Network Library (oneDNN) to use the following CPU instructions in performance-critical operations:  AVX2 FMA\n",
      "To enable them in other operations, rebuild TensorFlow with the appropriate compiler flags.\n",
      "All model checkpoint layers were used when initializing TFRobertaForSequenceClassification.\n",
      "\n",
      "All the layers of TFRobertaForSequenceClassification were initialized from the model checkpoint at arpanghoshal/EmoRoBERTa.\n",
      "If your task is similar to the task the model of the checkpoint was trained on, you can already use TFRobertaForSequenceClassification for predictions without further training.\n",
      "404 Client Error: Not Found for url: https://huggingface.co/arpanghoshal/EmoRoBERTa/resolve/main/pytorch_model.bin\n",
      "All model checkpoint layers were used when initializing TFRobertaForSequenceClassification.\n",
      "\n",
      "All the layers of TFRobertaForSequenceClassification were initialized from the model checkpoint at arpanghoshal/EmoRoBERTa.\n",
      "If your task is similar to the task the model of the checkpoint was trained on, you can already use TFRobertaForSequenceClassification for predictions without further training.\n"
     ]
    },
    {
     "name": "stdout",
     "output_type": "stream",
     "text": [
      "[{'label': 'gratitude', 'score': 0.9964383840560913}]\n"
     ]
    }
   ],
   "source": [
    "import tensorflow\n",
    "from transformers import RobertaTokenizerFast, TFRobertaForSequenceClassification, pipeline\n",
    "\n",
    "tokenizer = RobertaTokenizerFast.from_pretrained(\"arpanghoshal/EmoRoBERTa\")\n",
    "model = TFRobertaForSequenceClassification.from_pretrained(\"arpanghoshal/EmoRoBERTa\")\n",
    "\n",
    "emotion = pipeline('sentiment-analysis', \n",
    "                    model='arpanghoshal/EmoRoBERTa')\n"
   ]
  },
  {
   "cell_type": "code",
   "execution_count": 21,
   "metadata": {},
   "outputs": [
    {
     "name": "stdout",
     "output_type": "stream",
     "text": [
      "[{'label': 'gratitude', 'score': 0.9934592247009277}, {'label': 'approval', 'score': 0.0011426000855863094}, {'label': 'neutral', 'score': 0.0008028814336284995}, {'label': 'admiration', 'score': 0.0007500764913856983}, {'label': 'realization', 'score': 0.0004446822276804596}, {'label': 'optimism', 'score': 0.0003828597837127745}, {'label': 'joy', 'score': 0.0003203642263542861}, {'label': 'caring', 'score': 0.00030970710213296115}, {'label': 'annoyance', 'score': 0.0002597433340270072}, {'label': 'relief', 'score': 0.00020675198175013065}, {'label': 'disapproval', 'score': 0.00020030527957715094}, {'label': 'excitement', 'score': 0.00018467492191120982}, {'label': 'disappointment', 'score': 0.00016352151578757912}, {'label': 'curiosity', 'score': 0.00015838834224268794}, {'label': 'confusion', 'score': 0.00014959769032429904}, {'label': 'love', 'score': 0.00014530749467667192}, {'label': 'desire', 'score': 0.0001385686337016523}, {'label': 'amusement', 'score': 0.00011047106818296015}, {'label': 'surprise', 'score': 0.00010775569535326213}, {'label': 'sadness', 'score': 9.699811926111579e-05}, {'label': 'anger', 'score': 9.69245083979331e-05}, {'label': 'pride', 'score': 8.253977284766734e-05}, {'label': 'disgust', 'score': 5.9684312873287126e-05}, {'label': 'remorse', 'score': 5.820744263473898e-05}, {'label': 'embarrassment', 'score': 5.588319982052781e-05}, {'label': 'fear', 'score': 5.239497113507241e-05}, {'label': 'nervousness', 'score': 3.977019150624983e-05}, {'label': 'grief', 'score': 2.022587250394281e-05}]\n",
      "[{'label': 'admiration', 'score': 0.0007500764913856983}, {'label': 'amusement', 'score': 0.00011047106818296015}, {'label': 'anger', 'score': 9.69245083979331e-05}, {'label': 'annoyance', 'score': 0.0002597433340270072}, {'label': 'approval', 'score': 0.0011426000855863094}, {'label': 'caring', 'score': 0.00030970710213296115}, {'label': 'confusion', 'score': 0.00014959769032429904}, {'label': 'curiosity', 'score': 0.00015838834224268794}, {'label': 'desire', 'score': 0.0001385686337016523}, {'label': 'disappointment', 'score': 0.00016352151578757912}, {'label': 'disapproval', 'score': 0.00020030527957715094}, {'label': 'disgust', 'score': 5.9684312873287126e-05}, {'label': 'embarrassment', 'score': 5.588319982052781e-05}, {'label': 'excitement', 'score': 0.00018467492191120982}, {'label': 'fear', 'score': 5.239497113507241e-05}, {'label': 'gratitude', 'score': 0.9934592247009277}, {'label': 'grief', 'score': 2.022587250394281e-05}, {'label': 'joy', 'score': 0.0003203642263542861}, {'label': 'love', 'score': 0.00014530749467667192}, {'label': 'nervousness', 'score': 3.977019150624983e-05}, {'label': 'optimism', 'score': 0.0003828597837127745}, {'label': 'pride', 'score': 8.253977284766734e-05}, {'label': 'realization', 'score': 0.0004446822276804596}, {'label': 'relief', 'score': 0.00020675198175013065}, {'label': 'remorse', 'score': 5.820744263473898e-05}, {'label': 'sadness', 'score': 9.699811926111579e-05}, {'label': 'surprise', 'score': 0.00010775569535326213}, {'label': 'neutral', 'score': 0.0008028814336284995}]\n"
     ]
    }
   ],
   "source": [
    "emotion_labels = emotion(\"Thanks for using it.\")\n",
    "print(sort_predictions(emotion_labels[0]))"
   ]
  },
  {
   "cell_type": "code",
   "execution_count": 3,
   "metadata": {},
   "outputs": [
    {
     "name": "stdout",
     "output_type": "stream",
     "text": [
      "[{'label': 'neutral', 'score': 0.6241609454154968}]\n"
     ]
    }
   ],
   "source": [
    "print(emotion(\"My iPhone broke before using it.\"))"
   ]
  },
  {
   "cell_type": "code",
   "execution_count": 4,
   "metadata": {},
   "outputs": [
    {
     "name": "stdout",
     "output_type": "stream",
     "text": [
      "[{'label': 'approval', 'score': 0.47028177976608276}]\n"
     ]
    }
   ],
   "source": [
    "print(emotion(\"You are very helpful.\"))"
   ]
  },
  {
   "cell_type": "code",
   "execution_count": 48,
   "metadata": {},
   "outputs": [
    {
     "name": "stdout",
     "output_type": "stream",
     "text": [
      "joy 0.9972331462631701\n",
      "[0.0007500764913856983, 0.00011047106818296015, 0.0011426000855863094, 0.00030970710213296115, 0.0001385686337016523, 0.00018467492191120982, 0.9934592247009277, 0.0003203642263542861, 0.00014530749467667192, 0.0003828597837127745, 8.253977284766734e-05, 0.00020675198175013065]\n",
      "anger 0.0005569731220020913\n",
      "[9.69245083979331e-05, 0.0002597433340270072, 0.00020030527957715094]\n",
      "surprise 0.0008604239556007087\n",
      "[0.00014959769032429904, 0.00015838834224268794, 0.0004446822276804596, 0.00010775569535326213]\n",
      "sadness 0.0003948361500079045\n",
      "[0.00016352151578757912, 5.588319982052781e-05, 2.022587250394281e-05, 5.820744263473898e-05, 9.699811926111579e-05]\n",
      "disgust 5.9684312873287126e-05\n",
      "[5.9684312873287126e-05]\n",
      "fear 9.216516264132224e-05\n",
      "[5.239497113507241e-05, 3.977019150624983e-05]\n"
     ]
    }
   ],
   "source": [
    "ekman={\n",
    "\"anger\": [\"anger\", \"annoyance\", \"disapproval\"],\n",
    "\"disgust\": [\"disgust\"],\n",
    "\"fear\": [\"fear\", \"nervousness\"],\n",
    "\"joy\": [\"joy\", \"amusement\", \"approval\", \"excitement\", \"gratitude\",  \"love\", \"optimism\", \"relief\", \"pride\", \"admiration\", \"desire\", \"caring\"],\n",
    "\"sadness\": [\"sadness\", \"disappointment\", \"embarrassment\", \"grief\",  \"remorse\"],\n",
    "\"surprise\": [\"surprise\", \"realization\", \"confusion\", \"curiosity\"]\n",
    "}\n",
    "\n",
    "\n",
    "def get_ekman_scores(ekman, go_emotion_scores):\n",
    "    ekman_scores = {}\n",
    "\n",
    "    for prediction in go_emotion_scores[0]:\n",
    "        go_emotion=prediction['label']\n",
    "        for key in ekman:\n",
    "            if go_emotion in ekman[key]:\n",
    "                if not key in ekman_scores:\n",
    "                    ekman_scores[key]= [prediction['score']]\n",
    "                else:\n",
    "                    ekman_scores[key].append(prediction['score'])\n",
    "    return ekman_scores\n",
    "\n",
    "ekman_scores = get_ekman_scores(ekman, emotion_labels)\n",
    "for emotion in ekman_scores:\n",
    "    lst = ekman_scores[emotion]\n",
    "    print(emotion, sum(lst))\n",
    "    print(lst)\n",
    "                       "
   ]
  },
  {
   "cell_type": "markdown",
   "metadata": {},
   "source": [
    "https://github.com/gradio-app/gradio\n",
    "#%pip install gradio"
   ]
  },
  {
   "cell_type": "code",
   "execution_count": 10,
   "metadata": {},
   "outputs": [
    {
     "name": "stdout",
     "output_type": "stream",
     "text": [
      "Fetching model from: https://huggingface.co/bhadresh-savani/bert-base-go-emotion\n",
      "Running on local URL:  http://127.0.0.1:7860/\n",
      "\n",
      "To create a public link, set `share=True` in `launch()`.\n"
     ]
    },
    {
     "data": {
      "text/html": [
       "<div><iframe src=\"http://127.0.0.1:7860/\" width=\"900\" height=\"500\" allow=\"autoplay; camera; microphone;\" frameborder=\"0\" allowfullscreen></iframe></div>"
      ],
      "text/plain": [
       "<IPython.core.display.HTML object>"
      ]
     },
     "metadata": {},
     "output_type": "display_data"
    },
    {
     "data": {
      "text/plain": [
       "(<gradio.routes.App at 0x7f80d83aae50>, 'http://127.0.0.1:7860/', None)"
      ]
     },
     "execution_count": 10,
     "metadata": {},
     "output_type": "execute_result"
    }
   ],
   "source": [
    "import gradio as gr\n",
    "\n",
    "title = \"Classify text according to emotion\"\n",
    "description = \"Emotion text classification via bert-base finetuned by bhadresh-savani\"\n",
    "examples = [\n",
    "    [\"Remember before Twitter when you took a photo of food, got the film developed, then drove around showing everyone the pic? No? Me neither.\"],\n",
    "    ['''\"We are all here because we're committed to the biggest question of all: What's out there?\" Take your first steps toward answering that question by watching our Gameplay Reveal from the #XboxBethesda Showcase. '''],\n",
    "    [\"A STUNNER IN KNOXVILLE! 😱 Notre Dame takes down No. 1 Tennessee for its first trip to Omaha in 20 years‼️\"],\n",
    "    [\"you and I best moment is yet to come 💜 #BTS9thAnniversary\"]\n",
    "]\n",
    "\n",
    "interface = gr.Interface.load(\"huggingface/bhadresh-savani/bert-base-go-emotion\",\n",
    "            title=title,\n",
    "            description=description,\n",
    "            examples = examples\n",
    ")\n",
    "\n",
    "interface.launch(enable_queue=True)\n"
   ]
  },
  {
   "cell_type": "code",
   "execution_count": 13,
   "metadata": {},
   "outputs": [
    {
     "name": "stdout",
     "output_type": "stream",
     "text": [
      "huggingface/tokenizers: The current process just got forked, after parallelism has already been used. Disabling parallelism to avoid deadlocks...\n",
      "To disable this warning, you can either:\n",
      "\t- Avoid using `tokenizers` before the fork if possible\n",
      "\t- Explicitly set the environment variable TOKENIZERS_PARALLELISM=(true | false)\n",
      "Collecting streamlit\n",
      "  Downloading streamlit-1.11.1-py2.py3-none-any.whl (9.1 MB)\n",
      "\u001b[2K     \u001b[90m━━━━━━━━━━━━━━━━━━━━━━━━━━━━━━━━━━━━━━━━\u001b[0m \u001b[32m9.1/9.1 MB\u001b[0m \u001b[31m29.0 MB/s\u001b[0m eta \u001b[36m0:00:00\u001b[0m00:01\u001b[0m00:01\u001b[0m\n",
      "\u001b[?25hRequirement already satisfied: toml in /Users/piek/opt/anaconda3/lib/python3.9/site-packages (from streamlit) (0.10.2)\n",
      "Requirement already satisfied: typing-extensions>=3.10.0.0 in /Users/piek/opt/anaconda3/lib/python3.9/site-packages (from streamlit) (3.10.0.2)\n",
      "Requirement already satisfied: pillow>=6.2.0 in /Users/piek/opt/anaconda3/lib/python3.9/site-packages (from streamlit) (8.4.0)\n",
      "Requirement already satisfied: numpy in /Users/piek/opt/anaconda3/lib/python3.9/site-packages (from streamlit) (1.22.0)\n",
      "Requirement already satisfied: pandas>=0.21.0 in /Users/piek/opt/anaconda3/lib/python3.9/site-packages (from streamlit) (1.3.5)\n",
      "Requirement already satisfied: packaging>=14.1 in /Users/piek/opt/anaconda3/lib/python3.9/site-packages (from streamlit) (21.3)\n",
      "Requirement already satisfied: cachetools>=4.0 in /Users/piek/opt/anaconda3/lib/python3.9/site-packages (from streamlit) (5.2.0)\n",
      "Collecting blinker>=1.0.0\n",
      "  Downloading blinker-1.5-py2.py3-none-any.whl (12 kB)\n",
      "Collecting pyarrow>=4.0\n",
      "  Downloading pyarrow-8.0.0-cp39-cp39-macosx_10_13_x86_64.whl (22.4 MB)\n",
      "\u001b[2K     \u001b[90m━━━━━━━━━━━━━━━━━━━━━━━━━━━━━━━━━━━━━━━━\u001b[0m \u001b[32m22.4/22.4 MB\u001b[0m \u001b[31m32.9 MB/s\u001b[0m eta \u001b[36m0:00:00\u001b[0m00:01\u001b[0m00:01\u001b[0m\n",
      "\u001b[?25hCollecting pydeck>=0.1.dev5\n",
      "  Using cached pydeck-0.7.1-py2.py3-none-any.whl (4.3 MB)\n",
      "Collecting rich>=10.11.0\n",
      "  Downloading rich-12.5.1-py3-none-any.whl (235 kB)\n",
      "\u001b[2K     \u001b[90m━━━━━━━━━━━━━━━━━━━━━━━━━━━━━━━━━━━━━━━\u001b[0m \u001b[32m235.6/235.6 kB\u001b[0m \u001b[31m8.4 MB/s\u001b[0m eta \u001b[36m0:00:00\u001b[0m\n",
      "\u001b[?25hRequirement already satisfied: protobuf<4,>=3.12 in /Users/piek/opt/anaconda3/lib/python3.9/site-packages (from streamlit) (3.19.4)\n",
      "Collecting pympler>=0.9\n",
      "  Using cached Pympler-1.0.1-py3-none-any.whl (164 kB)\n",
      "Requirement already satisfied: click>=7.0 in /Users/piek/opt/anaconda3/lib/python3.9/site-packages (from streamlit) (8.0.3)\n",
      "Requirement already satisfied: python-dateutil in /Users/piek/opt/anaconda3/lib/python3.9/site-packages (from streamlit) (2.8.2)\n",
      "Collecting tzlocal>=1.1\n",
      "  Using cached tzlocal-4.2-py3-none-any.whl (19 kB)\n",
      "Requirement already satisfied: attrs>=16.0.0 in /Users/piek/opt/anaconda3/lib/python3.9/site-packages (from streamlit) (21.4.0)\n",
      "Collecting gitpython!=3.1.19\n",
      "  Using cached GitPython-3.1.27-py3-none-any.whl (181 kB)\n",
      "Requirement already satisfied: requests>=2.4 in /Users/piek/opt/anaconda3/lib/python3.9/site-packages (from streamlit) (2.27.1)\n",
      "Collecting validators>=0.2\n",
      "  Using cached validators-0.20.0.tar.gz (30 kB)\n",
      "  Preparing metadata (setup.py) ... \u001b[?25ldone\n",
      "\u001b[?25hRequirement already satisfied: importlib-metadata>=1.4 in /Users/piek/opt/anaconda3/lib/python3.9/site-packages (from streamlit) (4.8.2)\n",
      "Requirement already satisfied: tornado>=5.0 in /Users/piek/opt/anaconda3/lib/python3.9/site-packages (from streamlit) (6.1)\n",
      "Collecting altair>=3.2.0\n",
      "  Using cached altair-4.2.0-py3-none-any.whl (812 kB)\n",
      "Collecting semver\n",
      "  Using cached semver-2.13.0-py2.py3-none-any.whl (12 kB)\n",
      "Requirement already satisfied: jsonschema>=3.0 in /Users/piek/opt/anaconda3/lib/python3.9/site-packages (from altair>=3.2.0->streamlit) (3.2.0)\n",
      "Requirement already satisfied: entrypoints in /Users/piek/opt/anaconda3/lib/python3.9/site-packages (from altair>=3.2.0->streamlit) (0.3)\n",
      "Requirement already satisfied: jinja2 in /Users/piek/opt/anaconda3/lib/python3.9/site-packages (from altair>=3.2.0->streamlit) (3.0.3)\n",
      "Requirement already satisfied: toolz in /Users/piek/opt/anaconda3/lib/python3.9/site-packages (from altair>=3.2.0->streamlit) (0.11.2)\n",
      "Collecting gitdb<5,>=4.0.1\n",
      "  Using cached gitdb-4.0.9-py3-none-any.whl (63 kB)\n",
      "Requirement already satisfied: zipp>=0.5 in /Users/piek/opt/anaconda3/lib/python3.9/site-packages (from importlib-metadata>=1.4->streamlit) (3.7.0)\n",
      "Requirement already satisfied: pyparsing!=3.0.5,>=2.0.2 in /Users/piek/opt/anaconda3/lib/python3.9/site-packages (from packaging>=14.1->streamlit) (3.0.4)\n",
      "Requirement already satisfied: pytz>=2017.3 in /Users/piek/opt/anaconda3/lib/python3.9/site-packages (from pandas>=0.21.0->streamlit) (2021.3)\n",
      "Requirement already satisfied: ipywidgets>=7.0.0 in /Users/piek/opt/anaconda3/lib/python3.9/site-packages (from pydeck>=0.1.dev5->streamlit) (7.6.5)\n",
      "Requirement already satisfied: traitlets>=4.3.2 in /Users/piek/opt/anaconda3/lib/python3.9/site-packages (from pydeck>=0.1.dev5->streamlit) (5.1.1)\n",
      "Requirement already satisfied: ipykernel>=5.1.2 in /Users/piek/opt/anaconda3/lib/python3.9/site-packages (from pydeck>=0.1.dev5->streamlit) (6.4.1)\n",
      "Requirement already satisfied: six>=1.5 in /Users/piek/opt/anaconda3/lib/python3.9/site-packages (from python-dateutil->streamlit) (1.16.0)\n",
      "Requirement already satisfied: charset-normalizer~=2.0.0 in /Users/piek/opt/anaconda3/lib/python3.9/site-packages (from requests>=2.4->streamlit) (2.0.4)\n",
      "Requirement already satisfied: urllib3<1.27,>=1.21.1 in /Users/piek/opt/anaconda3/lib/python3.9/site-packages (from requests>=2.4->streamlit) (1.26.8)\n",
      "Requirement already satisfied: idna<4,>=2.5 in /Users/piek/opt/anaconda3/lib/python3.9/site-packages (from requests>=2.4->streamlit) (3.3)\n",
      "Requirement already satisfied: certifi>=2017.4.17 in /Users/piek/opt/anaconda3/lib/python3.9/site-packages (from requests>=2.4->streamlit) (2022.6.15)\n",
      "Collecting commonmark<0.10.0,>=0.9.0\n",
      "  Using cached commonmark-0.9.1-py2.py3-none-any.whl (51 kB)\n",
      "Requirement already satisfied: pygments<3.0.0,>=2.6.0 in /Users/piek/opt/anaconda3/lib/python3.9/site-packages (from rich>=10.11.0->streamlit) (2.10.0)\n",
      "Collecting pytz-deprecation-shim\n",
      "  Using cached pytz_deprecation_shim-0.1.0.post0-py2.py3-none-any.whl (15 kB)\n",
      "Requirement already satisfied: decorator>=3.4.0 in /Users/piek/opt/anaconda3/lib/python3.9/site-packages (from validators>=0.2->streamlit) (5.1.1)\n",
      "Collecting smmap<6,>=3.0.1\n",
      "  Using cached smmap-5.0.0-py3-none-any.whl (24 kB)\n",
      "Requirement already satisfied: ipython<8.0,>=7.23.1 in /Users/piek/opt/anaconda3/lib/python3.9/site-packages (from ipykernel>=5.1.2->pydeck>=0.1.dev5->streamlit) (7.31.1)\n",
      "Requirement already satisfied: matplotlib-inline<0.2.0,>=0.1.0 in /Users/piek/opt/anaconda3/lib/python3.9/site-packages (from ipykernel>=5.1.2->pydeck>=0.1.dev5->streamlit) (0.1.2)\n",
      "Requirement already satisfied: jupyter-client<8.0 in /Users/piek/opt/anaconda3/lib/python3.9/site-packages (from ipykernel>=5.1.2->pydeck>=0.1.dev5->streamlit) (6.1.12)\n",
      "Requirement already satisfied: debugpy<2.0,>=1.0.0 in /Users/piek/opt/anaconda3/lib/python3.9/site-packages (from ipykernel>=5.1.2->pydeck>=0.1.dev5->streamlit) (1.5.1)\n",
      "Requirement already satisfied: ipython-genutils in /Users/piek/opt/anaconda3/lib/python3.9/site-packages (from ipykernel>=5.1.2->pydeck>=0.1.dev5->streamlit) (0.2.0)\n",
      "Requirement already satisfied: appnope in /Users/piek/opt/anaconda3/lib/python3.9/site-packages (from ipykernel>=5.1.2->pydeck>=0.1.dev5->streamlit) (0.1.2)\n",
      "Requirement already satisfied: widgetsnbextension~=3.5.0 in /Users/piek/opt/anaconda3/lib/python3.9/site-packages (from ipywidgets>=7.0.0->pydeck>=0.1.dev5->streamlit) (3.5.1)\n",
      "Requirement already satisfied: nbformat>=4.2.0 in /Users/piek/opt/anaconda3/lib/python3.9/site-packages (from ipywidgets>=7.0.0->pydeck>=0.1.dev5->streamlit) (5.1.3)\n",
      "Requirement already satisfied: jupyterlab-widgets>=1.0.0 in /Users/piek/opt/anaconda3/lib/python3.9/site-packages (from ipywidgets>=7.0.0->pydeck>=0.1.dev5->streamlit) (1.0.0)\n",
      "Requirement already satisfied: MarkupSafe>=2.0 in /Users/piek/opt/anaconda3/lib/python3.9/site-packages (from jinja2->altair>=3.2.0->streamlit) (2.1.0)\n",
      "Requirement already satisfied: setuptools in /Users/piek/opt/anaconda3/lib/python3.9/site-packages (from jsonschema>=3.0->altair>=3.2.0->streamlit) (58.0.4)\n",
      "Requirement already satisfied: pyrsistent>=0.14.0 in /Users/piek/opt/anaconda3/lib/python3.9/site-packages (from jsonschema>=3.0->altair>=3.2.0->streamlit) (0.18.0)\n",
      "Collecting tzdata\n",
      "  Using cached tzdata-2022.1-py2.py3-none-any.whl (339 kB)\n",
      "Requirement already satisfied: backcall in /Users/piek/opt/anaconda3/lib/python3.9/site-packages (from ipython<8.0,>=7.23.1->ipykernel>=5.1.2->pydeck>=0.1.dev5->streamlit) (0.2.0)\n",
      "Requirement already satisfied: pickleshare in /Users/piek/opt/anaconda3/lib/python3.9/site-packages (from ipython<8.0,>=7.23.1->ipykernel>=5.1.2->pydeck>=0.1.dev5->streamlit) (0.7.5)\n",
      "Requirement already satisfied: prompt-toolkit!=3.0.0,!=3.0.1,<3.1.0,>=2.0.0 in /Users/piek/opt/anaconda3/lib/python3.9/site-packages (from ipython<8.0,>=7.23.1->ipykernel>=5.1.2->pydeck>=0.1.dev5->streamlit) (3.0.20)\n",
      "Requirement already satisfied: pexpect>4.3 in /Users/piek/opt/anaconda3/lib/python3.9/site-packages (from ipython<8.0,>=7.23.1->ipykernel>=5.1.2->pydeck>=0.1.dev5->streamlit) (4.8.0)\n",
      "Requirement already satisfied: jedi>=0.16 in /Users/piek/opt/anaconda3/lib/python3.9/site-packages (from ipython<8.0,>=7.23.1->ipykernel>=5.1.2->pydeck>=0.1.dev5->streamlit) (0.18.1)\n",
      "Requirement already satisfied: pyzmq>=13 in /Users/piek/opt/anaconda3/lib/python3.9/site-packages (from jupyter-client<8.0->ipykernel>=5.1.2->pydeck>=0.1.dev5->streamlit) (22.3.0)\n",
      "Requirement already satisfied: jupyter-core>=4.6.0 in /Users/piek/opt/anaconda3/lib/python3.9/site-packages (from jupyter-client<8.0->ipykernel>=5.1.2->pydeck>=0.1.dev5->streamlit) (4.9.1)\n",
      "Requirement already satisfied: notebook>=4.4.1 in /Users/piek/opt/anaconda3/lib/python3.9/site-packages (from widgetsnbextension~=3.5.0->ipywidgets>=7.0.0->pydeck>=0.1.dev5->streamlit) (6.4.6)\n",
      "Requirement already satisfied: parso<0.9.0,>=0.8.0 in /Users/piek/opt/anaconda3/lib/python3.9/site-packages (from jedi>=0.16->ipython<8.0,>=7.23.1->ipykernel>=5.1.2->pydeck>=0.1.dev5->streamlit) (0.8.3)\n",
      "Requirement already satisfied: argon2-cffi in /Users/piek/opt/anaconda3/lib/python3.9/site-packages (from notebook>=4.4.1->widgetsnbextension~=3.5.0->ipywidgets>=7.0.0->pydeck>=0.1.dev5->streamlit) (20.1.0)\n",
      "Requirement already satisfied: nbconvert in /Users/piek/opt/anaconda3/lib/python3.9/site-packages (from notebook>=4.4.1->widgetsnbextension~=3.5.0->ipywidgets>=7.0.0->pydeck>=0.1.dev5->streamlit) (6.3.0)\n",
      "Requirement already satisfied: nest-asyncio>=1.5 in /Users/piek/opt/anaconda3/lib/python3.9/site-packages (from notebook>=4.4.1->widgetsnbextension~=3.5.0->ipywidgets>=7.0.0->pydeck>=0.1.dev5->streamlit) (1.5.1)\n",
      "Requirement already satisfied: terminado>=0.8.3 in /Users/piek/opt/anaconda3/lib/python3.9/site-packages (from notebook>=4.4.1->widgetsnbextension~=3.5.0->ipywidgets>=7.0.0->pydeck>=0.1.dev5->streamlit) (0.9.4)\n",
      "Requirement already satisfied: prometheus-client in /Users/piek/opt/anaconda3/lib/python3.9/site-packages (from notebook>=4.4.1->widgetsnbextension~=3.5.0->ipywidgets>=7.0.0->pydeck>=0.1.dev5->streamlit) (0.13.1)\n",
      "Requirement already satisfied: Send2Trash>=1.8.0 in /Users/piek/opt/anaconda3/lib/python3.9/site-packages (from notebook>=4.4.1->widgetsnbextension~=3.5.0->ipywidgets>=7.0.0->pydeck>=0.1.dev5->streamlit) (1.8.0)\n",
      "Requirement already satisfied: ptyprocess>=0.5 in /Users/piek/opt/anaconda3/lib/python3.9/site-packages (from pexpect>4.3->ipython<8.0,>=7.23.1->ipykernel>=5.1.2->pydeck>=0.1.dev5->streamlit) (0.7.0)\n",
      "Requirement already satisfied: wcwidth in /Users/piek/opt/anaconda3/lib/python3.9/site-packages (from prompt-toolkit!=3.0.0,!=3.0.1,<3.1.0,>=2.0.0->ipython<8.0,>=7.23.1->ipykernel>=5.1.2->pydeck>=0.1.dev5->streamlit) (0.2.5)\n",
      "Requirement already satisfied: cffi>=1.0.0 in /Users/piek/opt/anaconda3/lib/python3.9/site-packages (from argon2-cffi->notebook>=4.4.1->widgetsnbextension~=3.5.0->ipywidgets>=7.0.0->pydeck>=0.1.dev5->streamlit) (1.15.0)\n",
      "Requirement already satisfied: nbclient<0.6.0,>=0.5.0 in /Users/piek/opt/anaconda3/lib/python3.9/site-packages (from nbconvert->notebook>=4.4.1->widgetsnbextension~=3.5.0->ipywidgets>=7.0.0->pydeck>=0.1.dev5->streamlit) (0.5.3)\n",
      "Requirement already satisfied: defusedxml in /Users/piek/opt/anaconda3/lib/python3.9/site-packages (from nbconvert->notebook>=4.4.1->widgetsnbextension~=3.5.0->ipywidgets>=7.0.0->pydeck>=0.1.dev5->streamlit) (0.7.1)\n",
      "Requirement already satisfied: testpath in /Users/piek/opt/anaconda3/lib/python3.9/site-packages (from nbconvert->notebook>=4.4.1->widgetsnbextension~=3.5.0->ipywidgets>=7.0.0->pydeck>=0.1.dev5->streamlit) (0.5.0)\n",
      "Requirement already satisfied: bleach in /Users/piek/opt/anaconda3/lib/python3.9/site-packages (from nbconvert->notebook>=4.4.1->widgetsnbextension~=3.5.0->ipywidgets>=7.0.0->pydeck>=0.1.dev5->streamlit) (4.1.0)\n",
      "Requirement already satisfied: mistune<2,>=0.8.1 in /Users/piek/opt/anaconda3/lib/python3.9/site-packages (from nbconvert->notebook>=4.4.1->widgetsnbextension~=3.5.0->ipywidgets>=7.0.0->pydeck>=0.1.dev5->streamlit) (0.8.4)\n",
      "Requirement already satisfied: pandocfilters>=1.4.1 in /Users/piek/opt/anaconda3/lib/python3.9/site-packages (from nbconvert->notebook>=4.4.1->widgetsnbextension~=3.5.0->ipywidgets>=7.0.0->pydeck>=0.1.dev5->streamlit) (1.5.0)\n",
      "Requirement already satisfied: jupyterlab-pygments in /Users/piek/opt/anaconda3/lib/python3.9/site-packages (from nbconvert->notebook>=4.4.1->widgetsnbextension~=3.5.0->ipywidgets>=7.0.0->pydeck>=0.1.dev5->streamlit) (0.1.2)\n",
      "Requirement already satisfied: pycparser in /Users/piek/opt/anaconda3/lib/python3.9/site-packages (from cffi>=1.0.0->argon2-cffi->notebook>=4.4.1->widgetsnbextension~=3.5.0->ipywidgets>=7.0.0->pydeck>=0.1.dev5->streamlit) (2.21)\n",
      "Requirement already satisfied: async-generator in /Users/piek/opt/anaconda3/lib/python3.9/site-packages (from nbclient<0.6.0,>=0.5.0->nbconvert->notebook>=4.4.1->widgetsnbextension~=3.5.0->ipywidgets>=7.0.0->pydeck>=0.1.dev5->streamlit) (1.10)\n",
      "Requirement already satisfied: webencodings in /Users/piek/opt/anaconda3/lib/python3.9/site-packages (from bleach->nbconvert->notebook>=4.4.1->widgetsnbextension~=3.5.0->ipywidgets>=7.0.0->pydeck>=0.1.dev5->streamlit) (0.5.1)\n",
      "Building wheels for collected packages: validators\n",
      "  Building wheel for validators (setup.py) ... \u001b[?25ldone\n",
      "\u001b[?25h  Created wheel for validators: filename=validators-0.20.0-py3-none-any.whl size=19582 sha256=a5ba30ec29cdb44557fff8307398455b954968690e7783ec651b34683944a0e6\n",
      "  Stored in directory: /Users/piek/Library/Caches/pip/wheels/2d/f0/a8/1094fca7a7e5d0d12ff56e0c64675d72aa5cc81a5fc200e849\n",
      "Successfully built validators\n",
      "Installing collected packages: commonmark, validators, tzdata, smmap, semver, rich, pympler, pyarrow, blinker, pytz-deprecation-shim, gitdb, tzlocal, gitpython, altair, pydeck, streamlit\n",
      "Successfully installed altair-4.2.0 blinker-1.5 commonmark-0.9.1 gitdb-4.0.9 gitpython-3.1.27 pyarrow-8.0.0 pydeck-0.7.1 pympler-1.0.1 pytz-deprecation-shim-0.1.0.post0 rich-12.5.1 semver-2.13.0 smmap-5.0.0 streamlit-1.11.1 tzdata-2022.1 tzlocal-4.2 validators-0.20.0\n",
      "\n",
      "\u001b[1m[\u001b[0m\u001b[34;49mnotice\u001b[0m\u001b[1;39;49m]\u001b[0m\u001b[39;49m A new release of pip available: \u001b[0m\u001b[31;49m22.1.2\u001b[0m\u001b[39;49m -> \u001b[0m\u001b[32;49m22.2.1\u001b[0m\n",
      "\u001b[1m[\u001b[0m\u001b[34;49mnotice\u001b[0m\u001b[1;39;49m]\u001b[0m\u001b[39;49m To update, run: \u001b[0m\u001b[32;49mpip install --upgrade pip\u001b[0m\n",
      "Note: you may need to restart the kernel to use updated packages.\n"
     ]
    }
   ],
   "source": [
    "%pip install streamlit"
   ]
  },
  {
   "cell_type": "code",
   "execution_count": null,
   "metadata": {},
   "outputs": [],
   "source": []
  }
 ],
 "metadata": {
  "kernelspec": {
   "display_name": "Python 3",
   "language": "python",
   "name": "python3"
  },
  "language_info": {
   "codemirror_mode": {
    "name": "ipython",
    "version": 3
   },
   "file_extension": ".py",
   "mimetype": "text/x-python",
   "name": "python",
   "nbconvert_exporter": "python",
   "pygments_lexer": "ipython3",
   "version": "3.9.7"
  }
 },
 "nbformat": 4,
 "nbformat_minor": 4
}
