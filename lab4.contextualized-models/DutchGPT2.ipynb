{
 "cells": [
  {
   "cell_type": "markdown",
   "metadata": {},
   "source": [
    "# GPT2 Dutch"
   ]
  },
  {
   "cell_type": "markdown",
   "metadata": {},
   "source": [
    "#https://github.com/wietsedv/gpt2-recycle\n",
    "\n",
    "@misc{devries2020good,\n",
    "      title={As good as new. How to successfully recycle English GPT-2 to make models for other languages}, \n",
    "      author={Wietse de Vries and Malvina Nissim},\n",
    "      year={2020},\n",
    "      eprint={2012.05628},\n",
    "      archivePrefix={arXiv},\n",
    "      primaryClass={cs.CL}\n",
    "}"
   ]
  },
  {
   "cell_type": "code",
   "execution_count": 1,
   "metadata": {},
   "outputs": [],
   "source": [
    "from transformers import pipeline\n",
    "\n",
    "pipe = pipeline(\"text-generation\", model=\"GroNLP/gpt2-small-dutch\")\n"
   ]
  },
  {
   "cell_type": "code",
   "execution_count": 4,
   "metadata": {},
   "outputs": [
    {
     "name": "stdout",
     "output_type": "stream",
     "text": [
      "[{'generated_text': 'Mark Rutte is ter verantwoording geroepen voor de moord op Marianne Thieme. De PvdA-leider heeft gezegd dat hij zich niet verantwoordelijk zou kunnen zijn voor het incident, maar een \\'onverantwoordelijke verantwoordelijkheid\\' ligt bij hem. \"Ik moet ervoor zorgen dat er mensen met wie ik mee bezig waren betrokken blijven.\"\\nOok VVD-lijsttrekker Dijkstal (binnenlandse zaken) had al eerder opgeroepen om extra alert te zijn in verband met deze beroving: \"Het lijkt wel of we meer informatie moeten geven over'}]\n"
     ]
    }
   ],
   "source": [
    "print(pipe('Mark Rutte is ter verantwoording geroepen voor'))"
   ]
  },
  {
   "cell_type": "code",
   "execution_count": 7,
   "metadata": {},
   "outputs": [
    {
     "name": "stdout",
     "output_type": "stream",
     "text": [
      "[{'generated_text': 'Thierry Baudet is ter verantwoording geroepen voor de racistische uitlatingen die hij heeft gemaakt in het tv-programma Nieuwsuur en op Twitter. Ook zijn collega\\'s van Forum voor Democratie (FvD) beschuldigen hem ervan te maken met \\'onzinnige uitspraken\\'.\\nHet Openbaar Ministerie eiste dinsdag een onvoorwaardelijke celstraf van drie jaar, waarvan vier voorwaardelijk wegens \"verontwaardiging van vervolging\". Het OM maakte woensdag bekend dat Thierry Baudet verantwoordelijk wordt gesteld voor beledigingen aan PVV-politici als Anne Fleur Agema'}]\n"
     ]
    }
   ],
   "source": [
    "print(pipe('Thierry Baudet is ter verantwoording geroepen voor'))"
   ]
  },
  {
   "cell_type": "code",
   "execution_count": 8,
   "metadata": {},
   "outputs": [
    {
     "name": "stdout",
     "output_type": "stream",
     "text": [
      "[{'generated_text': \"Thierry Rutte is ter verantwoording geroepen voor de moord op Marianne Thieme. De ex-minister van Buitenlandse Zaken heeft al een aantal vragen gesteld, die het Openbaar Ministerie kan niet beantwoorden.\\nDe Tweede Kamer wil dat minister Koenders (Buitenlandse Zaken en Koninkrijksrelaties) wordt gevraagd om opheldering over deze zaak. Volgens hem moet er nog voldoende bewijs worden geleverd in verband met haar dood. 'Ik ben heel voorzichtig', zei Koenders tegen NU.nl woensdag. Hij wees erop dat veel mensen betrokken zijn\"}]\n"
     ]
    }
   ],
   "source": [
    "print(pipe('Thierry Rutte is ter verantwoording geroepen voor'))"
   ]
  },
  {
   "cell_type": "code",
   "execution_count": null,
   "metadata": {},
   "outputs": [],
   "source": []
  }
 ],
 "metadata": {
  "kernelspec": {
   "display_name": "Python 3",
   "language": "python",
   "name": "python3"
  },
  "language_info": {
   "codemirror_mode": {
    "name": "ipython",
    "version": 3
   },
   "file_extension": ".py",
   "mimetype": "text/x-python",
   "name": "python",
   "nbconvert_exporter": "python",
   "pygments_lexer": "ipython3",
   "version": "3.9.7"
  }
 },
 "nbformat": 4,
 "nbformat_minor": 4
}
