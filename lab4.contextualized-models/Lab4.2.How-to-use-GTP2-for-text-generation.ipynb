{
 "cells": [
  {
   "cell_type": "markdown",
   "metadata": {},
   "source": [
    "# 4.2 How to use GPT"
   ]
  },
  {
   "cell_type": "markdown",
   "metadata": {},
   "source": [
    "GPT (Generative Pretrained Transformer) is a model trained to generate text given a preceding input (Brown et al 2020) It can do this repetitively up to a certain length, likewise generating short stories.\n",
    "\n",
    "Another generative model is T5 (Text to Text Transfer Transformer), which models many tasks as text generation tasks (Raffel et al. 2019).\n",
    "\n",
    "In this notebook, we look into an older model GPT2, which is smaller and publicly available.\n",
    "\n",
    "### References\n",
    "\n",
    "Brown, T. B., Mann, B., Ryder, N., Subbiah, M., Kaplan, J., Dhariwal, P., Neelakantan, A., Shyam, P., Sastry, G., Askell, A., et al. Language models are few-shot learners. arXiv preprint arXiv:2005.14165, 2020.\n",
    "\n",
    "Colin Raffel, Noam Shazeer, Adam Roberts, Katherine Lee, Sharan Narang, Michael Matena, Yanqi Zhou, Wei Li, and Peter J Liu. 2019. Exploring the limits of transfer learning with a unified text-to-text trans- former. arXiv preprint arXiv:1910.10683."
   ]
  },
  {
   "cell_type": "markdown",
   "metadata": {},
   "source": [
    "We can load GPT2 from the Huggingface platform as we did before for BERT and XLM-RoBERTa as part of a pipeline. We now specify the task as **text-generation**. As the model is big, it may take a while to load it."
   ]
  },
  {
   "cell_type": "code",
   "execution_count": 2,
   "metadata": {},
   "outputs": [],
   "source": [
    "from transformers import pipeline\n",
    "\n",
    "gpt2pipe = pipeline(\"text-generation\", model=\"gpt2\")"
   ]
  },
  {
   "cell_type": "markdown",
   "metadata": {},
   "source": [
    "Once you succesfully downloaded it, it is saved on disk in cache for futher use. The next time you load the model it will be faster from disk.\n",
    "\n",
    "You can now pass in any text as a prompt to this pipeline instance and it will complete the text according to the model."
   ]
  },
  {
   "cell_type": "code",
   "execution_count": 5,
   "metadata": {},
   "outputs": [
    {
     "name": "stderr",
     "output_type": "stream",
     "text": [
      "Setting `pad_token_id` to `eos_token_id`:50256 for open-end generation.\n"
     ]
    },
    {
     "name": "stdout",
     "output_type": "stream",
     "text": [
      "[{'generated_text': 'Boris Johnson is called to the bar for his first appearance at the Tory Party International conference on August 2, 2012 in Oxfordshire, England. Photograph: Supplied/PA\\n\\nDavid Cameron is expected to present some policy announcements during his first visit'}]\n"
     ]
    }
   ],
   "source": [
    "print(gpt2pipe('Boris Johnson is called to the bar for his'))"
   ]
  },
  {
   "cell_type": "code",
   "execution_count": 13,
   "metadata": {},
   "outputs": [
    {
     "name": "stderr",
     "output_type": "stream",
     "text": [
      "Setting `pad_token_id` to `eos_token_id`:50256 for open-end generation.\n"
     ]
    },
    {
     "name": "stdout",
     "output_type": "stream",
     "text": [
      "[{'generated_text': \"Donald Trump is called to the bar for his latest lewd remarks\\n\\nAn NBC News poll shows that 50 percent of likely voters say Trump has 'failed to control the media.' Yet even as the president himself took to Twitter after the bombshell revelation, NBC\"}]\n"
     ]
    }
   ],
   "source": [
    "print(gpt2pipe('Donald Trump is called to the bar for his'))"
   ]
  },
  {
   "cell_type": "code",
   "execution_count": 12,
   "metadata": {},
   "outputs": [
    {
     "name": "stderr",
     "output_type": "stream",
     "text": [
      "Setting `pad_token_id` to `eos_token_id`:50256 for open-end generation.\n"
     ]
    },
    {
     "name": "stdout",
     "output_type": "stream",
     "text": [
      "[{'generated_text': 'Angela Merkel is called to the bar for her right to stand, and she looks to take her place. For her part, Mr Merkel has made clear that there is no way for her to continue in her position.\\n\\nBut Mr Lü'}]\n"
     ]
    }
   ],
   "source": [
    "print(gpt2pipe('Angela Merkel is called to the bar for her'))"
   ]
  },
  {
   "cell_type": "markdown",
   "metadata": {},
   "source": [
    "## GPT2 for other languages than English"
   ]
  },
  {
   "cell_type": "markdown",
   "metadata": {},
   "source": [
    "Building a GPT model from scratch is costly. You not only need a lot of data but also computer power to create such a model. An interesting alternative is to only train the vocabulary part of a model for a language and to keep the hidden layers of the English model for the contextual attention relations and capability to predict the next token embeddings.\n",
    "\n",
    "This is what was done by de Vries and Nissime (2021) from Groningen University for Dutch and Italian. You can read the paper for more details.\n",
    "\n",
    "References:\n",
    "\n",
    "de Vries, Wietse, and Malvina Nissim. \"As good as new. How to successfully recycle English GPT-2 to make models for other languages.\" arXiv preprint arXiv:2012.05628 (2020). https://aclanthology.org/2021.findings-acl.74.pdf\n",
    "\n",
    "See also: https://github.com/wietsedv/gpt2-recycle\n"
   ]
  },
  {
   "cell_type": "markdown",
   "metadata": {},
   "source": [
    "We can download the models from Huggingface as we did for the English GPT2 and generate a Dutch and Italian short story from a prompt."
   ]
  },
  {
   "cell_type": "code",
   "execution_count": 6,
   "metadata": {},
   "outputs": [],
   "source": [
    "from transformers import pipeline\n",
    "\n",
    "dutchGpt2pipe = pipeline(\"text-generation\", model=\"GroNLP/gpt2-small-dutch\")"
   ]
  },
  {
   "cell_type": "code",
   "execution_count": 8,
   "metadata": {},
   "outputs": [
    {
     "name": "stdout",
     "output_type": "stream",
     "text": [
      "[{'generated_text': 'Mark Rutte is ter verantwoording geroepen voor de aanslagen op Bali. \"We hebben gefaald in onze missie en dat heeft ons niet kunnen nakomen\", zei premier Mark Rutte dinsdag na afloop van het kabinetsberaad met zijn Indonesische ambtgenoot Musharraf, die vandaag naar Indonesië moet gaan om een nieuw begin aan te knopen.\\n\"Er waren momenten waarop ik diep bedroefd uit mijn hart dacht: \\'Als we nog meer fouten begaan zullen wij er toch weer tegenaan gooien\\'. Ik heb altijd zo bezorgd over deze situatie'}]\n"
     ]
    }
   ],
   "source": [
    "print(pipe('Mark Rutte is ter verantwoording geroepen voor'))"
   ]
  },
  {
   "cell_type": "code",
   "execution_count": 9,
   "metadata": {},
   "outputs": [
    {
     "name": "stdout",
     "output_type": "stream",
     "text": [
      "[{'generated_text': \"Thierry Baudet is ter verantwoording geroepen voor de moord op Theo van Gogh.\\nHet Openbaar Ministerie heeft woensdag in een kort geding verklaard dat hij zich schuldig voelde aan doodslag en valsheid in geschrifte omdat er sprake was van 'onprofessioneel risico's'. De verdachte, oud-burgemeester Van Zanen (18) uit Amsterdam, werd vorige week doodgestoken door twee Marokkaanse jongeren die hem probeerden om te gaan doodschieten. Volgens het OM zijn ook al meerdere mensen betrokken geweest bij de fatale schietincident\"}]\n"
     ]
    }
   ],
   "source": [
    "print(pipe('Thierry Baudet is ter verantwoording geroepen voor'))"
   ]
  },
  {
   "cell_type": "code",
   "execution_count": 10,
   "metadata": {},
   "outputs": [
    {
     "name": "stdout",
     "output_type": "stream",
     "text": [
      "[{'generated_text': 'Thierry Rutte is ter verantwoording geroepen voor de moord op Theo van Gogh. De man, die in mei 2015 werd vermoord door een mede-prediker met wie ze contact hadden gezocht, heeft volgens het Openbaar Ministerie \"een strafblad\" en wordt schuldig bevonden aan strafbare feiten.\\nDe rechtbank veroordeelde hem tot drie jaar cel omdat hij er onvoldoende bewijs zou kunnen bewijzen dat zijn daden strafbaar waren. In totaal werden zes mensen verdacht van betrokkenheid bij de dood van Van Gogh. Zij worden veroordeeld tot vijf jaar'}]\n"
     ]
    }
   ],
   "source": [
    "print(pipe('Thierry Rutte is ter verantwoording geroepen voor'))"
   ]
  },
  {
   "cell_type": "code",
   "execution_count": 7,
   "metadata": {},
   "outputs": [
    {
     "name": "stdout",
     "output_type": "stream",
     "text": [
      "[{'generated_text': \"Was ik maar een klein kind,' zegt de moeder. 'Ik ben pas veertien.'\\n'Hoe gaat het met je?' vraag ze, terwijl ze haar handen over elkaar heen trekt. Ze is blij dat hij zich niet kan herinneren waar zijn ouders naartoe moeten gegaan. Hij heeft er nog nooit aan gedacht hoe die kinderen eruit zouden zien en wat hen allemaal voor hem betekend zou hebben. De eerste dag na hun geboorte in november van dit jaar waren al twee dagen zonder eten geweest om daar naar huis te gaan\"}]\n"
     ]
    }
   ],
   "source": [
    " print(dutchGpt2pipe('Was ik maar een klein'))"
   ]
  },
  {
   "cell_type": "code",
   "execution_count": 11,
   "metadata": {},
   "outputs": [
    {
     "name": "stdout",
     "output_type": "stream",
     "text": [
      "[{'generated_text': 'Uno bambino picoloso, di un passato che non ha più niente a che fare con lui e per cui l\\'amore è troppo debole.\\n\\nIl film fu prodotto da AKW (Allion Productions) in collaborazione con Wim Wenders ed interpretato da Jarry Cronenberg; il soggetto si ispira all\\'omonima serie televisiva australiana del 1982 \"Beautiful Life\", nel quale recita la parte dell\\'anzianita Joaquin Bertrand Russell'}]\n"
     ]
    }
   ],
   "source": [
    "italianGpt2pipe = pipeline(\"text-generation\", model=\"GroNLP/gpt2-small-italian\")\n",
    "\n",
    "print(italianGpt2pipe('Uno bambino picolo'))"
   ]
  },
  {
   "cell_type": "markdown",
   "metadata": {},
   "source": [
    "## End of notebook"
   ]
  },
  {
   "cell_type": "code",
   "execution_count": null,
   "metadata": {},
   "outputs": [],
   "source": []
  }
 ],
 "metadata": {
  "kernelspec": {
   "display_name": "Python 3",
   "language": "python",
   "name": "python3"
  },
  "language_info": {
   "codemirror_mode": {
    "name": "ipython",
    "version": 3
   },
   "file_extension": ".py",
   "mimetype": "text/x-python",
   "name": "python",
   "nbconvert_exporter": "python",
   "pygments_lexer": "ipython3",
   "version": "3.9.7"
  }
 },
 "nbformat": 4,
 "nbformat_minor": 4
}
