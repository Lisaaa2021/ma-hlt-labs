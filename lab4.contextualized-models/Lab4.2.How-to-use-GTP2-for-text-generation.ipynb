{
 "cells": [
  {
   "cell_type": "markdown",
   "metadata": {},
   "source": [
    "# 4.2 How to use GPT"
   ]
  },
  {
   "cell_type": "markdown",
   "metadata": {},
   "source": [
    "GPT (Generative Pretrained Transformer) is a model trained to generate text given a preceding input (Brown et al 2020) It can do this repetitively up to a certain length, likewise generating short stories.\n",
    "\n",
    "Another generative model is T5 (Text to Text Transfer Transformer), which models many tasks as text generation tasks (Raffel et al. 2019).\n",
    "\n",
    "In this notebook, we look into an older model GPT2, which is smaller and publicly available.\n",
    "\n",
    "### References\n",
    "\n",
    "Brown, T. B., Mann, B., Ryder, N., Subbiah, M., Kaplan, J., Dhariwal, P., Neelakantan, A., Shyam, P., Sastry, G., Askell, A., et al. Language models are few-shot learners. arXiv preprint arXiv:2005.14165, 2020.\n",
    "\n",
    "Colin Raffel, Noam Shazeer, Adam Roberts, Katherine Lee, Sharan Narang, Michael Matena, Yanqi Zhou, Wei Li, and Peter J Liu. 2019. Exploring the limits of transfer learning with a unified text-to-text trans- former. arXiv preprint arXiv:1910.10683."
   ]
  },
  {
   "cell_type": "markdown",
   "metadata": {},
   "source": [
    "We can load GPT2 from the Huggingface platform as we did before for BERT and XLM-RoBERTa as part of a pipeline. We now specify the task as **text-generation**. As the model is big, it may take a while to load it."
   ]
  },
  {
   "cell_type": "code",
   "execution_count": 2,
   "metadata": {},
   "outputs": [],
   "source": [
    "from transformers import pipeline\n",
    "\n",
    "gpt2pipe = pipeline(\"text-generation\", model=\"gpt2\")"
   ]
  },
  {
   "cell_type": "markdown",
   "metadata": {},
   "source": [
    "Once you succesfully downloaded it, it is saved on disk in cache for futher use. The next time you load the model it will be faster from disk.\n",
    "\n",
    "You can now pass in any text as a prompt to this pipeline instance and it will complete the text according to the model."
   ]
  },
  {
   "cell_type": "code",
   "execution_count": 20,
   "metadata": {},
   "outputs": [
    {
     "name": "stderr",
     "output_type": "stream",
     "text": [
      "Setting `pad_token_id` to `eos_token_id`:50256 for open-end generation.\n"
     ]
    },
    {
     "name": "stdout",
     "output_type": "stream",
     "text": [
      "{'generated_text': \"Boris Johnson is called to the bar for his political career and he's also put himself through more than 50 years of political trials over the issues he raised with his opponents.\\n\\nHe has become a fierce opponent of Ukip, who has been criticised\"}\n"
     ]
    }
   ],
   "source": [
    "print(gpt2pipe('Boris Johnson is called to the bar for his')[0])"
   ]
  },
  {
   "cell_type": "code",
   "execution_count": 13,
   "metadata": {},
   "outputs": [
    {
     "name": "stderr",
     "output_type": "stream",
     "text": [
      "Setting `pad_token_id` to `eos_token_id`:50256 for open-end generation.\n"
     ]
    },
    {
     "name": "stdout",
     "output_type": "stream",
     "text": [
      "[{'generated_text': \"Donald Trump is called to the bar for his latest lewd remarks\\n\\nAn NBC News poll shows that 50 percent of likely voters say Trump has 'failed to control the media.' Yet even as the president himself took to Twitter after the bombshell revelation, NBC\"}]\n"
     ]
    }
   ],
   "source": [
    "print(gpt2pipe('Donald Trump is called to the bar for his')[0])"
   ]
  },
  {
   "cell_type": "code",
   "execution_count": 12,
   "metadata": {},
   "outputs": [
    {
     "name": "stderr",
     "output_type": "stream",
     "text": [
      "Setting `pad_token_id` to `eos_token_id`:50256 for open-end generation.\n"
     ]
    },
    {
     "name": "stdout",
     "output_type": "stream",
     "text": [
      "[{'generated_text': 'Angela Merkel is called to the bar for her right to stand, and she looks to take her place. For her part, Mr Merkel has made clear that there is no way for her to continue in her position.\\n\\nBut Mr Lü'}]\n"
     ]
    }
   ],
   "source": [
    "print(gpt2pipe('Angela Merkel is called to the bar for her')[0])"
   ]
  },
  {
   "cell_type": "markdown",
   "metadata": {},
   "source": [
    "## GPT2 for other languages than English"
   ]
  },
  {
   "cell_type": "markdown",
   "metadata": {},
   "source": [
    "Building a GPT model from scratch is costly. You not only need a lot of data but also computer power to create such a model. An interesting alternative is to only train the vocabulary part of a model for a language and to keep the hidden layers of the English model for the contextual attention relations and capability to predict the next token embeddings.\n",
    "\n",
    "This is what was done by de Vries and Nissime (2021) from Groningen University for Dutch and Italian. You can read the paper for more details.\n",
    "\n",
    "References:\n",
    "\n",
    "de Vries, Wietse, and Malvina Nissim. \"As good as new. How to successfully recycle English GPT-2 to make models for other languages.\" arXiv preprint arXiv:2012.05628 (2020). https://aclanthology.org/2021.findings-acl.74.pdf\n",
    "\n",
    "See also: https://github.com/wietsedv/gpt2-recycle\n"
   ]
  },
  {
   "cell_type": "markdown",
   "metadata": {},
   "source": [
    "We can download the models from Huggingface as we did for the English GPT2 and generate a Dutch and Italian short story from a prompt."
   ]
  },
  {
   "cell_type": "code",
   "execution_count": 6,
   "metadata": {},
   "outputs": [],
   "source": [
    "from transformers import pipeline\n",
    "\n",
    "dutchGpt2pipe = pipeline(\"text-generation\", model=\"GroNLP/gpt2-small-dutch\")"
   ]
  },
  {
   "cell_type": "code",
   "execution_count": 17,
   "metadata": {},
   "outputs": [
    {
     "name": "stdout",
     "output_type": "stream",
     "text": [
      "{'generated_text': 'Mark Rutte is ter verantwoording geroepen voor de mislukte aanslag op het koninklijk paleis in Amsterdam. \"Dit soort dingen doen politici niet vaak mee\", vindt hij.\\n\"Ik heb geen idee hoe dit komt, maar we gaan er wel eens over.\" Hij verwijst naar een rapportage van minister Van der Steur waaruit bleek dat veiligheidsdiensten AIVD en MIVD \\'onderzoeken\\' werden verricht met betrekking tot terreurbestrijding. Dat blijkt ook uit gesprekken die zijn gemaakt tussen inlichtingendienst AIVD en Tweede Kamercommissie Vlieger (LHB).'}\n"
     ]
    }
   ],
   "source": [
    "print(dutchGpt2pipe('Mark Rutte is ter verantwoording geroepen voor')[0])"
   ]
  },
  {
   "cell_type": "code",
   "execution_count": 18,
   "metadata": {},
   "outputs": [
    {
     "name": "stdout",
     "output_type": "stream",
     "text": [
      "{'generated_text': \"Thierry Baudet is ter verantwoording geroepen voor de moord van Thierry Baudet, die in 2014 bij Forum voor Democratie een extreemrechtse partijbijeenkomst pleegde. Hij werd veroordeeld tot twee jaar gevangenisstraf en vijf maanden voorwaardelijke celstraf omdat hij 'te veel te doen met het bestrijden van raciale spanningen'.\\nForum voor Democratie was op 16 maart 2015 opgericht door Nigel Farage (35), Jesse Klaver (29) en Annabel Nanninga (27). Op 18 november 2017 maakte Facebook bekend dat er nog vier nieuwe leden\"}\n"
     ]
    }
   ],
   "source": [
    "print(dutchGpt2pipe('Thierry Baudet is ter verantwoording geroepen voor')[0])"
   ]
  },
  {
   "cell_type": "code",
   "execution_count": 19,
   "metadata": {},
   "outputs": [
    {
     "name": "stdout",
     "output_type": "stream",
     "text": [
      "{'generated_text': \"Thierry Rutte is ter verantwoording geroepen voor de aanslagen op het World Trade Centre. De Britse premier Theresa May zei dat ze een onderzoek moest instellen naar 'de grote verantwoordelijkheid van terroristen in Irak en Afghanistan'.\\nMohammed, die eerder deze week tijdens zijn bezoek aan Syrië werd aangevallen door strijders van IS-leider Abu Bakrq al-Baghdadi, heeft zich herhaaldelijk schuldig bevonden aan terroristische activiteiten. Hij zou ook hebben kunnen worden aangeklaagd als lid van terreurorganisatie Al Qa'ida\"}\n"
     ]
    }
   ],
   "source": [
    "print(dutchGpt2pipe('Thierry Rutte is ter verantwoording geroepen voor')[0])"
   ]
  },
  {
   "cell_type": "code",
   "execution_count": 15,
   "metadata": {},
   "outputs": [
    {
     "name": "stdout",
     "output_type": "stream",
     "text": [
      "{'generated_text': \"Was ik maar een klein kind?'\\n'Ja,' zei hij, terwijl hij zijn schouders ophief. 'Ik vind het heel jammer dat je niet in de buurt bent.'\\nZe schudde haar hoofd en liet zich met grote passen naar hem toe glijden. Hij kwam naast haar staan om te zien of ze er nog iets mee uit kon halen. Ze was gekleed in een wit linnen jurk die bijna net zo versleten leek als alle jurken van hun vorige schooldag had gedragen. De mouwen waren aan elkaar gebonden\"}\n"
     ]
    }
   ],
   "source": [
    " print(dutchGpt2pipe('Was ik maar een klein')[0])"
   ]
  },
  {
   "cell_type": "code",
   "execution_count": 16,
   "metadata": {},
   "outputs": [
    {
     "name": "stdout",
     "output_type": "stream",
     "text": [
      "{'generated_text': 'Uno bambino picoloso, che ha perso la vita a causa della morte di suo padre e non riesce mai ad uscire dall\\'appartamento del marito.\\n\\nIl film è prodotto dalla Paramount Pictures con distribuzione in USA dal 1º febbraio 2018 al 29 settembre 2019 (contitolato \"Dream\\'s About My Mind\"). Il copyright del film fu registrato il 24 dicembre 2017 ed era incluso nell\\'albo dei diritti cinematografici dell\\'Hillmore Film Corporation.\\n\\nDistribuito dalla'}\n"
     ]
    }
   ],
   "source": [
    "italianGpt2pipe = pipeline(\"text-generation\", model=\"GroNLP/gpt2-small-italian\")\n",
    "\n",
    "print(italianGpt2pipe('Uno bambino picolo')[0])"
   ]
  },
  {
   "cell_type": "markdown",
   "metadata": {},
   "source": [
    "## End of notebook"
   ]
  },
  {
   "cell_type": "code",
   "execution_count": null,
   "metadata": {},
   "outputs": [],
   "source": []
  }
 ],
 "metadata": {
  "kernelspec": {
   "display_name": "Python 3",
   "language": "python",
   "name": "python3"
  },
  "language_info": {
   "codemirror_mode": {
    "name": "ipython",
    "version": 3
   },
   "file_extension": ".py",
   "mimetype": "text/x-python",
   "name": "python",
   "nbconvert_exporter": "python",
   "pygments_lexer": "ipython3",
   "version": "3.9.7"
  }
 },
 "nbformat": 4,
 "nbformat_minor": 4
}
