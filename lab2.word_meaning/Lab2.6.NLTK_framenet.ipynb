{
 "cells": [
  {
   "cell_type": "markdown",
   "metadata": {},
   "source": [
    "# Lab2.6: Words, concepts, semantic relations in FrameNet-NLTK"
   ]
  },
  {
   "cell_type": "markdown",
   "metadata": {},
   "source": [
    "Copyright, Vrije Universiteit Amsterdam, Faculty of Humanities, CLTL"
   ]
  },
  {
   "cell_type": "markdown",
   "metadata": {},
   "source": [
    "FrameNet is a database about situation semantics developed at Berkeley University under the leadership of Fillmore:\n",
    "\n",
    "https://framenet.icsi.berkeley.edu\n",
    "\n",
    "FrameNet provides over a thousand frames that represent conceptual schemata for events involving participants in certain roles.\n",
    "W are going to use the FrameNet module inside the NLTK package to assign frames to the main predicates of sentences according to spaCy.\n"
   ]
  },
  {
   "cell_type": "markdown",
   "metadata": {},
   "source": [
    "## 1. FrameNet in NLTK"
   ]
  },
  {
   "cell_type": "code",
   "execution_count": 1,
   "metadata": {},
   "outputs": [],
   "source": [
    "import nltk"
   ]
  },
  {
   "cell_type": "markdown",
   "metadata": {},
   "source": [
    "We assume you have NLTK already installed. To use the FrameNet module, you need to download FrameNet within it. Run the following cell to download it within NLTK. If you have already done this before, FrameNet is included in NLTK and you do not need to download it again."
   ]
  },
  {
   "cell_type": "code",
   "execution_count": 2,
   "metadata": {},
   "outputs": [
    {
     "name": "stderr",
     "output_type": "stream",
     "text": [
      "[nltk_data] Downloading package framenet_v17 to\n",
      "[nltk_data]     /Users/piek/nltk_data...\n",
      "[nltk_data]   Package framenet_v17 is already up-to-date!\n"
     ]
    },
    {
     "data": {
      "text/plain": [
       "True"
      ]
     },
     "execution_count": 2,
     "metadata": {},
     "output_type": "execute_result"
    }
   ],
   "source": [
    "nltk.download('framenet_v17')"
   ]
  },
  {
   "cell_type": "markdown",
   "metadata": {},
   "source": [
    "To check if the install was succesful, the following code cell should work:"
   ]
  },
  {
   "cell_type": "markdown",
   "metadata": {},
   "source": [
    "After succesful download you can comment out the previous cell."
   ]
  },
  {
   "cell_type": "code",
   "execution_count": 3,
   "metadata": {},
   "outputs": [
    {
     "data": {
      "text/plain": [
       "1221"
      ]
     },
     "execution_count": 3,
     "metadata": {},
     "output_type": "execute_result"
    }
   ],
   "source": [
    "from nltk.corpus import framenet as fn\n",
    "len(fn.frames())"
   ]
  },
  {
   "cell_type": "markdown",
   "metadata": {},
   "source": [
    "Now you know how many different frames there are."
   ]
  },
  {
   "cell_type": "markdown",
   "metadata": {},
   "source": [
    "There are some instructions how to use FrameNet in NLTK although they are quote sparse:\n",
    "\n",
    "http://www.nltk.org/howto/framenet.html\n"
   ]
  },
  {
   "cell_type": "code",
   "execution_count": 4,
   "metadata": {},
   "outputs": [
    {
     "name": "stdout",
     "output_type": "stream",
     "text": [
      "[<frame ID=590 name=Killing>]\n"
     ]
    }
   ],
   "source": [
    "### get the frame identifier for a specific Frame\n",
    "print(fn.frames('Killing'))"
   ]
  },
  {
   "cell_type": "code",
   "execution_count": 8,
   "metadata": {},
   "outputs": [
    {
     "name": "stdout",
     "output_type": "stream",
     "text": [
      "frame (262): Abounding_with\n",
      "\n",
      "[URL] https://framenet2.icsi.berkeley.edu/fnReports/data/frame/Abounding_with.xml\n",
      "\n",
      "[definition]\n",
      "  A Location is filled or covered with the Theme.  The Location is\n",
      "  realized as the External Argument, and the Theme either as PP\n",
      "  complement headed by with, in or of.  NB:  This frame does not\n",
      "  include uses of adjectives like paved when they merely specify\n",
      "  the Type of some location, as in \"paved and unpaved roads\".  'The\n",
      "  waters of the bay teemed with fish.' 'The waters of the bay were\n",
      "  teeming with fish.' 'The road was completely covered in mud.'\n",
      "\n",
      "[semTypes] 0 semantic types\n",
      "\n",
      "[frameRelations] 7 frame relations\n",
      "  <Parent=Abounding_with -- Inheritance -> Child=Lively_place>\n",
      "  <Parent=Locative_relation -- Inheritance -> Child=Abounding_with>\n",
      "  <Parent=Abounding_with -- Using -> Child=Expensiveness>\n",
      "  <Parent=Abounding_with -- Using -> Child=Mass_motion>\n",
      "  <Parent=Abundance -- Using -> Child=Abounding_with>\n",
      "  <MainEntry=Distributed_position -- See_also -> ReferringEntry=Abounding_with>\n",
      "  <Neutral=Distributed_abundance -- Perspective_on -> Perspectivized=Abounding_with>\n",
      "\n",
      "[lexUnit] 67 lexical units\n",
      "  adorned.a (7012), asphalted.a (7013), bedecked.a (7021),\n",
      "  bejewelled.a (7022), bespattered.a (7023), blanketed.a (4798),\n",
      "  brimming.a (6996), brushed.a (7014), buttered.a (6969), chock-a-\n",
      "  block.a (6999), chock-full.a (6998), cloaked.a (4799), coated.a\n",
      "  (6916), covered.a (4797), crammed.a (6992), crawl.v (4768),\n",
      "  crawling.a (4767), crowded.a (4771), dabbed.a (6963), decked.a\n",
      "  (7020), decorated.a (7028), dotted.a (6917), draped.a (6995),\n",
      "  drizzled.a (6967), dusted.a (7000), embellished.a (7132),\n",
      "  festooned.a (7019), filled.a (7009), full.a (7010), gilded.a\n",
      "  (7130), glazed.a (7129), heaped.a (6991), hung.a (7015),\n",
      "  injected.a (6994), jammed.a (7016), jostling.a (4774),\n",
      "  lacquered.a (7126), lined.a (7030), littered.a (17675),\n",
      "  ornamented.a (7031), overcrowded.a (7004), overfilled.a (7005),\n",
      "  painted.a (7109), panelled.a (7139), paved.a (7018), piled.a\n",
      "  (17295), plastered.a (6970), replete.a (6997), rife.a (13511),\n",
      "  smeared.a (6972), spattered.a (7024), splattered.a (6987),\n",
      "  sprinkled.a (6993), strewn.a (6973), studded.a (7029), stuffed.a\n",
      "  (6988), surfaced.a (7001), swarm.v (4773), swarming.a (4772),\n",
      "  teem.v (4765), teeming.a (6918), throng.v (4769), thronged.a\n",
      "  (4770), thronging.a (5184), tiled.a (6990), varnished.a (7053),\n",
      "  wallpapered.a (7002)\n",
      "\n",
      "\n",
      "[FE] 5 frame elements\n",
      "            Core: Location (2261), Theme (2260)\n",
      "      Peripheral: Degree (2271), Time (10821)\n",
      "  Extra-Thematic: Depictive (3491)\n",
      "\n",
      "[FEcoreSets] 0 frame element core sets\n",
      "  \n",
      "\n",
      "frame (59): Filling\n",
      "\n",
      "[URL] https://framenet2.icsi.berkeley.edu/fnReports/data/frame/Filling.xml\n",
      "\n",
      "[definition]\n",
      "  These are words relating to filling containers and covering areas\n",
      "  with some thing, things or substance, the Theme. The area or\n",
      "  container can appear as the direct object with all these verbs,\n",
      "  and is designated Goal because it is the goal of motion of the\n",
      "  Theme. Corresponding to its nuclear argument status, it is also\n",
      "  affected in some crucial way, unlike goals in other frames.\n",
      "  'Lionel Hutz coated the wall with paint. '\n",
      "\n",
      "[semTypes] 0 semantic types\n",
      "\n",
      "[frameRelations] 5 frame relations\n",
      "  <Parent=Container_focused_placing -- Inheritance -> Child=Filling>\n",
      "  <MainEntry=Cause_motion -- See_also -> ReferringEntry=Filling>\n",
      "  <MainEntry=Distributed_position -- See_also -> ReferringEntry=Filling>\n",
      "  <MainEntry=Placing -- See_also -> ReferringEntry=Filling>\n",
      "  <Causative=Filling -- Causative_of -> Inchoative/state=Fullness>\n",
      "\n",
      "[lexUnit] 59 lexical units\n",
      "  accessorize.v (17364), adorn.v (1007), anoint.v (1008), asphalt.v\n",
      "  (3900), brush.v (2584), butter.v (3894), coat.v (3904), cover.v\n",
      "  (1009), cram.v (2580), crowd.v (6919), dab.v (2577), daub.v\n",
      "  (2578), douse.v (3928), drape.v (2576), dress.v (15822),\n",
      "  drizzle.v (2598), dust.v (1010), embellish.v (7131), fill.v\n",
      "  (3908), flood.v (5205), gild.v (7127), glaze.v (7128), hang.v\n",
      "  (2585), heap.v (2599), inject.v (2579), jam.v (2625), load.v\n",
      "  (1011), pack.v (1012), paint.v (7108), panel.v (7138), pave.v\n",
      "  (7017), pile.v (2612), plank.v (15775), plant.v (2626), plaster.v\n",
      "  (2575), pump.v (2614), scatter.v (2627), seed.v (2582), shower.v\n",
      "  (2592), smear.v (1013), sow.v (2581), spatter.v (2586), splash.v\n",
      "  (2587), splatter.v (2588), spray.v (2589), spread.v (1014),\n",
      "  sprinkle.v (2590), squirt.v (2591), strew.v (3925), stuff.v\n",
      "  (1015), suffuse.v (3907), surface.v (3901), tile.v (3902),\n",
      "  varnish.v (7107), wallpaper.v (3903), wash.v (15630), wax.v\n",
      "  (15613), wrap.v (1016), yoke.v (15779)\n",
      "\n",
      "\n",
      "[FE] 17 frame elements\n",
      "            Core: Agent (253), Cause (9897), Goal (257), Theme (254)\n",
      "      Peripheral: Degree (840), Instrument (1952), Manner (844), Means (845), Path (256), Place (1950), Source (255), Time (1949)\n",
      "  Extra-Thematic: Depictive (841), Explanation (1948), Purpose (1951), Result (846), Subregion (3579)\n",
      "\n",
      "[FEcoreSets] 0 frame element core sets\n",
      "  \n",
      "\n",
      "frame (386): Ingest_substance\n",
      "\n",
      "[URL] https://framenet2.icsi.berkeley.edu/fnReports/data/frame/Ingest_substance.xml\n",
      "\n",
      "[definition]\n",
      "  In this frame an Ingestor takes a Substance into his or her body.\n",
      "  The Delivery_device can appear as a direct object.    'You should\n",
      "  refrain from taking vodka up the nose.'  'Smoking a cigarette\n",
      "  only takes a couple of minutes . CNI '\n",
      "\n",
      "[semTypes] 0 semantic types\n",
      "\n",
      "[frameRelations] 2 frame relations\n",
      "  <Parent=Ingest_substance -- Inheritance -> Child=Ingestion>\n",
      "  <Parent=Intentionally_act -- Inheritance -> Child=Ingest_substance>\n",
      "\n",
      "[lexUnit] 15 lexical units\n",
      "  do.v (7123), drag.n (6910), drag.v (6909), have.v (17699),\n",
      "  inject.v (7115), pop.v (6913), puff.v (15301), pull.v (6912),\n",
      "  shoot.v (7118), smoke.v (6907), sniff.v (7121), snort.v (6908),\n",
      "  take.v (7125), toke.n (6911), use.v (7124)\n",
      "\n",
      "\n",
      "[FE] 11 frame elements\n",
      "            Core: Delivery_device (3458), Ingestor (3459), Substance (3460)\n",
      "      Peripheral: Duration (3466), Entry_path (3465), Manner (3453), Means (3454), Place (3455), Purpose (3456), Time (3457)\n",
      "  Extra-Thematic: Frequency (3461)\n",
      "\n",
      "[FEcoreSets] 1 frame element core sets\n",
      "  Delivery_device, Substance\n",
      "\n",
      "frame (62): Placing\n",
      "\n",
      "[URL] https://framenet2.icsi.berkeley.edu/fnReports/data/frame/Placing.xml\n",
      "\n",
      "[definition]\n",
      "  Generally without overall (translational) motion,  an Agent\n",
      "  places a Theme at a location, the Goal, which is profiled.  In\n",
      "  this frame, the Theme is under the control of the Agent/Cause at\n",
      "  the time of its arrival at the Goal.  'David placed his briefcase\n",
      "  on the floor.'  This frame differs from Filling in that it\n",
      "  focuses on the Theme rather than the effect on the Goal entity.\n",
      "  It differs from Removing in focusing on the Goal rather than the\n",
      "  Source of motion for the Theme.\n",
      "\n",
      "[semTypes] 0 semantic types\n",
      "\n",
      "[frameRelations] 22 frame relations\n",
      "  <Parent=Placing -- Inheritance -> Child=Burying>\n",
      "  <Parent=Placing -- Inheritance -> Child=Dispersal>\n",
      "  <Parent=Transitive_action -- Inheritance -> Child=Placing>\n",
      "  <Complex=Cause_motion -- Subframe -> Component=Placing>\n",
      "  <Parent=Motion -- Using -> Child=Placing>\n",
      "  <Parent=Placing -- Using -> Child=Arranging>\n",
      "  <Parent=Placing -- Using -> Child=Dressing>\n",
      "  <Parent=Placing -- Using -> Child=Dunking>\n",
      "  <Parent=Placing -- Using -> Child=Installing>\n",
      "  <Parent=Placing -- Using -> Child=Storing>\n",
      "  <MainEntry=Cause_motion -- See_also -> ReferringEntry=Placing>\n",
      "  <MainEntry=Placing -- See_also -> ReferringEntry=Filling>\n",
      "  <MainEntry=Placing -- See_also -> ReferringEntry=Removing>\n",
      "  <Source=Placing -- ReFraming_Mapping -> Target=Arranging>\n",
      "  <Source=Placing -- ReFraming_Mapping -> Target=Assigned_location>\n",
      "  <Source=Placing -- ReFraming_Mapping -> Target=Attaching>\n",
      "  <Source=Placing -- ReFraming_Mapping -> Target=Bringing>\n",
      "  <Source=Placing -- ReFraming_Mapping -> Target=Cause_fluidic_motion>\n",
      "  <Source=Placing -- ReFraming_Mapping -> Target=Dispersal>\n",
      "  <Source=Placing -- ReFraming_Mapping -> Target=Planting>\n",
      "  <Earlier=Removing -- Precedes -> Later=Placing>\n",
      "  <Neutral=Placing_scenario -- Perspective_on -> Perspectivized=Placing>\n",
      "\n",
      "[lexUnit] 69 lexical units\n",
      "  archive.v (2441), arrange.v (11298), bag.v (2433), bestow.v\n",
      "  (5354), billet.v (2435), bin.v (2438), bottle.v (2440), box.v\n",
      "  (2442), brush.v (2511), cage.v (2443), cram.v (2548), crate.v\n",
      "  (2445), dab.v (2493), daub.v (2487), deposit.v (1084), drape.v\n",
      "  (2496), drizzle.v (2488), dust.v (2528), embed.v (1085),\n",
      "  emplace.v (13994), enclose.v (14796), file.v (2447), gag.v\n",
      "  (17284), garage.v (2448), hang.v (1086), heap.v (2529), immerse.v\n",
      "  (1087), implant.v (1088), implanted.a (16966), inject.v (1089),\n",
      "  insert.v (1090), insertion.n (1091), jam.v (2530), lay.v (1092),\n",
      "  lean.v (1093), load.v (1094), lodge.v (1095), pack.v (1097),\n",
      "  package.v (5356), park.v (1098), perch.v (2455), pile.v (1099),\n",
      "  place.v (1100), placement.n (1101), plant.v (1102), plunge.v\n",
      "  (6034), pocket.v (2449), position.v (1103), pot.v (3913), put.v\n",
      "  (5355), rest.v (1104), rub.v (2546), set.v (1105), sheathe.v\n",
      "  (3914), shelve.v (2451), shoulder.v (3916), shower.v (2571),\n",
      "  sit.v (2486), situate.v (1106), smear.v (1107), stable.v (2454),\n",
      "  stand.v (1109), stash.v (1110), stick.v (4726), stow.v (1113),\n",
      "  stuff.v (1114), tuck.v (1115), warehouse.v (3915), wrap.v (1116)\n",
      "\n",
      "\n",
      "[FE] 21 frame elements\n",
      "            Core: Agent (273), Cause (1975), Goal (277), Theme (274)\n",
      "      Peripheral: Area (1964), Distance (1972), Manner (278), Means (736), Path (276), Place (741), Source (275), Speed (1973), Time (743)\n",
      "  Extra-Thematic: Beneficiary (10835), Cotheme (1971), Degree (731), Depictive (733), Duration (739), Explanation (742), Purpose (5742), Result (737)\n",
      "\n",
      "[FEcoreSets] 0 frame element core sets\n",
      "  \n",
      "\n"
     ]
    }
   ],
   "source": [
    "### get the frames for a specific lemma and print all information for each\n",
    "word = 'inject'\n",
    "frames = fn.frames_by_lemma(word)\n",
    "for frame in frames:\n",
    "    print(frame)"
   ]
  },
  {
   "cell_type": "markdown",
   "metadata": {},
   "source": [
    "Take your time to read the information which is quiet rich."
   ]
  },
  {
   "cell_type": "code",
   "execution_count": 16,
   "metadata": {},
   "outputs": [
    {
     "name": "stdout",
     "output_type": "stream",
     "text": [
      "Medical_conditions\n",
      "Medical_instruments\n",
      "Medical_interaction_scenario\n",
      "Medical_intervention\n",
      "Medical_professionals\n",
      "Medical_specialties\n"
     ]
    }
   ],
   "source": [
    "### get frames with the substring 'medical' regardless of case\n",
    "frames = fn.frames(r'(?i)medical')\n",
    "for frame in frames:\n",
    "    print(frame.name)\n"
   ]
  },
  {
   "cell_type": "code",
   "execution_count": 17,
   "metadata": {},
   "outputs": [
    {
     "data": {
      "text/plain": [
       "{'cBy': 'ChW',\n",
       " 'cDate': '02/07/2001 04:12:13 PST Wed',\n",
       " 'name': 'Filling',\n",
       " 'ID': 59,\n",
       " '_type': 'frame',\n",
       " 'definition': \"These are words relating to filling containers and covering areas with some thing, things or substance, the Theme. The area or container can appear as the direct object with all these verbs, and is designated Goal because it is the goal of motion of the Theme. Corresponding to its nuclear argument status, it is also affected in some crucial way, unlike goals in other frames.  'Lionel Hutz coated the wall with paint. '\",\n",
       " 'definitionMarkup': '<def-root>These are words relating to filling containers and covering areas with some thing, things or substance, the <fen>Theme</fen>. The area or container can appear as the direct object with all these verbs, and is designated <fen>Goal</fen> because it is the goal of motion of the <fen>Theme</fen>. Corresponding to its nuclear argument status, it is also affected in some crucial way, unlike goals in other frames.\\n <ex><fex name=\"Agent\">Lionel Hutz</fex> <t>coated</t> <fex name=\"Goal\">the wall</fex> <fex name=\"Theme\">with paint</fex>. </ex></def-root>',\n",
       " 'FE': {'Agent': <fe ID=253 name=Agent>, 'Cause': <fe ID=9897 name=Cause>, 'Degree': <fe ID=840 name=Degree>, 'Depictive': <fe ID=841 name=Depictive>, 'Explanation': <fe ID=1948 name=Explanation>, 'Goal': <fe ID=257 name=Goal>, 'Instrument': <fe ID=1952 name=Instrument>, 'Manner': <fe ID=844 name=Manner>, 'Means': <fe ID=845 name=Means>, 'Path': <fe ID=256 name=Path>, 'Place': <fe ID=1950 name=Place>, 'Purpose': <fe ID=1951 name=Purpose>, 'Result': <fe ID=846 name=Result>, 'Source': <fe ID=255 name=Source>, 'Subregion': <fe ID=3579 name=Subregion>, 'Theme': <fe ID=254 name=Theme>, 'Time': <fe ID=1949 name=Time>},\n",
       " 'FEcoreSets': [],\n",
       " 'lexUnit': {'accessorize.v': <lu ID=17364 name=accessorize.v>, 'adorn.v': <lu ID=1007 name=adorn.v>, 'anoint.v': <lu ID=1008 name=anoint.v>, 'asphalt.v': <lu ID=3900 name=asphalt.v>, 'brush.v': <lu ID=2584 name=brush.v>, 'butter.v': <lu ID=3894 name=butter.v>, 'coat.v': <lu ID=3904 name=coat.v>, 'cover.v': <lu ID=1009 name=cover.v>, 'cram.v': <lu ID=2580 name=cram.v>, 'crowd.v': <lu ID=6919 name=crowd.v>, 'dab.v': <lu ID=2577 name=dab.v>, 'daub.v': <lu ID=2578 name=daub.v>, 'douse.v': <lu ID=3928 name=douse.v>, 'drape.v': <lu ID=2576 name=drape.v>, 'dress.v': <lu ID=15822 name=dress.v>, 'drizzle.v': <lu ID=2598 name=drizzle.v>, 'dust.v': <lu ID=1010 name=dust.v>, 'embellish.v': <lu ID=7131 name=embellish.v>, 'fill.v': <lu ID=3908 name=fill.v>, 'flood.v': <lu ID=5205 name=flood.v>, 'gild.v': <lu ID=7127 name=gild.v>, 'glaze.v': <lu ID=7128 name=glaze.v>, 'hang.v': <lu ID=2585 name=hang.v>, 'heap.v': <lu ID=2599 name=heap.v>, 'inject.v': <lu ID=2579 name=inject.v>, 'jam.v': <lu ID=2625 name=jam.v>, 'load.v': <lu ID=1011 name=load.v>, 'pack.v': <lu ID=1012 name=pack.v>, 'paint.v': <lu ID=7108 name=paint.v>, 'panel.v': <lu ID=7138 name=panel.v>, 'pave.v': <lu ID=7017 name=pave.v>, 'pile.v': <lu ID=2612 name=pile.v>, 'plank.v': <lu ID=15775 name=plank.v>, 'plant.v': <lu ID=2626 name=plant.v>, 'plaster.v': <lu ID=2575 name=plaster.v>, 'pump.v': <lu ID=2614 name=pump.v>, 'scatter.v': <lu ID=2627 name=scatter.v>, 'seed.v': <lu ID=2582 name=seed.v>, 'shower.v': <lu ID=2592 name=shower.v>, 'smear.v': <lu ID=1013 name=smear.v>, 'sow.v': <lu ID=2581 name=sow.v>, 'spatter.v': <lu ID=2586 name=spatter.v>, 'splash.v': <lu ID=2587 name=splash.v>, 'splatter.v': <lu ID=2588 name=splatter.v>, 'spray.v': <lu ID=2589 name=spray.v>, 'spread.v': <lu ID=1014 name=spread.v>, 'sprinkle.v': <lu ID=2590 name=sprinkle.v>, 'squirt.v': <lu ID=2591 name=squirt.v>, 'strew.v': <lu ID=3925 name=strew.v>, 'stuff.v': <lu ID=1015 name=stuff.v>, 'suffuse.v': <lu ID=3907 name=suffuse.v>, 'surface.v': <lu ID=3901 name=surface.v>, 'tile.v': <lu ID=3902 name=tile.v>, 'varnish.v': <lu ID=7107 name=varnish.v>, 'wallpaper.v': <lu ID=3903 name=wallpaper.v>, 'wash.v': <lu ID=15630 name=wash.v>, 'wax.v': <lu ID=15613 name=wax.v>, 'wrap.v': <lu ID=1016 name=wrap.v>, 'yoke.v': <lu ID=15779 name=yoke.v>},\n",
       " 'semTypes': [],\n",
       " 'frameRelations': [<Parent=Container_focused_placing -- Inheritance -> Child=Filling>, <MainEntry=Cause_motion -- See_also -> ReferringEntry=Filling>, ...],\n",
       " 'URL': 'https://framenet2.icsi.berkeley.edu/fnReports/data/frame/Filling.xml'}"
      ]
     },
     "execution_count": 17,
     "metadata": {},
     "output_type": "execute_result"
    }
   ],
   "source": [
    "### get a specific frame through its identifier\n",
    "f = fn.frame(59)\n",
    "### check what properties and functions are provided for a frame\n",
    "dict(f)"
   ]
  },
  {
   "cell_type": "code",
   "execution_count": 18,
   "metadata": {},
   "outputs": [
    {
     "name": "stdout",
     "output_type": "stream",
     "text": [
      "ID 59\n",
      "FRAME: Filling\n",
      "DEFINITION These are words relating to filling containers and covering areas with some thing, things or substance, the Theme. The area or container can appear as the direct object with all these verbs, and is designated Goal because it is the goal of motion of the Theme. Corresponding to its nuclear argument status, it is also affected in some crucial way, unlike goals in other frames.  'Lionel Hutz coated the wall with paint. '\n",
      "\n",
      "LEXICAL UNITS:\n",
      "adorn.v\n",
      "anoint.v\n",
      "cover.v\n",
      "dust.v\n",
      "load.v\n",
      "pack.v\n",
      "smear.v\n",
      "spread.v\n",
      "stuff.v\n",
      "wrap.v\n",
      "plaster.v\n",
      "drape.v\n",
      "dab.v\n",
      "daub.v\n",
      "inject.v\n",
      "cram.v\n",
      "sow.v\n",
      "seed.v\n",
      "brush.v\n",
      "hang.v\n",
      "spatter.v\n",
      "splash.v\n",
      "splatter.v\n",
      "spray.v\n",
      "sprinkle.v\n",
      "squirt.v\n",
      "shower.v\n",
      "drizzle.v\n",
      "heap.v\n",
      "pile.v\n",
      "pump.v\n",
      "jam.v\n",
      "plant.v\n",
      "scatter.v\n",
      "butter.v\n",
      "asphalt.v\n",
      "surface.v\n",
      "tile.v\n",
      "wallpaper.v\n",
      "coat.v\n",
      "suffuse.v\n",
      "fill.v\n",
      "strew.v\n",
      "douse.v\n",
      "flood.v\n",
      "crowd.v\n",
      "pave.v\n",
      "varnish.v\n",
      "paint.v\n",
      "gild.v\n",
      "glaze.v\n",
      "embellish.v\n",
      "panel.v\n",
      "wax.v\n",
      "wash.v\n",
      "plank.v\n",
      "yoke.v\n",
      "dress.v\n",
      "accessorize.v\n",
      "\n",
      "FRAME ELEMENTS:\n",
      "Agent\n",
      "Theme\n",
      "Source\n",
      "Path\n",
      "Goal\n",
      "Degree\n",
      "Depictive\n",
      "Manner\n",
      "Means\n",
      "Result\n",
      "Explanation\n",
      "Time\n",
      "Place\n",
      "Purpose\n",
      "Instrument\n",
      "Subregion\n",
      "Cause\n"
     ]
    }
   ],
   "source": [
    "#### print some properties of a frame structure in NLTK\n",
    "\n",
    "print('ID', f.ID)\n",
    "print('FRAME:',f.name)\n",
    "print('DEFINITION', f.definition)\n",
    "print()\n",
    "print('LEXICAL UNITS:')\n",
    "for lu in f.lexUnit:\n",
    "    print(lu)\n",
    "print()\n",
    "print('FRAME ELEMENTS:')\n",
    "for fe in f.FE:\n",
    "    print(fe)"
   ]
  },
  {
   "cell_type": "code",
   "execution_count": 19,
   "metadata": {},
   "outputs": [
    {
     "name": "stdout",
     "output_type": "stream",
     "text": [
      "FRAME RELATIONS:\n",
      "Container_focused_placing\n",
      "Cause_motion\n",
      "Distributed_position\n",
      "Placing\n",
      "Filling\n"
     ]
    }
   ],
   "source": [
    "print('FRAME RELATIONS:')\n",
    "for relation in f.frameRelations:\n",
    "   # print(relation.subFrameName)\n",
    "    print(relation.superFrameName)\n",
    "    #print(relation)"
   ]
  },
  {
   "cell_type": "markdown",
   "metadata": {},
   "source": [
    "## 2 Getting frames for predicates"
   ]
  },
  {
   "cell_type": "markdown",
   "metadata": {},
   "source": [
    "Frames can be evoked by many different words and phrases. In the following example, the subject and object of *cause* are also events and actually more information than the main predicate:\n",
    "\n",
    "```Vaccination can cause autism```\n",
    "\n",
    "In this notebook, we are restricting ourselves to predicates however, as it is more complex to decide whether subjects and objects denote events as well. To find the predicates, we can rely on the syntactic parsing by spaCy as we did in the previous notebook.\n",
    "\n",
    "We repeat here for convenience the cells with our example sentence and the dependency tree rendering. We also re-use our function for obtaining event tuples from the dependency relations."
   ]
  },
  {
   "cell_type": "code",
   "execution_count": 20,
   "metadata": {},
   "outputs": [],
   "source": [
    "import spacy\n",
    "from spacy import displacy\n",
    "# depending on how you installed spaCy, the name of the model might be different\n",
    "nlp = spacy.load(name='en_core_web_sm') \n",
    "text = \"John makes the cake . He got sick . He went to bed .\"\n",
    "doc = nlp(text)"
   ]
  },
  {
   "cell_type": "code",
   "execution_count": 21,
   "metadata": {},
   "outputs": [
    {
     "data": {
      "text/html": [
       "<svg xmlns=\"http://www.w3.org/2000/svg\" xmlns:xlink=\"http://www.w3.org/1999/xlink\" xml:lang=\"en\" id=\"26156d84056440159d7f4ca7f5dcc658-0\" class=\"displacy\" width=\"1975\" height=\"312.0\" direction=\"ltr\" style=\"max-width: none; height: 312.0px; color: #000000; background: #ffffff; font-family: Arial; direction: ltr\">\n",
       "<text class=\"displacy-token\" fill=\"currentColor\" text-anchor=\"middle\" y=\"222.0\">\n",
       "    <tspan class=\"displacy-word\" fill=\"currentColor\" x=\"50\">John</tspan>\n",
       "    <tspan class=\"displacy-tag\" dy=\"2em\" fill=\"currentColor\" x=\"50\">PROPN</tspan>\n",
       "</text>\n",
       "\n",
       "<text class=\"displacy-token\" fill=\"currentColor\" text-anchor=\"middle\" y=\"222.0\">\n",
       "    <tspan class=\"displacy-word\" fill=\"currentColor\" x=\"225\">makes</tspan>\n",
       "    <tspan class=\"displacy-tag\" dy=\"2em\" fill=\"currentColor\" x=\"225\">VERB</tspan>\n",
       "</text>\n",
       "\n",
       "<text class=\"displacy-token\" fill=\"currentColor\" text-anchor=\"middle\" y=\"222.0\">\n",
       "    <tspan class=\"displacy-word\" fill=\"currentColor\" x=\"400\">the</tspan>\n",
       "    <tspan class=\"displacy-tag\" dy=\"2em\" fill=\"currentColor\" x=\"400\">DET</tspan>\n",
       "</text>\n",
       "\n",
       "<text class=\"displacy-token\" fill=\"currentColor\" text-anchor=\"middle\" y=\"222.0\">\n",
       "    <tspan class=\"displacy-word\" fill=\"currentColor\" x=\"575\">cake .</tspan>\n",
       "    <tspan class=\"displacy-tag\" dy=\"2em\" fill=\"currentColor\" x=\"575\">NOUN</tspan>\n",
       "</text>\n",
       "\n",
       "<text class=\"displacy-token\" fill=\"currentColor\" text-anchor=\"middle\" y=\"222.0\">\n",
       "    <tspan class=\"displacy-word\" fill=\"currentColor\" x=\"750\">He</tspan>\n",
       "    <tspan class=\"displacy-tag\" dy=\"2em\" fill=\"currentColor\" x=\"750\">PRON</tspan>\n",
       "</text>\n",
       "\n",
       "<text class=\"displacy-token\" fill=\"currentColor\" text-anchor=\"middle\" y=\"222.0\">\n",
       "    <tspan class=\"displacy-word\" fill=\"currentColor\" x=\"925\">got</tspan>\n",
       "    <tspan class=\"displacy-tag\" dy=\"2em\" fill=\"currentColor\" x=\"925\">VERB</tspan>\n",
       "</text>\n",
       "\n",
       "<text class=\"displacy-token\" fill=\"currentColor\" text-anchor=\"middle\" y=\"222.0\">\n",
       "    <tspan class=\"displacy-word\" fill=\"currentColor\" x=\"1100\">sick .</tspan>\n",
       "    <tspan class=\"displacy-tag\" dy=\"2em\" fill=\"currentColor\" x=\"1100\">ADJ</tspan>\n",
       "</text>\n",
       "\n",
       "<text class=\"displacy-token\" fill=\"currentColor\" text-anchor=\"middle\" y=\"222.0\">\n",
       "    <tspan class=\"displacy-word\" fill=\"currentColor\" x=\"1275\">He</tspan>\n",
       "    <tspan class=\"displacy-tag\" dy=\"2em\" fill=\"currentColor\" x=\"1275\">PRON</tspan>\n",
       "</text>\n",
       "\n",
       "<text class=\"displacy-token\" fill=\"currentColor\" text-anchor=\"middle\" y=\"222.0\">\n",
       "    <tspan class=\"displacy-word\" fill=\"currentColor\" x=\"1450\">went</tspan>\n",
       "    <tspan class=\"displacy-tag\" dy=\"2em\" fill=\"currentColor\" x=\"1450\">VERB</tspan>\n",
       "</text>\n",
       "\n",
       "<text class=\"displacy-token\" fill=\"currentColor\" text-anchor=\"middle\" y=\"222.0\">\n",
       "    <tspan class=\"displacy-word\" fill=\"currentColor\" x=\"1625\">to</tspan>\n",
       "    <tspan class=\"displacy-tag\" dy=\"2em\" fill=\"currentColor\" x=\"1625\">ADP</tspan>\n",
       "</text>\n",
       "\n",
       "<text class=\"displacy-token\" fill=\"currentColor\" text-anchor=\"middle\" y=\"222.0\">\n",
       "    <tspan class=\"displacy-word\" fill=\"currentColor\" x=\"1800\">bed .</tspan>\n",
       "    <tspan class=\"displacy-tag\" dy=\"2em\" fill=\"currentColor\" x=\"1800\">NOUN</tspan>\n",
       "</text>\n",
       "\n",
       "<g class=\"displacy-arrow\">\n",
       "    <path class=\"displacy-arc\" id=\"arrow-26156d84056440159d7f4ca7f5dcc658-0-0\" stroke-width=\"2px\" d=\"M70,177.0 C70,89.5 220.0,89.5 220.0,177.0\" fill=\"none\" stroke=\"currentColor\"/>\n",
       "    <text dy=\"1.25em\" style=\"font-size: 0.8em; letter-spacing: 1px\">\n",
       "        <textPath xlink:href=\"#arrow-26156d84056440159d7f4ca7f5dcc658-0-0\" class=\"displacy-label\" startOffset=\"50%\" side=\"left\" fill=\"currentColor\" text-anchor=\"middle\">nsubj</textPath>\n",
       "    </text>\n",
       "    <path class=\"displacy-arrowhead\" d=\"M70,179.0 L62,167.0 78,167.0\" fill=\"currentColor\"/>\n",
       "</g>\n",
       "\n",
       "<g class=\"displacy-arrow\">\n",
       "    <path class=\"displacy-arc\" id=\"arrow-26156d84056440159d7f4ca7f5dcc658-0-1\" stroke-width=\"2px\" d=\"M420,177.0 C420,89.5 570.0,89.5 570.0,177.0\" fill=\"none\" stroke=\"currentColor\"/>\n",
       "    <text dy=\"1.25em\" style=\"font-size: 0.8em; letter-spacing: 1px\">\n",
       "        <textPath xlink:href=\"#arrow-26156d84056440159d7f4ca7f5dcc658-0-1\" class=\"displacy-label\" startOffset=\"50%\" side=\"left\" fill=\"currentColor\" text-anchor=\"middle\">det</textPath>\n",
       "    </text>\n",
       "    <path class=\"displacy-arrowhead\" d=\"M420,179.0 L412,167.0 428,167.0\" fill=\"currentColor\"/>\n",
       "</g>\n",
       "\n",
       "<g class=\"displacy-arrow\">\n",
       "    <path class=\"displacy-arc\" id=\"arrow-26156d84056440159d7f4ca7f5dcc658-0-2\" stroke-width=\"2px\" d=\"M245,177.0 C245,2.0 575.0,2.0 575.0,177.0\" fill=\"none\" stroke=\"currentColor\"/>\n",
       "    <text dy=\"1.25em\" style=\"font-size: 0.8em; letter-spacing: 1px\">\n",
       "        <textPath xlink:href=\"#arrow-26156d84056440159d7f4ca7f5dcc658-0-2\" class=\"displacy-label\" startOffset=\"50%\" side=\"left\" fill=\"currentColor\" text-anchor=\"middle\">dobj</textPath>\n",
       "    </text>\n",
       "    <path class=\"displacy-arrowhead\" d=\"M575.0,179.0 L583.0,167.0 567.0,167.0\" fill=\"currentColor\"/>\n",
       "</g>\n",
       "\n",
       "<g class=\"displacy-arrow\">\n",
       "    <path class=\"displacy-arc\" id=\"arrow-26156d84056440159d7f4ca7f5dcc658-0-3\" stroke-width=\"2px\" d=\"M770,177.0 C770,89.5 920.0,89.5 920.0,177.0\" fill=\"none\" stroke=\"currentColor\"/>\n",
       "    <text dy=\"1.25em\" style=\"font-size: 0.8em; letter-spacing: 1px\">\n",
       "        <textPath xlink:href=\"#arrow-26156d84056440159d7f4ca7f5dcc658-0-3\" class=\"displacy-label\" startOffset=\"50%\" side=\"left\" fill=\"currentColor\" text-anchor=\"middle\">nsubj</textPath>\n",
       "    </text>\n",
       "    <path class=\"displacy-arrowhead\" d=\"M770,179.0 L762,167.0 778,167.0\" fill=\"currentColor\"/>\n",
       "</g>\n",
       "\n",
       "<g class=\"displacy-arrow\">\n",
       "    <path class=\"displacy-arc\" id=\"arrow-26156d84056440159d7f4ca7f5dcc658-0-4\" stroke-width=\"2px\" d=\"M945,177.0 C945,89.5 1095.0,89.5 1095.0,177.0\" fill=\"none\" stroke=\"currentColor\"/>\n",
       "    <text dy=\"1.25em\" style=\"font-size: 0.8em; letter-spacing: 1px\">\n",
       "        <textPath xlink:href=\"#arrow-26156d84056440159d7f4ca7f5dcc658-0-4\" class=\"displacy-label\" startOffset=\"50%\" side=\"left\" fill=\"currentColor\" text-anchor=\"middle\">acomp</textPath>\n",
       "    </text>\n",
       "    <path class=\"displacy-arrowhead\" d=\"M1095.0,179.0 L1103.0,167.0 1087.0,167.0\" fill=\"currentColor\"/>\n",
       "</g>\n",
       "\n",
       "<g class=\"displacy-arrow\">\n",
       "    <path class=\"displacy-arc\" id=\"arrow-26156d84056440159d7f4ca7f5dcc658-0-5\" stroke-width=\"2px\" d=\"M1295,177.0 C1295,89.5 1445.0,89.5 1445.0,177.0\" fill=\"none\" stroke=\"currentColor\"/>\n",
       "    <text dy=\"1.25em\" style=\"font-size: 0.8em; letter-spacing: 1px\">\n",
       "        <textPath xlink:href=\"#arrow-26156d84056440159d7f4ca7f5dcc658-0-5\" class=\"displacy-label\" startOffset=\"50%\" side=\"left\" fill=\"currentColor\" text-anchor=\"middle\">nsubj</textPath>\n",
       "    </text>\n",
       "    <path class=\"displacy-arrowhead\" d=\"M1295,179.0 L1287,167.0 1303,167.0\" fill=\"currentColor\"/>\n",
       "</g>\n",
       "\n",
       "<g class=\"displacy-arrow\">\n",
       "    <path class=\"displacy-arc\" id=\"arrow-26156d84056440159d7f4ca7f5dcc658-0-6\" stroke-width=\"2px\" d=\"M1470,177.0 C1470,89.5 1620.0,89.5 1620.0,177.0\" fill=\"none\" stroke=\"currentColor\"/>\n",
       "    <text dy=\"1.25em\" style=\"font-size: 0.8em; letter-spacing: 1px\">\n",
       "        <textPath xlink:href=\"#arrow-26156d84056440159d7f4ca7f5dcc658-0-6\" class=\"displacy-label\" startOffset=\"50%\" side=\"left\" fill=\"currentColor\" text-anchor=\"middle\">prep</textPath>\n",
       "    </text>\n",
       "    <path class=\"displacy-arrowhead\" d=\"M1620.0,179.0 L1628.0,167.0 1612.0,167.0\" fill=\"currentColor\"/>\n",
       "</g>\n",
       "\n",
       "<g class=\"displacy-arrow\">\n",
       "    <path class=\"displacy-arc\" id=\"arrow-26156d84056440159d7f4ca7f5dcc658-0-7\" stroke-width=\"2px\" d=\"M1645,177.0 C1645,89.5 1795.0,89.5 1795.0,177.0\" fill=\"none\" stroke=\"currentColor\"/>\n",
       "    <text dy=\"1.25em\" style=\"font-size: 0.8em; letter-spacing: 1px\">\n",
       "        <textPath xlink:href=\"#arrow-26156d84056440159d7f4ca7f5dcc658-0-7\" class=\"displacy-label\" startOffset=\"50%\" side=\"left\" fill=\"currentColor\" text-anchor=\"middle\">pobj</textPath>\n",
       "    </text>\n",
       "    <path class=\"displacy-arrowhead\" d=\"M1795.0,179.0 L1803.0,167.0 1787.0,167.0\" fill=\"currentColor\"/>\n",
       "</g>\n",
       "</svg>"
      ],
      "text/plain": [
       "<IPython.core.display.HTML object>"
      ]
     },
     "metadata": {},
     "output_type": "display_data"
    }
   ],
   "source": [
    "displacy.render(doc, jupyter=True, style='dep')"
   ]
  },
  {
   "cell_type": "code",
   "execution_count": 22,
   "metadata": {},
   "outputs": [],
   "source": [
    "def get_predicate_subject_object(doc, rels={'nsubj', 'dobj', 'prep'}):\n",
    "    \"\"\"\n",
    "    extract predicates with:\n",
    "    -subject\n",
    "    -object\n",
    "    \n",
    "    :param spacy.tokens.doc.Doc doc: spaCy object after processing text\n",
    "    \n",
    "    :rtype: list \n",
    "    :return: list of tuples (predicate, subject, object)\n",
    "    \"\"\"\n",
    "    predicates = {}\n",
    "    \n",
    "    for token in doc:\n",
    "        if token.dep_ in rels:\n",
    "            \n",
    "            head = token.head\n",
    "            head_id = head.i\n",
    "            \n",
    "            if head_id not in predicates:\n",
    "                predicates[head_id] = dict()\n",
    "            \n",
    "            predicates[head_id][token.dep_] = token.lemma_\n",
    "    \n",
    "    output = []\n",
    "    for pred_token, pred_info in predicates.items():\n",
    "        one_row = (doc[pred_token].lemma_, \n",
    "                   pred_info.get('nsubj', None),\n",
    "                   pred_info.get('dobj', None)\n",
    "                  )\n",
    "        output.append(one_row)\n",
    "    \n",
    "    return output"
   ]
  },
  {
   "cell_type": "markdown",
   "metadata": {},
   "source": [
    "Given that we can process the text with spaCy and obtain the events, we can now make a simple script to iterate over de event tuples and obtain all the frames for each event word. The next cell does that: "
   ]
  },
  {
   "cell_type": "code",
   "execution_count": 23,
   "metadata": {},
   "outputs": [
    {
     "name": "stdout",
     "output_type": "stream",
     "text": [
      "('make', 'John', 'cake')\n",
      "Number of frames: 27\n",
      "['Arriving', 'Behind_the_scenes', 'Body_decoration', 'Building', 'Causation', 'Cause_change', 'Communicate_categorization', 'Cooking_creation', 'Creating', 'Destroying', 'Earnings_and_losses', 'Fame', 'Historic_event', 'Intentionally_create', 'Leadership', 'Make_acquaintance', 'Making_arrangements', 'Manufacturing', 'People_by_vocation', 'Personal_success', 'Procreative_sex', 'Reparation', 'Self_motion', 'Sex', 'Theft', 'Type', 'Verification']\n",
      "('get', '-PRON-', None)\n",
      "Number of frames: 51\n",
      "['Abandonment', 'Accompaniment', 'Accoutrements', 'Activity_prepare', 'Activity_start', 'Aiming', 'Amalgamation', 'Arriving', 'Board_vehicle', 'Body_movement', 'Bringing', 'Building', 'Cause_to_amalgamate', 'Cause_to_wake', 'Clothing', 'Collaboration', 'Come_down_with', 'Come_together', 'Contacting', 'Cooking_creation', 'Disembarking', 'Dressing', 'Dynamism', 'Escaping', 'Evading', 'Food', 'Gathering_up', 'Getting', 'Getting_underway', 'Getting_up', 'Giving_birth', 'Gizmo', 'Grasp', 'Intentional_deception', 'Making_arrangements', 'Mental_property', 'Personal_relationship', 'Punctual_perception', 'Purpose', 'Remembering_experience', 'Remembering_information', 'Remembering_to_do', 'Resolve_problem', 'Revenge', 'Social_event', 'Success_or_failure', 'Successfully_communicate_message', 'Text_creation', 'Transition_to_state', 'Travel', 'Waking_up']\n",
      "('go', '-PRON-', None)\n",
      "Number of frames: 79\n",
      "['Accoutrements', 'Appellations', 'Attempt', 'Attending', 'Avoiding', 'Being_named', 'Buildings', 'Categorization', 'Ceasing_to_be', 'Chatting', 'Clothing', 'Color', 'Come_into_effect', 'Commerce_scenario', 'Compatibility', 'Containers', 'Deny_or_grant_permission', 'Desirability', 'Desirable_event', 'Discussion', 'Dynamism', 'Emotion_active', 'Emotion_directed', 'Endeavor_failure', 'Event', 'Exemplar', 'Expend_resource', 'Experiencer_obj', 'Expertise', 'Fire_going_out', 'Firing', 'Forgoing', 'Getting_triggered', 'Getting_underway', 'Going_back_on_a_commitment', 'Hair_configuration', 'Have_associated', 'Ingestion', 'Isolated_places', 'Leadership', 'Losing_it', 'Make_noise', 'Morality_evaluation', 'Motion', 'Natural_features', 'Organization', 'Out_of_existence', 'People_by_origin', 'Perception_active', 'Perception_body', 'Personal_relationship', 'Possession', 'Process_continue', 'Proportional_quantity', 'Purpose', 'Rejuvenation', 'Releasing', 'Removing', 'Required_event', 'Scrutiny', 'Self_motion', 'Sex', 'Size', 'Sociability', 'Social_event_individuals', 'Social_interaction_evaluation', 'Speak_on_topic', 'Stimulus_focus', 'Store', 'Subjective_influence', 'Subordinates_and_superiors', 'Successful_action', 'Time_vector', 'Transition_to_a_quality', 'Undergo_change', 'Undergoing', 'Usefulness', 'Waver_between_options', 'Wearing']\n"
     ]
    }
   ],
   "source": [
    "events = get_predicate_subject_object(doc)\n",
    "for event in events:\n",
    "    predicate=event[0]\n",
    "    print(event)\n",
    "    frames = fn.frames_by_lemma(predicate)\n",
    "    print('Number of frames:', len(frames))\n",
    "    frame_names=[]\n",
    "    for frame in frames:\n",
    "        frame_names.append(frame.name)\n",
    "    print(frame_names)"
   ]
  },
  {
   "cell_type": "markdown",
   "metadata": {},
   "source": [
    "We can see that these predicates are very polysemous! Many of these frames are very general and a-specific. So which of these frames are most relevant for our sentences? In other words, which frames tell the story!"
   ]
  },
  {
   "cell_type": "markdown",
   "metadata": {},
   "source": [
    "## End of this Notebook"
   ]
  },
  {
   "cell_type": "code",
   "execution_count": null,
   "metadata": {},
   "outputs": [],
   "source": []
  }
 ],
 "metadata": {
  "kernelspec": {
   "display_name": "Python 3",
   "language": "python",
   "name": "python3"
  },
  "language_info": {
   "codemirror_mode": {
    "name": "ipython",
    "version": 3
   },
   "file_extension": ".py",
   "mimetype": "text/x-python",
   "name": "python",
   "nbconvert_exporter": "python",
   "pygments_lexer": "ipython3",
   "version": "3.7.6"
  }
 },
 "nbformat": 4,
 "nbformat_minor": 4
}
