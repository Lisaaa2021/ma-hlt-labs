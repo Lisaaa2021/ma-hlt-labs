{
 "cells": [
  {
   "cell_type": "markdown",
   "metadata": {},
   "source": [
    "# Lab2.7 Average vector representation"
   ]
  },
  {
   "cell_type": "code",
   "execution_count": 10,
   "metadata": {},
   "outputs": [
    {
     "name": "stderr",
     "output_type": "stream",
     "text": [
      "Fatal Python error: pyinit_core_reconfigure: failed to read thread state\n",
      "Python runtime state: initialized\n",
      "\n",
      "Thread 0x000000016b467000 (most recent call first):\n",
      "  File \"/private/var/containers/Bundle/Application/9E0BB41F-E83E-4035-A318-4996B9D2DB3F/Carnets.app/Library/lib/python3.9/selectors.py\", line 562 in select\n",
      "  File \"/private/var/containers/Bundle/Application/9E0BB41F-E83E-4035-A318-4996B9D2DB3F/Carnets.app/Library/lib/python3.9/site-packages/nest_asyncio.py\", line 106 in _run_once\n",
      "  File \"/private/var/containers/Bundle/Application/9E0BB41F-E83E-4035-A318-4996B9D2DB3F/Carnets.app/Library/lib/python3.9/site-packages/nest_asyncio.py\", line 72 in run_forever\n",
      "  File \"/private/var/containers/Bundle/Application/9E0BB41F-E83E-4035-A318-4996B9D2DB3F/Carnets.app/Library/lib/python3.9/site-packages/tornado/platform/asyncio.py\", line 199 in start\n",
      "  File \"/private/var/containers/Bundle/Application/9E0BB41F-E83E-4035-A318-4996B9D2DB3F/Carnets.app/Library/lib/python3.9/site-packages/notebook/notebookapp.py\", line 2388 in start\n",
      "  File \"/private/var/containers/Bundle/Application/9E0BB41F-E83E-4035-A318-4996B9D2DB3F/Carnets.app/Library/lib/python3.9/site-packages/traitlets/config/application.py\", line 976 in launch_instance\n",
      "  File \"/private/var/containers/Bundle/Application/9E0BB41F-E83E-4035-A318-4996B9D2DB3F/Carnets.app/Library/lib/python3.9/site-packages/jupyter_core/application.py\", line 269 in launch_instance\n",
      "  File \"/private/var/containers/Bundle/Application/9E0BB41F-E83E-4035-A318-4996B9D2DB3F/Carnets.app/Library/bin/jupyter-notebook\", line 8 in <module>\n",
      "\r"
     ]
    },
    {
     "name": "stdout",
     "output_type": "stream",
     "text": [
      "Note: you may need to restart the kernel to use updated packages.\n"
     ]
    }
   ],
   "source": [
    "%pip install gensim"
   ]
  },
  {
   "cell_type": "code",
   "execution_count": 11,
   "metadata": {},
   "outputs": [],
   "source": [
    "vectors1 =[[0.23,0.45, 0.21, 0.78],\n",
    "          [0.12,0.34, 0.11, 0.32],\n",
    "          [0.01,0.41, 0.05, 0.91],\n",
    "          [0.22,0.51, 0.93, 0.31]]"
   ]
  },
  {
   "cell_type": "code",
   "execution_count": 12,
   "metadata": {},
   "outputs": [
    {
     "name": "stdout",
     "output_type": "stream",
     "text": [
      "Sum of the vectors1: [0.58, 1.71, 1.3, 2.3200000000000003]\n",
      "Average of the vectors1: [0.145, 0.4275, 0.325, 0.5800000000000001]\n"
     ]
    }
   ],
   "source": [
    "sum_vec = [0.0, 0.0, 0.0, 0.0]\n",
    "for vec in vectors1:\n",
    "    for i, v in enumerate(vec):\n",
    "        sum_vec[i] += v\n",
    "print('Sum of the vectors1:', sum_vec)\n",
    "\n",
    "average_vec = [0, 0, 0, 0]\n",
    "for i, v in enumerate(sum_vec):\n",
    "    average_vec[i] = sum_vec[i]/len(vectors1)\n",
    "\n",
    "print('Average of the vectors1:', average_vec)"
   ]
  },
  {
   "cell_type": "code",
   "execution_count": 13,
   "metadata": {},
   "outputs": [],
   "source": [
    "vectors2 =[[0.23,0.45, 0.21, 0.78],\n",
    "          [0.12,0.34, 0.11, 0.32],\n",
    "          [0.02, 0.32, 0.08, 0.83],\n",
    "          [0.22,0.51, 0.93, 0.31]]"
   ]
  },
  {
   "cell_type": "code",
   "execution_count": 14,
   "metadata": {},
   "outputs": [
    {
     "name": "stdout",
     "output_type": "stream",
     "text": [
      "Sum of the vectors2: [0.59, 1.62, 1.33, 2.24]\n",
      "Average of the vectors2: [0.1475, 0.405, 0.3325, 0.56]\n"
     ]
    }
   ],
   "source": [
    "sum_vec = [0.0, 0.0, 0.0, 0.0]\n",
    "for vec in vectors2:\n",
    "    for i, v in enumerate(vec):\n",
    "        sum_vec[i] += v\n",
    "print('Sum of the vectors2:', sum_vec)\n",
    "\n",
    "average_vec = [0, 0, 0, 0]\n",
    "for i, v in enumerate(sum_vec):\n",
    "    average_vec[i] = sum_vec[i]/len(vectors2)\n",
    "\n",
    "print('Average of the vectors2:', average_vec)"
   ]
  },
  {
   "cell_type": "code",
   "execution_count": 9,
   "metadata": {},
   "outputs": [
    {
     "ename": "ModuleNotFoundError",
     "evalue": "No module named 'gensim'",
     "output_type": "error",
     "traceback": [
      "\u001b[0;31m---------------------------------------------------------------------------\u001b[0m",
      "\u001b[0;31mModuleNotFoundError\u001b[0m                       Traceback (most recent call last)",
      "Input \u001b[0;32mIn [9]\u001b[0m, in \u001b[0;36m<cell line: 1>\u001b[0;34m()\u001b[0m\n\u001b[0;32m----> 1\u001b[0m \u001b[38;5;28;01mimport\u001b[39;00m \u001b[38;5;21;01mgensim\u001b[39;00m\n",
      "\u001b[0;31mModuleNotFoundError\u001b[0m: No module named 'gensim'"
     ]
    }
   ],
   "source": [
    "import gensim"
   ]
  },
  {
   "cell_type": "code",
   "execution_count": 11,
   "metadata": {},
   "outputs": [
    {
     "ename": "TypeError",
     "evalue": "__init__() missing 1 required positional argument: 'num_features'",
     "output_type": "error",
     "traceback": [
      "\u001b[0;31m---------------------------------------------------------------------------\u001b[0m",
      "\u001b[0;31mTypeError\u001b[0m                                 Traceback (most recent call last)",
      "\u001b[0;32m<ipython-input-11-6a18b9c04ea5>\u001b[0m in \u001b[0;36m<module>\u001b[0;34m\u001b[0m\n\u001b[0;32m----> 1\u001b[0;31m \u001b[0mgensim\u001b[0m\u001b[0;34m.\u001b[0m\u001b[0msimilarities\u001b[0m\u001b[0;34m.\u001b[0m\u001b[0mSimilarity\u001b[0m\u001b[0;34m(\u001b[0m\u001b[0mvectors1\u001b[0m\u001b[0;34m,\u001b[0m \u001b[0mvectors2\u001b[0m\u001b[0;34m)\u001b[0m\u001b[0;34m\u001b[0m\u001b[0;34m\u001b[0m\u001b[0m\n\u001b[0m",
      "\u001b[0;31mTypeError\u001b[0m: __init__() missing 1 required positional argument: 'num_features'"
     ]
    }
   ],
   "source": [
    "gensim.similarities.Similarity(vectors1, vectors2)"
   ]
  },
  {
   "cell_type": "code",
   "execution_count": null,
   "metadata": {},
   "outputs": [],
   "source": []
  }
 ],
 "metadata": {
  "kernelspec": {
   "display_name": "Python 3 (ipykernel)",
   "language": "python",
   "name": "python3"
  },
  "language_info": {
   "codemirror_mode": {
    "name": "ipython",
    "version": 3
   },
   "file_extension": ".py",
   "mimetype": "text/x-python",
   "name": "python",
   "nbconvert_exporter": "python",
   "pygments_lexer": "ipython3",
   "version": "3.9.10+"
  }
 },
 "nbformat": 4,
 "nbformat_minor": 4
}
