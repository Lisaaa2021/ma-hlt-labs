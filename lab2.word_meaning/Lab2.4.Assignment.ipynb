{
 "cells": [
  {
   "cell_type": "markdown",
   "metadata": {},
   "source": [
    "# Lab-Assignment 2: Use Word Embeddings to extend Wordnet (max 20 points for your final grade)"
   ]
  },
  {
   "cell_type": "markdown",
   "metadata": {},
   "source": [
    "In this assignment you:\n",
    "\n",
    "<ol>\n",
    "<li> choose a noun and a verb that has at least 10 descendants (hyponyms at any depth) in the English WordNet. Typically, these are general concepts such as *cat*, *dog*, *house*, *vehicle*, *drink*, *walk*, *eat*. We call these the starting concepts.\n",
    "<li> choose a target language of your choice for which there is a word embedding model AND for which there exists a wordnet in NLTK AND a corpus among the Leipzig corpora (If you are not comfortable for another language than English take four English words instead of two and use the data for English).\n",
    "<li>get all the hyponyms (at any depth if necessary) of the starting concepts and describe which have equivalents in your target language and which do not (similar as we checked the coverage for *dog* in languages in the notebook)\n",
    "<li> choose a proper translation in your target language for the English starting concept of step 1; we call these the target words. E.g. if the starting concept is *dog*, then *hond* is a translation in Dutch.\n",
    "<li> extract the 50 most similar words for your target words from embeddings\n",
    "<li> map these 50 words to the wordnet for your target language:\n",
    "    <ol>\n",
    "    <li> which similar words are alreaday included in this wordnet\n",
    "    <li> which words are not yet included in this wordnet, what would be the relation to the target word (if any), which words should not be related at all\n",
    "    </ol>\n",
    "</ol>\n",
    "\n",
    "E.g. if you target language is Dutch and you want to analyse the Dutch wordnet and embeddings to capture *dog* concepts, you do the following:\n",
    "\n",
    "<ol>\n",
    "<li> get all the hyponyms of \"dog\" in WordNet and check which of these are covered in the Dutch wordnet and which *dogs* are not\n",
    "<li> get the 50 most similar words for \"hond\" in a Dutch embedding model, \n",
    "<li> check each of these similar words against the dogs in wordnet: was it already covered, does it provide a synonym for a *dog* that was not covered, can it be related in some other way to the *dog* concept, is it totally unrelated\n",
    "</ol>\n",
    "\n",
    "We assume you have analysed the following notebooks:\n",
    "\n",
    "* Lab2.1.NLTK_wordnet\n",
    "* Lab2.2 Wikipedia2Vec\n",
    "* Lab2.3 Create_embeddings_in_some_language\n",
    "\n",
    "You can follow the Wikipedia2Vec and Create_embeddings_in_some_language notebooks to create the embeddings. \n",
    "\n",
    "This notebook should show how you applied these embeddings to your words. Insert Mark Down rows the explain your steps and discuss any problems or issues. Once you generated the output and explanation, convert this notebook to PDF using the menu \"File/Export Notebook As\".\n",
    "\n",
    "Including a PDF of your notebook for the assignment with output."
   ]
  },
  {
   "cell_type": "markdown",
   "metadata": {},
   "source": [
    "## 2.1 WordNet coverage over hyponyms: **[5 points]**"
   ]
  },
  {
   "cell_type": "markdown",
   "metadata": {},
   "source": [
    "1) Select one starting noun and one starting verb for which the English WordNet has more than 10 (sub-)hyponyms in total possibly spread over multiple levels."
   ]
  },
  {
   "cell_type": "markdown",
   "metadata": {},
   "source": [
    "2) Get the lexical coverage for these hyponyms in a wordnet for a target language of your choice (not English)."
   ]
  },
  {
   "cell_type": "code",
   "execution_count": 1,
   "metadata": {},
   "outputs": [],
   "source": [
    "## Here comes your code that obtains the hyponym coverage in your target language for the starting noun and verb of your choice"
   ]
  },
  {
   "cell_type": "markdown",
   "metadata": {},
   "source": [
    "If you do not feel comfortable with another language than English, you can do the assignment on the English WordNet and using English embeddings (see below). In that case, do the assignment for 4 words instead of 2 words."
   ]
  },
  {
   "cell_type": "markdown",
   "metadata": {},
   "source": [
    "3) How many synsets have lemmas in your target language and how many do not?"
   ]
  },
  {
   "cell_type": "markdown",
   "metadata": {},
   "source": [
    "## 2.2 Wiki2Vec embeddings: [5 points]\n",
    "### In case you managed to install Wiki2Vec or you managed to load a Wiki2Vec model using Gensim (Lab2.2b) proceed below.\n",
    "#### Otherwise do 2.4"
   ]
  },
  {
   "cell_type": "markdown",
   "metadata": {},
   "source": [
    "1) Download the Wiki2Vec embeddings for your target language and load the model using the Wikipedia2Vec package"
   ]
  },
  {
   "cell_type": "markdown",
   "metadata": {},
   "source": [
    "2) Get the 50 most similar words for each of your target words"
   ]
  },
  {
   "cell_type": "markdown",
   "metadata": {},
   "source": [
    "3) For each of the most similar words that is NOT covered by your target language wordnet answer the following questions:\n",
    "\n",
    "* Is this word related to the target concept?\n",
    "* What would be the proper WordNet relation?\n"
   ]
  },
  {
   "cell_type": "markdown",
   "metadata": {},
   "source": [
    "4) Reflect on the following questions:\n",
    "\n",
    "* Are embeddings useful for completing WordNet?\n",
    "* Are the new concepts similar or related?\n",
    "* Is there a difference between the noun and verb concept?\n"
   ]
  },
  {
   "cell_type": "markdown",
   "metadata": {},
   "source": [
    "## 2.3 Embeddings from the Leipzig corpus: [10 points]"
   ]
  },
  {
   "cell_type": "markdown",
   "metadata": {},
   "source": [
    "### In case In case you managed to install Wiki2Vec or you managed to load a Wiki2Vec model using Gensim (Lab2.2b) proceed below. Otherwise do 2.4 you managed to install Wiki2Vec, otherwise do 2.4"
   ]
  },
  {
   "cell_type": "markdown",
   "metadata": {},
   "source": [
    "1) Download a text corpus from the Leipniz corpora collection for your target language"
   ]
  },
  {
   "cell_type": "markdown",
   "metadata": {},
   "source": [
    "2) Use the gensim pakcage to create an embedding model for your target language"
   ]
  },
  {
   "cell_type": "markdown",
   "metadata": {},
   "source": [
    "3) Get the 50 most similar words from the Wiki2Vec embeddings and 50 most similar words from the Leipzig embeddings, compare the results and answer the following questions\n",
    "\n",
    "* which embeddings are better?\n",
    "* can you explain why there is a difference?\n"
   ]
  },
  {
   "cell_type": "markdown",
   "metadata": {},
   "source": [
    "## 2.4 Embeddings from two Leipzig corpora: [15 points]"
   ]
  },
  {
   "cell_type": "markdown",
   "metadata": {},
   "source": [
    "If you did not manage to install Wiki2Vec or to load a Wiki2Vec model using Gensim, you can build two different models from two Leipzig corpora and make a comparison across the two Leipzig models instead of doing 2.2 and 2.3."
   ]
  },
  {
   "cell_type": "markdown",
   "metadata": {},
   "source": [
    "## End of assignment"
   ]
  },
  {
   "cell_type": "code",
   "execution_count": null,
   "metadata": {},
   "outputs": [],
   "source": []
  }
 ],
 "metadata": {
  "kernelspec": {
   "display_name": "Python 3",
   "language": "python",
   "name": "python3"
  },
  "language_info": {
   "codemirror_mode": {
    "name": "ipython",
    "version": 3
   },
   "file_extension": ".py",
   "mimetype": "text/x-python",
   "name": "python",
   "nbconvert_exporter": "python",
   "pygments_lexer": "ipython3",
   "version": "3.7.6"
  }
 },
 "nbformat": 4,
 "nbformat_minor": 4
}
