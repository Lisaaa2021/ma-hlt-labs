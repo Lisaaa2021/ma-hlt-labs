{
 "cells": [
  {
   "cell_type": "markdown",
   "metadata": {},
   "source": [
    "# Lab3.7 Testing classifiers on a different data set with tweets"
   ]
  },
  {
   "cell_type": "markdown",
   "metadata": {},
   "source": [
    "Copyright: Vrije Universiteit Amsterdam, Faculty of Humanities, CLTL"
   ]
  },
  {
   "cell_type": "markdown",
   "metadata": {},
   "source": [
    "The data set that we are going to use is from a NLP task on emotion detection that was organised in the *Wassa* workshop in 2017. The texts are tweets and therefore a different genre than the spoken utterances from the conversations in the MELD data set:\n",
    "\n",
    "http://saifmohammad.com/WebPages/EmotionIntensity-SharedTask.html\n",
    "\n",
    "We included the data set in the distribution of this lab and aggregated all the training data in a single file that we now can load using *Pandas*."
   ]
  },
  {
   "cell_type": "markdown",
   "metadata": {},
   "source": [
    "### 1. Loading the tweet data set"
   ]
  },
  {
   "cell_type": "code",
   "execution_count": 1,
   "metadata": {},
   "outputs": [
    {
     "data": {
      "text/html": [
       "<div>\n",
       "<style scoped>\n",
       "    .dataframe tbody tr th:only-of-type {\n",
       "        vertical-align: middle;\n",
       "    }\n",
       "\n",
       "    .dataframe tbody tr th {\n",
       "        vertical-align: top;\n",
       "    }\n",
       "\n",
       "    .dataframe thead th {\n",
       "        text-align: right;\n",
       "    }\n",
       "</style>\n",
       "<table border=\"1\" class=\"dataframe\">\n",
       "  <thead>\n",
       "    <tr style=\"text-align: right;\">\n",
       "      <th></th>\n",
       "      <th>ID</th>\n",
       "      <th>Tweet</th>\n",
       "      <th>Label</th>\n",
       "      <th>Score</th>\n",
       "    </tr>\n",
       "  </thead>\n",
       "  <tbody>\n",
       "    <tr>\n",
       "      <th>0</th>\n",
       "      <td>10000</td>\n",
       "      <td>How the fu*k! Who the heck! moved my fridge!.....</td>\n",
       "      <td>anger</td>\n",
       "      <td>0.938</td>\n",
       "    </tr>\n",
       "    <tr>\n",
       "      <th>1</th>\n",
       "      <td>10001</td>\n",
       "      <td>So my Indian Uber driver just called someone t...</td>\n",
       "      <td>anger</td>\n",
       "      <td>0.896</td>\n",
       "    </tr>\n",
       "    <tr>\n",
       "      <th>2</th>\n",
       "      <td>10002</td>\n",
       "      <td>@DPD_UK I asked for my parcel to be delivered ...</td>\n",
       "      <td>anger</td>\n",
       "      <td>0.896</td>\n",
       "    </tr>\n",
       "    <tr>\n",
       "      <th>3</th>\n",
       "      <td>10003</td>\n",
       "      <td>so ef whichever butt wipe pulled the fire alar...</td>\n",
       "      <td>anger</td>\n",
       "      <td>0.896</td>\n",
       "    </tr>\n",
       "    <tr>\n",
       "      <th>4</th>\n",
       "      <td>10004</td>\n",
       "      <td>Don't join @BTCare they put the phone down on ...</td>\n",
       "      <td>anger</td>\n",
       "      <td>0.896</td>\n",
       "    </tr>\n",
       "  </tbody>\n",
       "</table>\n",
       "</div>"
      ],
      "text/plain": [
       "      ID                                              Tweet  Label  Score\n",
       "0  10000  How the fu*k! Who the heck! moved my fridge!.....  anger  0.938\n",
       "1  10001  So my Indian Uber driver just called someone t...  anger  0.896\n",
       "2  10002  @DPD_UK I asked for my parcel to be delivered ...  anger  0.896\n",
       "3  10003  so ef whichever butt wipe pulled the fire alar...  anger  0.896\n",
       "4  10004  Don't join @BTCare they put the phone down on ...  anger  0.896"
      ]
     },
     "execution_count": 1,
     "metadata": {},
     "output_type": "execute_result"
    }
   ],
   "source": [
    "import pandas as pd\n",
    "filepath = './data/wassa/training/all.train.tsv'\n",
    "dftweets_train = pd.read_csv(filepath, sep='\\t')\n",
    "dftweets_train.head()\n"
   ]
  },
  {
   "cell_type": "code",
   "execution_count": 2,
   "metadata": {},
   "outputs": [
    {
     "name": "stdout",
     "output_type": "stream",
     "text": [
      "<class 'pandas.core.frame.DataFrame'>\n",
      "RangeIndex: 3613 entries, 0 to 3612\n",
      "Data columns (total 4 columns):\n",
      " #   Column  Non-Null Count  Dtype  \n",
      "---  ------  --------------  -----  \n",
      " 0   ID      3613 non-null   int64  \n",
      " 1   Tweet   3613 non-null   object \n",
      " 2   Label   3613 non-null   object \n",
      " 3   Score   3613 non-null   float64\n",
      "dtypes: float64(1), int64(1), object(2)\n",
      "memory usage: 113.0+ KB\n"
     ]
    }
   ],
   "source": [
    "dftweets_train.info()"
   ]
  },
  {
   "cell_type": "markdown",
   "metadata": {},
   "source": [
    "We see that this data set has 3613 tweets, labels and a score. Lets check the distribution of the labels:"
   ]
  },
  {
   "cell_type": "code",
   "execution_count": 3,
   "metadata": {},
   "outputs": [
    {
     "data": {
      "text/plain": [
       "<AxesSubplot:>"
      ]
     },
     "execution_count": 3,
     "metadata": {},
     "output_type": "execute_result"
    },
    {
     "data": {
      "image/png": "[encoded data removed]",
      "text/plain": [
       "<Figure size 432x288 with 1 Axes>"
      ]
     },
     "metadata": {
      "needs_background": "light"
     },
     "output_type": "display_data"
    }
   ],
   "source": [
    "dftweets_train.Label.value_counts().sort_values(ascending=False).plot(kind='bar')"
   ]
  },
  {
   "cell_type": "code",
   "execution_count": 4,
   "metadata": {},
   "outputs": [
    {
     "data": {
      "text/plain": [
       "<AxesSubplot:>"
      ]
     },
     "execution_count": 4,
     "metadata": {},
     "output_type": "execute_result"
    },
    {
     "data": {
      "image/png": "[encoded data removed]",
      "text/plain": [
       "<Figure size 432x288 with 1 Axes>"
      ]
     },
     "metadata": {
      "needs_background": "light"
     },
     "output_type": "display_data"
    }
   ],
   "source": [
    "##### Test data\n",
    "filepath = './data/wassa/testing/all.test.tsv'\n",
    "dftweets_test = pd.read_csv(filepath, sep='\\t')\n",
    "dftweets_test.Label.value_counts().sort_values(ascending=False).plot(kind='bar')"
   ]
  },
  {
   "cell_type": "markdown",
   "metadata": {},
   "source": [
    "We see that this data set is more evenly distributed and there are no neutral tweets. Also lacking are *disgust* and *surprise*. Let's see what our classifier does on this data set."
   ]
  },
  {
   "cell_type": "markdown",
   "metadata": {},
   "source": [
    "We first extract the tweets and labels using a similar loop as before."
   ]
  },
  {
   "cell_type": "code",
   "execution_count": 5,
   "metadata": {},
   "outputs": [
    {
     "name": "stdout",
     "output_type": "stream",
     "text": [
      "3613\n",
      "3613\n"
     ]
    }
   ],
   "source": [
    "tweet_train_instances=[]\n",
    "tweet_train_labels = []\n",
    "for tweet in dftweets_train['Tweet']:\n",
    "    ### We break the loop after 2000 instances \n",
    "    #if index==2000:\n",
    "    #    break\n",
    "    tweet_train_instances.append(tweet)\n",
    "\n",
    "\n",
    "for label in dftweets_train['Label']:\n",
    "    ### We break the loop after 2000 instances \n",
    "    #if index==2000:\n",
    "    #    break    ### we need to surround the next statements with 'try' and 'except' to catch cases \n",
    "    tweet_train_labels.append(label)\n",
    "\n",
    "print(len(tweet_train_instances))\n",
    "print(len(tweet_train_labels))"
   ]
  },
  {
   "cell_type": "code",
   "execution_count": 6,
   "metadata": {},
   "outputs": [
    {
     "name": "stdout",
     "output_type": "stream",
     "text": [
      "3142\n",
      "3142\n"
     ]
    }
   ],
   "source": [
    "tweet_test_instances=[]\n",
    "tweet_test_labels = []\n",
    "for tweet in dftweets_test['Tweet']:\n",
    "    ### We break the loop after 2000 instances \n",
    "    #if index==2000:\n",
    "    #    break\n",
    "    tweet_test_instances.append(tweet)\n",
    "\n",
    "\n",
    "for label in dftweets_test['Label']:\n",
    "    ### We break the loop after 2000 instances \n",
    "    #if index==2000:\n",
    "    #    break    ### we need to surround the next statements with 'try' and 'except' to catch cases \n",
    "    tweet_test_labels.append(label)\n",
    "\n",
    "print(len(tweet_test_instances))\n",
    "print(len(tweet_test_labels))"
   ]
  },
  {
   "cell_type": "markdown",
   "metadata": {},
   "source": [
    "### 2. Representing and classifying the tweets as averaged word embeddings"
   ]
  },
  {
   "cell_type": "markdown",
   "metadata": {},
   "source": [
    "#### 2.1 Representing the tweet training data using the same word embeddings"
   ]
  },
  {
   "cell_type": "markdown",
   "metadata": {},
   "source": [
    "We can use the same functions that we used in the notebook *Lab3.6.ml.emotion-detection.embeddings.ipynb* to get averaged embeddings for the tweets. \n",
    "In order to use exactly the same function and to be able to re-use them again, we moved the exact function to a separate python file \"lab3_util.py\".\n",
    "\n",
    "We can now import this file as we do with other packages and apply it in this notebook but also in other code. This keeps our notebook readable and compact and makes sure we always use the same functions and do not accidently change them across notebooks.\n",
    "\n",
    "Note that the tweets have special tokens such as hashtags, emoticons. In so far these are not part of the embedding vocabulary, they will not be accounted for."
   ]
  },
  {
   "cell_type": "code",
   "execution_count": 7,
   "metadata": {},
   "outputs": [],
   "source": [
    "import lab3_util as util"
   ]
  },
  {
   "cell_type": "code",
   "execution_count": 8,
   "metadata": {},
   "outputs": [],
   "source": [
    "import sklearn\n",
    "from sklearn.metrics.pairwise import cosine_similarity\n",
    "import numpy as np\n",
    "import nltk\n",
    "from nltk.corpus import stopwords"
   ]
  },
  {
   "cell_type": "markdown",
   "metadata": {},
   "source": [
    "We also need to load the same word embedding model as we used before to get compatible word embeddings for this data. Choose whatever is appropriate."
   ]
  },
  {
   "cell_type": "code",
   "execution_count": 18,
   "metadata": {},
   "outputs": [],
   "source": [
    "import gensim\n",
    "from gensim.models.word2vec import Word2Vec\n",
    "import gensim.downloader as api\n",
    "# download the model and return as object ready for use\n",
    "wordembeddings=\"glove-twitter-25\"\n",
    "word_embedding_model = api.load(wordembeddings)\n",
    "num_features = 25"
   ]
  },
  {
   "cell_type": "code",
   "execution_count": 11,
   "metadata": {},
   "outputs": [
    {
     "name": "stderr",
     "output_type": "stream",
     "text": [
      "/Users/piek/.local/lib/python3.7/site-packages/ipykernel_launcher.py:2: DeprecationWarning: Call to deprecated `wv` (Attribute will be removed in 4.0.0, use self instead).\n",
      "  \n"
     ]
    },
    {
     "name": "stdout",
     "output_type": "stream",
     "text": [
      "Nr of words above the frequency threshold 1447\n",
      "Frequency threshold 4\n",
      "Shape of our matrix is: (3613, 25)\n",
      "Review 0 of 3613\n",
      "Review 1000 of 3613\n",
      "Review 2000 of 3613\n",
      "Review 3000 of 3613\n"
     ]
    }
   ],
   "source": [
    "#### We turn the word2vec wordindex into a set for efficiency\n",
    "index2word_set = set(word_embedding_model.wv.index2word)\n",
    "stop_words = set(stopwords.words('english'))\n",
    "\n",
    " #### We use two word list to keep track of the words that are also in the embedding model and words that are not\n",
    "\n",
    "known_words = []  # utterance words that are also in the embedding model\n",
    "unknown_words =[] # utterance words that are not in the mebedding model\n",
    "\n",
    "frequency_threshold=4\n",
    "keywords = util.getMostFrequentWords(frequency_threshold, tweet_train_instances)\n",
    "\n",
    "tweet_tokens = []\n",
    "for tweet in tweet_train_instances:\n",
    "    tweet_tokens.append(nltk.tokenize.word_tokenize(tweet))\n",
    "\n",
    "trainDataVecs, known_words, unknown_words = util.getAvgFeatureVecs(tweet_tokens, \n",
    "                                                                             keywords, \n",
    "                                                                             stop_words, \n",
    "                                                                             word_embedding_model, \n",
    "                                                                             index2word_set, \n",
    "                                                                             num_features)"
   ]
  },
  {
   "cell_type": "code",
   "execution_count": 12,
   "metadata": {},
   "outputs": [
    {
     "name": "stdout",
     "output_type": "stream",
     "text": [
      "Number of unknown word types 47\n",
      "Number of unknown word tokens: 870\n",
      "Unknown words counts\n",
      "Counter({'...': 275, '2': 59, 'live.ly': 54, '3': 38, '\\\\n': 29, '😂': 24, '4': 21, 'realdonaldtrump': 21, '..': 21, '\\\\n\\\\n': 18, 'bb18': 16, '1': 16, 'hillaryclinton': 16, '15': 14, '10': 13, '🙄': 13, '5': 11, '6': 11, '2016': 10, \"y'all\": 10, '😭': 10, '20': 10, '😂😂': 9, '7': 9, '😕': 8, '100': 8, '❤️': 8, '😡': 7, 'w/': 7, '12': 7, '8': 7, '70': 7, 'charlotteprotest': 6, '😩': 6, '3rd': 6, 'mhchat': 6, '😢': 6, '😳': 6, 'wch2016': 6, 'thenicebot': 6, '🤗': 5, '🙃': 5, '17': 5, '😂😂😂': 5, '2day': 5, '😅': 5, '48': 5})\n",
      "Proportion of unknown tokens 0.024041782960731756\n",
      "Number of known word types: 1205\n",
      "Number of known word tokens: 35317\n"
     ]
    }
   ],
   "source": [
    "from collections import Counter\n",
    "\n",
    "if len(unknown_words)>0:\n",
    "    unknown_words_count = Counter(unknown_words)\n",
    "    print('Number of unknown word types',len(unknown_words_count))\n",
    "    print('Number of unknown word tokens:', len(unknown_words))\n",
    "    print('Unknown words counts')\n",
    "    print(unknown_words_count)\n",
    "    print('Proportion of unknown tokens', len(unknown_words)/(len(unknown_words)+len(known_words)))\n",
    "\n",
    "\n",
    "known_words_count = Counter(known_words)\n",
    "print('Number of known word types:',len(known_words_count))\n",
    "print('Number of known word tokens:', len(known_words))\n",
    "#print(known_words_count)\n",
    "    "
   ]
  },
  {
   "cell_type": "markdown",
   "metadata": {},
   "source": [
    "We clearly see that emoticons are not in the vocabulary of the embedding model. Most words are however covered."
   ]
  },
  {
   "cell_type": "markdown",
   "metadata": {},
   "source": [
    "### 2.2 Representing the tweet test data through embeddings"
   ]
  },
  {
   "cell_type": "code",
   "execution_count": 13,
   "metadata": {},
   "outputs": [
    {
     "name": "stdout",
     "output_type": "stream",
     "text": [
      "Shape of our matrix is: (3142, 25)\n",
      "Review 0 of 3142\n",
      "Review 1000 of 3142\n",
      "Review 2000 of 3142\n",
      "Review 3000 of 3142\n"
     ]
    }
   ],
   "source": [
    "\n",
    "tweet_tokens = []\n",
    "for tweet in tweet_test_instances:\n",
    "    tweet_tokens.append(nltk.tokenize.word_tokenize(tweet))\n",
    "\n",
    "testDataVecs, known_words, unknown_words = util.getAvgFeatureVecs(tweet_tokens, \n",
    "                                                                             keywords, \n",
    "                                                                             stop_words, \n",
    "                                                                             word_embedding_model, \n",
    "                                                                             index2word_set, \n",
    "                                                                             num_features)\n",
    "\n",
    "\n"
   ]
  },
  {
   "cell_type": "code",
   "execution_count": 14,
   "metadata": {},
   "outputs": [
    {
     "name": "stdout",
     "output_type": "stream",
     "text": [
      "Number of unknown word types 45\n",
      "Number of unknown word tokens: 748\n",
      "Unknown words counts\n",
      "Counter({'...': 301, '2': 67, '😂': 32, '3': 26, '1': 23, '\\\\n': 22, '4': 20, 'bb18': 17, '6': 16, '20': 14, '..': 13, '5': 13, 'realdonaldtrump': 12, 'hillaryclinton': 12, '10': 11, \"y'all\": 10, '15': 10, 'mhchat': 10, '7': 9, '😂😂': 9, '🙃': 7, '100': 7, '😩': 7, '😭': 7, '\\\\n\\\\n': 7, '12': 7, '2016': 6, '😅': 5, '🙄': 5, '😳': 5, 'w/': 4, '17': 4, '8': 3, '😡': 3, '😢': 3, '❤️': 3, 'charlotteprotest': 3, '😕': 3, '3rd': 3, '😂😂😂': 2, '48': 2, 'thenicebot': 2, 'live.ly': 1, 'wch2016': 1, '70': 1})\n",
      "Proportion of unknown tokens 0.02481340189086084\n",
      "Number of known word types: 1139\n",
      "Number of known word tokens: 29397\n"
     ]
    }
   ],
   "source": [
    "if len(unknown_words)>0:\n",
    "    unknown_words_count = Counter(unknown_words)\n",
    "    print('Number of unknown word types',len(unknown_words_count))\n",
    "    print('Number of unknown word tokens:', len(unknown_words))\n",
    "    print('Unknown words counts')\n",
    "    print(unknown_words_count)\n",
    "    print('Proportion of unknown tokens', len(unknown_words)/(len(unknown_words)+len(known_words)))\n",
    "\n",
    "\n",
    "known_words_count = Counter(known_words)\n",
    "print('Number of known word types:',len(known_words_count))\n",
    "print('Number of known word tokens:', len(known_words))\n",
    "#print(known_words_count)"
   ]
  },
  {
   "cell_type": "markdown",
   "metadata": {},
   "source": [
    "Next, we need to convert the labels to the same numeric valus that we used before. We should use our LabelEncoder that we used before. However, we want the labels to have the same numeric values as "
   ]
  },
  {
   "cell_type": "code",
   "execution_count": 27,
   "metadata": {},
   "outputs": [
    {
     "name": "stdout",
     "output_type": "stream",
     "text": [
      "['anger', 'fear', 'joy', 'sadness']\n",
      "[3, 3, 3, 3, 3, 3, 3, 3, 3, 3]\n"
     ]
    }
   ],
   "source": [
    "from sklearn import preprocessing\n",
    "# first we instantiate a label encode\n",
    "le = preprocessing.LabelEncoder()\n",
    "# we feed this encoder with the complete list of labels from our data\n",
    "labels = ['fear', 'anger', 'joy',  'sadness']\n",
    "le.fit(labels)\n",
    "print(list(le.classes_))\n",
    "tweet_train_classes = le.transform(tweet_train_labels)\n",
    "tweet_test_classes = le.transform(tweet_test_labels)\n",
    "\n",
    "print(list(tweet_train_classes[-10:]))"
   ]
  },
  {
   "cell_type": "markdown",
   "metadata": {},
   "source": [
    "We see that the first set of tweets are all expressing *anger* (idex '0') which makes sense given the way the data were concatenated from the separate files with tweets. Let's check tha last 10 tweets, which should score for *sadness*:"
   ]
  },
  {
   "cell_type": "code",
   "execution_count": 28,
   "metadata": {},
   "outputs": [
    {
     "name": "stdout",
     "output_type": "stream",
     "text": [
      "[3, 3, 3, 3, 3, 3, 3, 3, 3, 3]\n"
     ]
    }
   ],
   "source": [
    "print(list(tweet_train_classes[-10:]))"
   ]
  },
  {
   "cell_type": "markdown",
   "metadata": {},
   "source": [
    "### 2.3 Training and testing the classifier"
   ]
  },
  {
   "cell_type": "code",
   "execution_count": 29,
   "metadata": {},
   "outputs": [
    {
     "name": "stdout",
     "output_type": "stream",
     "text": [
      "['anger' 'fear' 'joy' 'sadness']\n",
      "Tweet Embeddings SVM LINEAR ----------------------------------------------------------------\n",
      "Word embedding model used glove-twitter-25\n",
      "Word frequency threshold 4\n",
      "              precision    recall  f1-score   support\n",
      "\n",
      "           0  0.4760077 0.3263158 0.3871975       760\n",
      "           1  0.4489281 0.7155779 0.5517241       995\n",
      "           2  0.5636605 0.5952381 0.5790191       714\n",
      "           3  0.4590747 0.1916790 0.2704403       673\n",
      "\n",
      "    accuracy                      0.4818587      3142\n",
      "   macro avg  0.4869178 0.4572027 0.4470952      3142\n",
      "weighted avg  0.4837238 0.4818587 0.4578808      3142\n",
      "\n"
     ]
    }
   ],
   "source": [
    "from sklearn import svm\n",
    "from sklearn.metrics import classification_report\n",
    "\n",
    "# We choose a Linear model\n",
    "svm_linear_clf = svm.LinearSVC(max_iter=2000)\n",
    "### we train the classifier through the *fit* function and by passing the training vectors and the training labels as paramters:\n",
    "svm_linear_clf.fit(trainDataVecs, tweet_train_classes)\n",
    "\n",
    "# Predicting the Test set results, find macro recall\n",
    "y_pred_svm_linear = svm_linear_clf.predict(testDataVecs)\n",
    "\n",
    "#### this report gives the results for the LINEAR classifier\n",
    "report = classification_report(tweet_test_classes,y_pred_svm_linear,digits = 7)\n",
    "print(le.classes_)\n",
    "print('Tweet Embeddings SVM LINEAR ----------------------------------------------------------------')\n",
    "print('Word embedding model used', wordembeddings)\n",
    "print('Word frequency threshold', frequency_threshold)\n",
    "print(report)"
   ]
  },
  {
   "cell_type": "markdown",
   "metadata": {},
   "source": [
    "As we can see, we only have test results for the 4 classes because there are no tweet data for the other. The results are not that bad."
   ]
  },
  {
   "cell_type": "markdown",
   "metadata": {},
   "source": [
    "## 3 Testing the MELD classifiers on the tweets test set"
   ]
  },
  {
   "cell_type": "markdown",
   "metadata": {},
   "source": [
    "We have not trained and tested an emotion classifier on tweet data. What about the MELD classifiers that we have built? Can we load these and test them on the same test tweet data set?\n",
    "\n",
    "With embeddings this is easy because the representations are independent of the words but we need to use the same embedding model for both the training. So if we used the *glove_twitter* embeddings for MELD with 25 dimensions, we have to do the same for the tweet test data.\n",
    "\n",
    "For the BoW classifiers, we need to use CountVectorizer and the *transform_fit* function to model the test data accordingly.\n",
    "\n",
    "If you saved the MELD models using the previous notebook, you can load the models now again. Otherwise, you need to rebuilt them, save them and next load them here."
   ]
  },
  {
   "cell_type": "markdown",
   "metadata": {},
   "source": [
    "#### 3.2 Loading the MELD classifier for embedding representations"
   ]
  },
  {
   "cell_type": "code",
   "execution_count": 30,
   "metadata": {},
   "outputs": [],
   "source": [
    "import pickle\n",
    "filename_classifier = './models/svm_linear_clf_embeddings.sav'\n",
    "\n",
    "# load the classifier and the vectorizer from disk\n",
    "svm_linear_clf = pickle.load(open(filename_classifier, 'rb'))"
   ]
  },
  {
   "cell_type": "markdown",
   "metadata": {},
   "source": [
    "Because the vector representations for MELD and the test tweets were creating using the same function and through the same mebdding model we can now use it directly to classify the tweet test data we just created in the previous section."
   ]
  },
  {
   "cell_type": "code",
   "execution_count": 31,
   "metadata": {},
   "outputs": [
    {
     "name": "stdout",
     "output_type": "stream",
     "text": [
      "['anger' 'fear' 'joy' 'sadness']\n",
      "SVM NONLINEAR EMBEDDINGS ----------------------------------------------------------------\n",
      "              precision    recall  f1-score   support\n",
      "\n",
      "           0  0.4561404 0.0342105 0.0636475       760\n",
      "           1  0.0000000 0.0000000 0.0000000       995\n",
      "           2  0.0000000 0.0000000 0.0000000       714\n",
      "           3  0.2063492 0.2511144 0.2265416       673\n",
      "           4  0.0000000 0.0000000 0.0000000         0\n",
      "           5  0.0000000 0.0000000 0.0000000         0\n",
      "           6  0.0000000 0.0000000 0.0000000         0\n",
      "\n",
      "    accuracy                      0.0620624      3142\n",
      "   macro avg  0.0946414 0.0407607 0.0414556      3142\n",
      "weighted avg  0.1545320 0.0620624 0.0639193      3142\n",
      "\n"
     ]
    },
    {
     "name": "stderr",
     "output_type": "stream",
     "text": [
      "/Users/piek/opt/anaconda3/lib/python3.7/site-packages/sklearn/metrics/_classification.py:1221: UndefinedMetricWarning: Precision and F-score are ill-defined and being set to 0.0 in labels with no predicted samples. Use `zero_division` parameter to control this behavior.\n",
      "  _warn_prf(average, modifier, msg_start, len(result))\n",
      "/Users/piek/opt/anaconda3/lib/python3.7/site-packages/sklearn/metrics/_classification.py:1221: UndefinedMetricWarning: Recall and F-score are ill-defined and being set to 0.0 in labels with no true samples. Use `zero_division` parameter to control this behavior.\n",
      "  _warn_prf(average, modifier, msg_start, len(result))\n"
     ]
    }
   ],
   "source": [
    "# have classifier make a prediction\n",
    "tweet_pred_linear_embeddings = svm_linear_clf.predict(testDataVecs)\n",
    "report = classification_report(tweet_test_classes,tweet_pred_linear_embeddings,digits = 7)\n",
    "print(le.classes_)\n",
    "print('SVM NONLINEAR EMBEDDINGS ----------------------------------------------------------------')\n",
    "print(report)"
   ]
  },
  {
   "cell_type": "markdown",
   "metadata": {},
   "source": [
    "Because the tweets data is different from MELD, we see that there is no support for *disgust*, *neutral*, and *surprise*. These are not in the data set.\n",
    "There is data for *fear* and *joy* but the results are bad with zero recall and zero precision. This clearly shows you cannot easily deploy a classifier to other types of text."
   ]
  },
  {
   "cell_type": "markdown",
   "metadata": {},
   "source": [
    "### 3. Representing and classifying the tweets as a bag-of-words vector"
   ]
  },
  {
   "cell_type": "markdown",
   "metadata": {},
   "source": [
    "#### 3.1 Representing the tweets as BoW vectors"
   ]
  },
  {
   "cell_type": "markdown",
   "metadata": {},
   "source": [
    "In order to represent the test tweets according to our BoW vector representation derived from the MELD data, we need to load the *utterance_vec* file that we saved before."
   ]
  },
  {
   "cell_type": "code",
   "execution_count": 32,
   "metadata": {},
   "outputs": [],
   "source": [
    "# load the classifier and the vectorizer from disk\n",
    "filename_vectorizer = './models/utterance_vec.sav'\n",
    "loaded_vectorizer = pickle.load(open(filename_vectorizer, 'rb'))"
   ]
  },
  {
   "cell_type": "markdown",
   "metadata": {},
   "source": [
    "We can now apply the transform function to the tokenized tweets."
   ]
  },
  {
   "cell_type": "code",
   "execution_count": 33,
   "metadata": {},
   "outputs": [
    {
     "data": {
      "text/plain": [
       "(3142, 1217)"
      ]
     },
     "execution_count": 33,
     "metadata": {},
     "output_type": "execute_result"
    }
   ],
   "source": [
    "from sklearn.feature_extraction.text import CountVectorizer\n",
    "from sklearn.feature_extraction.text import TfidfTransformer\n",
    "\n",
    "#tfidf_transformer = TfidfTransformer()\n",
    "#utterance_tfidf = tfidf_transformer.fit_transform(utterance_counts)\n",
    "tweet_vectors = loaded_vectorizer.transform(tweet_test_instances)\n",
    "tweet_vectors.shape"
   ]
  },
  {
   "cell_type": "markdown",
   "metadata": {},
   "source": [
    "We can see that the matrix has vectors of the same size as before for the BoW token vectors."
   ]
  },
  {
   "cell_type": "markdown",
   "metadata": {},
   "source": [
    "We can now load the classifier and make the prediction in this data."
   ]
  },
  {
   "cell_type": "code",
   "execution_count": 34,
   "metadata": {},
   "outputs": [],
   "source": [
    "# the classifier on disk\n",
    "filename_classifier = './models/svm_linear_clf_bow.sav'\n",
    "\n",
    "loaded_bow_classifier = pickle.load(open(filename_classifier, 'rb'))\n",
    "\n",
    "pred_from_loaded_bow_classifier = loaded_bow_classifier.predict(tweet_vectors)"
   ]
  },
  {
   "cell_type": "code",
   "execution_count": 36,
   "metadata": {},
   "outputs": [
    {
     "name": "stdout",
     "output_type": "stream",
     "text": [
      "['anger' 'fear' 'joy' 'sadness']\n",
      "SVM LINEAR BOW ----------------------------------------------------------------\n",
      "              precision    recall  f1-score   support\n",
      "\n",
      "           0  0.3082707 0.1618421 0.2122519       760\n",
      "           1  0.3116883 0.0482412 0.0835509       995\n",
      "           2  0.1612903 0.0070028 0.0134228       714\n",
      "           3  0.2046385 0.2228826 0.2133713       673\n",
      "           4  0.0000000 0.0000000 0.0000000         0\n",
      "           5  0.0000000 0.0000000 0.0000000         0\n",
      "           6  0.0000000 0.0000000 0.0000000         0\n",
      "\n",
      "    accuracy                      0.1037556      3142\n",
      "   macro avg  0.1408411 0.0628527 0.0746567      3142\n",
      "weighted avg  0.2537551 0.1037556 0.1265523      3142\n",
      "\n"
     ]
    }
   ],
   "source": [
    "from sklearn.metrics import classification_report\n",
    "\n",
    "report = classification_report(tweet_test_classes,pred_from_loaded_bow_classifier,digits = 7)\n",
    "print(le.classes_)\n",
    "print('SVM LINEAR BOW ----------------------------------------------------------------')\n",
    "print(report)"
   ]
  },
  {
   "cell_type": "markdown",
   "metadata": {},
   "source": [
    "We can observe that the BoW SVM classifier trained from MELD again performs slightly better than the MELD embeddings SVM classifier. We now do get a score for *fear* and *joy*. Nevertheless, the scores are very low compared to the classifier trained on the tweet training data, which confirms that domain and genre bias of the classifiers."
   ]
  },
  {
   "cell_type": "markdown",
   "metadata": {},
   "source": [
    "# End of notebook"
   ]
  },
  {
   "cell_type": "code",
   "execution_count": null,
   "metadata": {},
   "outputs": [],
   "source": []
  }
 ],
 "metadata": {
  "kernelspec": {
   "display_name": "Python 3",
   "language": "python",
   "name": "python3"
  },
  "language_info": {
   "codemirror_mode": {
    "name": "ipython",
    "version": 3
   },
   "file_extension": ".py",
   "mimetype": "text/x-python",
   "name": "python",
   "nbconvert_exporter": "python",
   "pygments_lexer": "ipython3",
   "version": "3.7.6"
  }
 },
 "nbformat": 4,
 "nbformat_minor": 4
}
