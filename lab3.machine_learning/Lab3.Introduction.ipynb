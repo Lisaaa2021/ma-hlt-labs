{
 "cells": [
  {
   "cell_type": "markdown",
   "metadata": {},
   "source": [
    "# Lab3 Introduction"
   ]
  },
  {
   "cell_type": "markdown",
   "metadata": {},
   "source": [
    "Copyright: Vrije Universiteit Amsterdam, Faculty of Humanities, CLTL\n",
    "\n",
    "RMA/Text Mining MA, Introduction to HLT\n",
    "\n",
    "In Lab3, we are going to introduce machine learning. Lab3 contains the following notebooks:\n",
    "\n",
    "<ol>\n",
    "    <li>Lab3.1.ml.basics.ipynb\n",
    "    <li>Lab3.2.ml.evaluation.ipynb\n",
    "    <li>Lab3.3.rules.sentiment-analysis-with-VADER.ipynb\n",
    "    <li>Lab3.4.ml.sentiment-analysis-with-sklearn.ipynb\n",
    "    <li>Lab3.5.ml.emotion-detection-bow.ipynb\n",
    "    <li>Lab3.6.ml.emotion-detection-word-embeddings.ipynb\n",
    "    <li>Lab3.7.ml.emotion-detection-on-tweets.ipynb\n",
    "</ol>\n",
    "\n",
    "Lab3.1 and Lab3.2 explain the basics of machine learning and introduce the machine learning package *sklearn*. In Lab3.1, you build a classifier with some toy data. In Lab3.2, we explain the basics for evaluating a system using *sklearn* functions.\n",
    "\n",
    "## Sentiment of text\n",
    "In Lab3.3, we introduce the VADER module that is included in NLTK. VADER is rule based and uses a lexicon with sentiment scores assigned by the crowd for tweets. Next in Lab3.4, we explain how you can also assign sentiment to tweets by training a classifier from positive and negative tweets, as well as from positive and negative movie reviews.\n",
    "\n",
    "## Emotion in text\n",
    "Lab3.5, 3.6 and 3.7 deal with assigning emotion labels to texts. Emotions are more complex than sentiment and more difficult to detect. We will use a classical set of 6 basic emotions and we are going to look at a data set that is derived from the series *Friends*. We train an emotion classifier that uses a Bag-of-Words representation of text (Lab3.5) and another classifier that uses word-embeddings instead (Lab3.6). In Lab3.7, we check what happens if we apply these classifiers to tweets that have been annotated with emotions instead of multimodal conversations in *Friends* (on which they were trained).\n",
    "\n",
    "Lab3.5, 3.6 and 3.7 are essential for the final assignment of this course. Make sure you can run these notebooks yourself (without the group) and know how to build and test an emotion classifier."
   ]
  },
  {
   "cell_type": "markdown",
   "metadata": {},
   "source": [
    "## End of this notebook"
   ]
  },
  {
   "cell_type": "code",
   "execution_count": null,
   "metadata": {},
   "outputs": [],
   "source": []
  }
 ],
 "metadata": {
  "kernelspec": {
   "display_name": "Python 3",
   "language": "python",
   "name": "python3"
  },
  "language_info": {
   "codemirror_mode": {
    "name": "ipython",
    "version": 3
   },
   "file_extension": ".py",
   "mimetype": "text/x-python",
   "name": "python",
   "nbconvert_exporter": "python",
   "pygments_lexer": "ipython3",
   "version": "3.7.6"
  }
 },
 "nbformat": 4,
 "nbformat_minor": 4
}
