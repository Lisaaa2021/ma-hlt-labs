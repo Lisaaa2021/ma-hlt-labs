{
 "cells": [
  {
   "cell_type": "markdown",
   "metadata": {},
   "source": [
    "# Lab3 Assignment"
   ]
  },
  {
   "cell_type": "markdown",
   "metadata": {},
   "source": [
    "Copyright, Vrije Universiteit Amsterdam, Faculty of Humanities, CLTL"
   ]
  },
  {
   "cell_type": "markdown",
   "metadata": {},
   "source": [
    "Points: each exercise is prefixed with the number of points you can obtain for the exercise. However, these points are just an indication of what parts we value more. The assignment itself is assessed as PASS/NO-PASS. In general, we value a critical analysis of running code more than just showing tat you can create or run the code. So if you succesfully carried out the instructed commands in a notebook you are not done yet. We want you to analyse, understand what the code is doing with langauge and text. Be critical, think about how to explain what you observe and write this down in the notebook after running the code. It will be clear in the assignment when we expect this from you.\n",
    "\n",
    "You can make the assignment as a group but make sure that you understand and can carry out the coding yourself. You need these skills for your final assignment that is graded. Feedback will be given at the group level."
   ]
  },
  {
   "cell_type": "markdown",
   "metadata": {},
   "source": [
    "In this assignment, you need to train a classifier with different vocabulary settings. In the notebooks of Lab3, we provided a Python file *lab3_util.py* with the function: *getMostFrequentWords*. This function reads the text data and extracts a list of words above a frequency threshold. The resulting word list was used as a filter for the classifiers built with embeddings: see the other functions in *lab3_util.py*\n",
    "\n",
    "What to do for this assignment:\n",
    "\n",
    "<ol>\n",
    "    <li>Define your own function that creates a word filter and add this to your *lab3_util.py*\n",
    "    <li>Build a classifier fromebeddings for MELD or tweet (you choice) using your filter and another classifier not using your filter but using the given function *getMostFrequentWords*\n",
    "    <li>Discuss the results    \n",
    "</ol>\n",
    "\n",
    "Some tips:\n",
    "\n",
    "* you can include your function in *Lab3_util.py* and import it instead of including it in your notebook but do not forget to include the file in your submission\n",
    "* Possible filters are: select words with a certain part-of-speech, use words with a middle frequency (exclude high-frequent and low-frequent words), select words with certain dependency relations\n",
    "* Depending on the filter, you may need NLTK or spaCy to process the text\n",
    "* We value a good motivation and discussion. Think about the filter in relation to the way embeddings are averaged.\n",
    "\n",
    "Finally, you will need this assignment also for your final assignment. Although this is a group assignment, your final assignment is individually so make sure you can run the code yourself.\n",
    "\n",
    "For submission you can make a PDF of your notebook and submit the notebook. Do *NOT FORGET* to also include the lab3_util.py in the zip file.\n"
   ]
  },
  {
   "cell_type": "markdown",
   "metadata": {},
   "source": [
    "## 1. Vocabulary filter (4 Points)"
   ]
  },
  {
   "cell_type": "markdown",
   "metadata": {},
   "source": [
    "[Here comes your motivation and explanation for your vocabulary filter]"
   ]
  },
  {
   "cell_type": "code",
   "execution_count": 2,
   "metadata": {},
   "outputs": [],
   "source": [
    "#[Here comes the code with your own vocabulary filter]"
   ]
  },
  {
   "cell_type": "markdown",
   "metadata": {},
   "source": [
    "## 2. Build your classifiers with and without the filter (2 Points)"
   ]
  },
  {
   "cell_type": "code",
   "execution_count": 3,
   "metadata": {},
   "outputs": [],
   "source": [
    "#[Here comes the code to build two classifiers from the same training data with different filters]"
   ]
  },
  {
   "cell_type": "code",
   "execution_count": 4,
   "metadata": {},
   "outputs": [],
   "source": [
    "#[Here comes the code representation of the test data]"
   ]
  },
  {
   "cell_type": "code",
   "execution_count": 5,
   "metadata": {},
   "outputs": [],
   "source": [
    "#[Here comes the evaluation of both classifiers]"
   ]
  },
  {
   "cell_type": "markdown",
   "metadata": {},
   "source": [
    "## 3. Discussion (4 Points)"
   ]
  },
  {
   "cell_type": "markdown",
   "metadata": {},
   "source": [
    "[Here comes you discussion about the result and reflection on your filter]"
   ]
  },
  {
   "cell_type": "markdown",
   "metadata": {},
   "source": [
    "# End of the assignment"
   ]
  },
  {
   "cell_type": "code",
   "execution_count": null,
   "metadata": {},
   "outputs": [],
   "source": []
  }
 ],
 "metadata": {
  "kernelspec": {
   "display_name": "Python 3",
   "language": "python",
   "name": "python3"
  },
  "language_info": {
   "codemirror_mode": {
    "name": "ipython",
    "version": 3
   },
   "file_extension": ".py",
   "mimetype": "text/x-python",
   "name": "python",
   "nbconvert_exporter": "python",
   "pygments_lexer": "ipython3",
   "version": "3.7.6"
  }
 },
 "nbformat": 4,
 "nbformat_minor": 4
}
